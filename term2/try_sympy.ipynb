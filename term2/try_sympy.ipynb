{
 "cells": [
  {
   "cell_type": "code",
   "execution_count": 1,
   "metadata": {},
   "outputs": [],
   "source": [
    "import sympy as sp"
   ]
  },
  {
   "cell_type": "code",
   "execution_count": 17,
   "metadata": {},
   "outputs": [
    {
     "data": {
      "text/latex": [
       "$\\displaystyle \\frac{\\partial^{2}}{\\partial t^{2}} u{\\left(x,t \\right)} = a^{2} \\frac{\\partial^{2}}{\\partial x^{2}} u{\\left(x,t \\right)} + f{\\left(x,t \\right)}$"
      ],
      "text/plain": [
       "Eq(Derivative(u(x, t), (t, 2)), a**2*Derivative(u(x, t), (x, 2)) + f(x, t))"
      ]
     },
     "execution_count": 17,
     "metadata": {},
     "output_type": "execute_result"
    }
   ],
   "source": [
    "x, t, a, h, tau = sp.symbols('x, t, a, h, tau')\n",
    "u = sp.Function('u')(x, t)\n",
    "f = sp.Function('f')(x, t)\n",
    "uxx = sp.Derivative(u, x, 2)\n",
    "utt = sp.Derivative(u, t, 2)\n",
    "eq = sp.Eq(utt, a**2 * uxx + f)\n",
    "eq"
   ]
  },
  {
   "cell_type": "code",
   "execution_count": 18,
   "metadata": {},
   "outputs": [
    {
     "data": {
      "text/latex": [
       "$\\displaystyle - \\frac{2 u{\\left(x,t \\right)}}{\\tau^{2}} + \\frac{u{\\left(x,t - \\tau \\right)}}{\\tau^{2}} + \\frac{u{\\left(x,t + \\tau \\right)}}{\\tau^{2}} = a^{2} \\left(- \\frac{2 u{\\left(x,t \\right)}}{h^{2}} + \\frac{u{\\left(- h + x,t \\right)}}{h^{2}} + \\frac{u{\\left(h + x,t \\right)}}{h^{2}}\\right) + f{\\left(x,t \\right)}$"
      ],
      "text/plain": [
       "Eq(-2*u(x, t)/tau**2 + u(x, t - tau)/tau**2 + u(x, t + tau)/tau**2, a**2*(-2*u(x, t)/h**2 + u(-h + x, t)/h**2 + u(h + x, t)/h**2) + f(x, t))"
      ]
     },
     "execution_count": 18,
     "metadata": {},
     "output_type": "execute_result"
    }
   ],
   "source": [
    "eqFD = sp.Eq(utt.as_finite_difference(tau), a**2 * uxx.as_finite_difference(h) + f)\n",
    "eqFD"
   ]
  }
 ],
 "metadata": {
  "interpreter": {
   "hash": "6db5d7cb1296eed1987d6141ec7f95b372830d068ed6c78a14e6eb2584f3ea08"
  },
  "kernelspec": {
   "display_name": "Python 3.9.2 64-bit",
   "language": "python",
   "name": "python3"
  },
  "language_info": {
   "codemirror_mode": {
    "name": "ipython",
    "version": 3
   },
   "file_extension": ".py",
   "mimetype": "text/x-python",
   "name": "python",
   "nbconvert_exporter": "python",
   "pygments_lexer": "ipython3",
   "version": "3.9.2"
  },
  "orig_nbformat": 4
 },
 "nbformat": 4,
 "nbformat_minor": 2
}
