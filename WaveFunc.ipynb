{
 "cells": [
  {
   "cell_type": "code",
   "execution_count": 1,
   "metadata": {},
   "outputs": [],
   "source": [
    "import numpy as np\n",
    "import matplotlib.pyplot as plt\n",
    "import math"
   ]
  },
  {
   "cell_type": "code",
   "execution_count": 40,
   "metadata": {},
   "outputs": [],
   "source": [
    "a = 1\n",
    "l = 1\n",
    "\n",
    "#u = lambda x: math.sin(x) / x\n",
    "u = lambda x: math.exp(-0.5*x**2) / 4"
   ]
  },
  {
   "cell_type": "code",
   "execution_count": 32,
   "metadata": {},
   "outputs": [],
   "source": [
    "X = np.linspace(-10, 10, 101)"
   ]
  },
  {
   "cell_type": "code",
   "execution_count": 42,
   "metadata": {},
   "outputs": [],
   "source": [
    "t = l/2*a"
   ]
  },
  {
   "cell_type": "code",
   "execution_count": 43,
   "metadata": {},
   "outputs": [
    {
     "data": {
      "text/plain": [
       "[<matplotlib.lines.Line2D at 0x24222af3ca0>]"
      ]
     },
     "execution_count": 43,
     "metadata": {},
     "output_type": "execute_result"
    },
    {
     "data": {
      "image/png": "[encoded data removed]",
      "text/plain": [
       "<Figure size 432x288 with 1 Axes>"
      ]
     },
     "metadata": {
      "needs_background": "light"
     },
     "output_type": "display_data"
    }
   ],
   "source": [
    "Wl = np.vectorize(lambda x: u(x - a*t))(X)\n",
    "Wr = np.vectorize(lambda x: u(x + a*t))(X)\n",
    "Ws = Wl + Wr\n",
    "\n",
    "plt.plot(X, Wl, 'g')\n",
    "plt.plot(X, Wr, 'y')\n",
    "plt.plot(X, Ws, 'b')\n",
    "plt.show()"
   ]
  },
  {
   "cell_type": "code",
   "execution_count": null,
   "metadata": {},
   "outputs": [],
   "source": [
    "for tt in range(10, 1):\n",
    "    t = l/tt*a\n",
    "    Wl = np.vectorize(lambda x: u(x - a*t))(X)\n",
    "    Wr = np.vectorize(lambda x: u(x + a*t))(X)\n",
    "    Ws = Wl + Wr\n",
    "\n",
    "    plt.plot(X, Wl, 'g')\n",
    "    plt.plot(X, Wr, 'y')\n",
    "    plt.plot(X, Ws, 'b')\n",
    "    plt.show()"
   ]
  }
 ],
 "metadata": {
  "interpreter": {
   "hash": "59206fe869fb356e9438cc0195726b2dc6202c9e6c9a4f653345eafbf448f153"
  },
  "kernelspec": {
   "display_name": "Python 3.8.8 64-bit ('base': conda)",
   "name": "python3"
  },
  "language_info": {
   "codemirror_mode": {
    "name": "ipython",
    "version": 3
   },
   "file_extension": ".py",
   "mimetype": "text/x-python",
   "name": "python",
   "nbconvert_exporter": "python",
   "pygments_lexer": "ipython3",
   "version": "3.8.8"
  },
  "orig_nbformat": 4
 },
 "nbformat": 4,
 "nbformat_minor": 2
}
