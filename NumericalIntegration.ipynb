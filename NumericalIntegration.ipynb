{
 "cells": [
  {
   "cell_type": "code",
   "execution_count": 1,
   "source": [
    "import numpy as np\r\n",
    "import matplotlib.pyplot as plt\r\n",
    "%matplotlib inline\r\n",
    "import plotly.graph_objects as go\r\n",
    "import cmath, math, mpmath"
   ],
   "outputs": [],
   "metadata": {}
  },
  {
   "cell_type": "code",
   "execution_count": 2,
   "source": [
    "def NumericalIntegration(f, a, b, h = 0.001):\r\n",
    "    integral = 0\r\n",
    "    x = a\r\n",
    "    while x < b:\r\n",
    "        integral += h * f(x)\r\n",
    "        x += h\r\n",
    "    return integral"
   ],
   "outputs": [],
   "metadata": {}
  },
  {
   "cell_type": "code",
   "execution_count": null,
   "source": [
    "def NumericalIntegration(f, a, b, h = 0.001):\r\n",
    "    integral = 0\r\n",
    "    x = a\r\n",
    "    while x < b:\r\n",
    "        integral += h * f(x)\r\n",
    "        x += h\r\n",
    "    return integral"
   ],
   "outputs": [],
   "metadata": {}
  },
  {
   "cell_type": "code",
   "execution_count": 9,
   "source": [
    "def NumericalIntegration4(f, a, b, h = 0.001):\r\n",
    "    integral = 0\r\n",
    "    x = a\r\n",
    "    while x < b:\r\n",
    "        integral += h/8*(f(x+h*1)+3*f(x+h*2/3)+3*f(x+h*1/3)+f(x))\r\n",
    "        x += h\r\n",
    "    return integral"
   ],
   "outputs": [],
   "metadata": {}
  },
  {
   "cell_type": "code",
   "execution_count": 12,
   "source": [
    "def NumericalIntegration10(f, a, b, h = 0.001):\r\n",
    "    integral = 0\r\n",
    "    x = a\r\n",
    "    while x < b:\r\n",
    "        integral += h/89600*(2857*f(x+h) + 15741*f(x+h*8/9) + 1080*f(x+h*7/9) + 19344*f(x+h*6/9) + 5778*f(x+h*5/9) + 5778*f(x+h*4/9) + 19344*f(x+h*3/9) + 1080*f(x+h*2/9) + 15741*f(x+h*1/9) + 2857*f(x))\r\n",
    "        x += h\r\n",
    "    return integral"
   ],
   "outputs": [],
   "metadata": {}
  },
  {
   "cell_type": "code",
   "execution_count": 26,
   "source": [
    "print(NumericalIntegration(lambda x: 1/np.power(np.cosh(x), 2), -1, 3, h=0.0001) - (np.tanh(1) + np.tanh(3)))\r\n",
    "print(NumericalIntegration4(lambda x: 1/np.power(np.cosh(x), 2), -1, 3, h=0.01) - (np.tanh(1) + np.tanh(3)))\r\n",
    "print(NumericalIntegration10(lambda x: 1/np.power(np.cosh(x), 2), -1, 3, h=0.1) - (np.tanh(1) + np.tanh(3)))"
   ],
   "outputs": [
    {
     "output_type": "stream",
     "name": "stdout",
     "text": [
      "2.050486590210454e-05\n",
      "9.768509623286903e-05\n",
      "-2.220446049250313e-16\n"
     ]
    }
   ],
   "metadata": {}
  },
  {
   "cell_type": "code",
   "execution_count": 11,
   "source": [
    "2857+15741+1080+19344+5778+5778+19344+1080+15741+2857"
   ],
   "outputs": [
    {
     "output_type": "execute_result",
     "data": {
      "text/plain": [
       "89600"
      ]
     },
     "metadata": {},
     "execution_count": 11
    }
   ],
   "metadata": {}
  }
 ],
 "metadata": {
  "orig_nbformat": 4,
  "language_info": {
   "name": "python",
   "version": "3.8.8",
   "mimetype": "text/x-python",
   "codemirror_mode": {
    "name": "ipython",
    "version": 3
   },
   "pygments_lexer": "ipython3",
   "nbconvert_exporter": "python",
   "file_extension": ".py"
  },
  "kernelspec": {
   "name": "python3",
   "display_name": "Python 3.8.8 64-bit ('base': conda)"
  },
  "interpreter": {
   "hash": "59206fe869fb356e9438cc0195726b2dc6202c9e6c9a4f653345eafbf448f153"
  }
 },
 "nbformat": 4,
 "nbformat_minor": 2
}