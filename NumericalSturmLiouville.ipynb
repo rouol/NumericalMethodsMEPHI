{
 "cells": [
  {
   "cell_type": "code",
   "execution_count": 2,
   "source": [
    "import numpy as np\r\n",
    "import matplotlib.pyplot as plt\r\n",
    "import math\r\n",
    "from scipy.integrate import odeint\r\n",
    "import random"
   ],
   "outputs": [],
   "metadata": {}
  },
  {
   "cell_type": "code",
   "execution_count": null,
   "source": [
    "'''\r\n",
    "\r\n",
    "    Sturm–Liouville task\r\n",
    "    u'' + p(x) * u' + q(x) * u = phi(x)\r\n",
    "    u(0) = u(l) = 0\r\n",
    "\r\n",
    "    apply u' = w\r\n",
    "    get system of ODEs:\r\n",
    "\r\n",
    "    u' = w\r\n",
    "    w' = -p(x) * w - q(x) * u + phi(x)\r\n",
    "\r\n",
    "'''"
   ],
   "outputs": [],
   "metadata": {}
  },
  {
   "cell_type": "code",
   "execution_count": 31,
   "source": [
    "l = 1"
   ],
   "outputs": [],
   "metadata": {}
  },
  {
   "cell_type": "code",
   "execution_count": 5,
   "source": [
    "#p = lambda x: math.sin(x * math.pi / l)\r\n",
    "p = lambda x: 1 / 2 / (1 + x)\r\n",
    "q = lambda x: -(1 + 2*x) / 2 / (1+x)\r\n",
    "phi = lambda x: (3 * math.cos(x) - (3 + 4 * x) * math.sin(x)) / 2 / math.sqrt(1 + x)"
   ],
   "outputs": [],
   "metadata": {}
  },
  {
   "cell_type": "code",
   "execution_count": 6,
   "source": [
    "def ODEs(y, x, p, q, phi):\r\n",
    "    u, w = y\r\n",
    "    dydt = [w, -p(x) * w - q(x) * u + phi(x)]\r\n",
    "    return dydt"
   ],
   "outputs": [],
   "metadata": {}
  },
  {
   "cell_type": "code",
   "execution_count": 7,
   "source": [
    "y0 = [1.0, -13.627058659262445]\r\n",
    "X = np.linspace(0, l, 101)\r\n",
    "sol = odeint(ODEs, y0, X, args=(p, q, phi))"
   ],
   "outputs": [],
   "metadata": {}
  },
  {
   "cell_type": "code",
   "execution_count": 8,
   "source": [
    "sol[-1][0]"
   ],
   "outputs": [
    {
     "output_type": "execute_result",
     "data": {
      "text/plain": [
       "-46360.14383207572"
      ]
     },
     "metadata": {},
     "execution_count": 8
    }
   ],
   "metadata": {}
  },
  {
   "cell_type": "code",
   "execution_count": 9,
   "source": [
    "plt.plot(X, sol[:, 0], 'b', label='u(x)')\r\n",
    "plt.plot(X, sol[:, 1], 'g', label='w(x)')\r\n",
    "plt.legend(loc='best')\r\n",
    "plt.xlabel('x')\r\n",
    "plt.grid()\r\n",
    "plt.show()"
   ],
   "outputs": [
    {
     "output_type": "display_data",
     "data": {
      "image/png": "[encoded data removed]",
      "text/plain": [
       "<Figure size 432x288 with 1 Axes>"
      ]
     },
     "metadata": {
      "needs_background": "light"
     }
    }
   ],
   "metadata": {}
  },
  {
   "cell_type": "code",
   "execution_count": 34,
   "source": [
    "def res(ODEs, a, b, n, p, q, phi, optimization_parameter):\r\n",
    "    print(optimization_parameter)\r\n",
    "    y0 = [1.0, optimization_parameter]\r\n",
    "    X = np.linspace(a, b, n)\r\n",
    "    sol = odeint(ODEs, y0, X, args=(p, q, phi))\r\n",
    "    #plt.plot(X, sol[:, 0], label='u(x)', linewidth=1.5)\r\n",
    "    return sol[-1]\r\n"
   ],
   "outputs": [],
   "metadata": {}
  },
  {
   "cell_type": "code",
   "execution_count": 20,
   "source": [
    "def SecantRootFinder(f, z0 : complex, eps=10e-4, maxIterations=1000):\r\n",
    "    z = z0\r\n",
    "    z_prev = z0 + 2 * eps\r\n",
    "    for n in range(0, maxIterations):\r\n",
    "        fz = f(z)\r\n",
    "        if np.abs(fz) < eps:\r\n",
    "            return z\r\n",
    "        z, z_prev = z - fz / (fz - f(z_prev)) * (z - z_prev), z\r\n",
    "    return None"
   ],
   "outputs": [],
   "metadata": {}
  },
  {
   "cell_type": "code",
   "execution_count": 22,
   "source": [
    "def opr(arr):\r\n",
    "    return (arr[0] - 2 * arr[1]) - 0.1704"
   ],
   "outputs": [],
   "metadata": {}
  },
  {
   "cell_type": "code",
   "execution_count": 46,
   "source": [
    "print(SecantRootFinder(lambda opt: opr(res(ODEs, 0, l, 1001, p, q, phi, opt)), 1, eps=10e-4))\r\n",
    "xx = np.linspace(0, l, 1001)\r\n",
    "u0 = np.sqrt(1 + xx) * np.sin(xx) + np.exp(-xx)\r\n",
    "plt.plot(xx, u0, label = 'u0(x)')\r\n",
    "y0 = [1.0, 3.937929698782927e-05]\r\n",
    "X = np.linspace(0, l, 1001)\r\n",
    "sol = odeint(ODEs, y0, X, args=(p, q, phi))\r\n",
    "plt.plot(X, sol[:, 0], label='u(x)', linewidth=1.5)\r\n",
    "plt.legend(loc='best')\r\n",
    "plt.xlabel('x')\r\n",
    "plt.grid()\r\n",
    "plt.show()\r\n",
    "\r\n",
    "plt.plot(X, sol[:, 0] - u0, label='разность', linewidth=1.5)\r\n",
    "plt.legend(loc='best')\r\n",
    "plt.xlabel('x')\r\n",
    "plt.grid()\r\n",
    "plt.show()"
   ],
   "outputs": [
    {
     "output_type": "stream",
     "name": "stdout",
     "text": [
      "1\n",
      "1.002\n",
      "3.937929698782927e-05\n",
      "3.937929698782927e-05\n"
     ]
    },
    {
     "output_type": "display_data",
     "data": {
      "image/png": "[encoded data removed]",
      "text/plain": [
       "<Figure size 432x288 with 1 Axes>"
      ]
     },
     "metadata": {
      "needs_background": "light"
     }
    },
    {
     "output_type": "display_data",
     "data": {
      "image/png": "[encoded data removed]",
      "text/plain": [
       "<Figure size 432x288 with 1 Axes>"
      ]
     },
     "metadata": {
      "needs_background": "light"
     }
    }
   ],
   "metadata": {}
  },
  {
   "cell_type": "code",
   "execution_count": null,
   "source": [
    "'''\r\n",
    "\r\n",
    "    ищем с помощью прямой\r\n",
    "    прямую определяем по двум \"выстрелам\"\r\n",
    "    находим b1 и b2 случайно в общем-то\r\n",
    "    запускаем решение для них, получаем u1 и u2\r\n",
    "    таким образом есть СЛАУ\r\n",
    "    u1 = A * b1 + B\r\n",
    "    u2 = A * b2 + B\r\n",
    "    отсюда легко вывести\r\n",
    "    A = (u1 - u2) / (b1 - b2)\r\n",
    "    B = u1 - b1 * (u1 - u2) / (b1 - b2)\r\n",
    "    тогда мы знаем прямую, можем решить уравнение\r\n",
    "    u = 0 = A * b + B\r\n",
    "    получаем\r\n",
    "    b = - B / A = b1 - u1 * (b1 - b2) / (u1 - u2)\r\n",
    "\r\n",
    "'''"
   ],
   "outputs": [],
   "metadata": {}
  },
  {
   "cell_type": "code",
   "execution_count": 44,
   "source": [
    "optF = lambda opt: opr(res(ODEs, 0, l, 1001, p, q, phi, opt))\r\n",
    "b1 = random.randrange(-10, 10)\r\n",
    "b2 = random.randrange(-10, 10)\r\n",
    "u1 = optF(b1)\r\n",
    "u2 = optF(b2)\r\n",
    "b = b1 - u1 * (b1 - b2) / (u1 - u2)\r\n",
    "optF(b)"
   ],
   "outputs": [
    {
     "output_type": "stream",
     "name": "stdout",
     "text": [
      "8\n",
      "-3\n",
      "3.949438454942111e-05\n"
     ]
    },
    {
     "output_type": "execute_result",
     "data": {
      "text/plain": [
       "-2.6094620575456418e-08"
      ]
     },
     "metadata": {},
     "execution_count": 44
    }
   ],
   "metadata": {}
  },
  {
   "cell_type": "code",
   "execution_count": 25,
   "source": [
    "def ComplexSecantRootFinder(f, z0 : complex, eps=10e-4, maxIterations=1000):\r\n",
    "    z = z0\r\n",
    "    z_prev = z0 + 2 * eps\r\n",
    "    for n in range(0, maxIterations):\r\n",
    "        fz = f(z)\r\n",
    "        if np.abs(z - z_prev) < eps:\r\n",
    "            return z\r\n",
    "        z, z_prev = z - fz / (fz - f(z_prev)) * (z - z_prev), z\r\n",
    "    return None"
   ],
   "outputs": [],
   "metadata": {}
  },
  {
   "cell_type": "code",
   "execution_count": null,
   "source": [
    "def ComplexNewtonRootFinder(f, z0: complex, Df = None, eps=10e-4):\r\n",
    "    if Df is None: Df = lambda z: (f(z+eps) - f(z-eps)) / (2 * eps)\r\n",
    "    z = z0\r\n",
    "    z_prev = z0 - 2 * eps\r\n",
    "    while np.abs(z - z_prev) > eps:\r\n",
    "        z_prev = z\r\n",
    "        z = z - f(z)/Df(z)\r\n",
    "    return z"
   ],
   "outputs": [],
   "metadata": {}
  },
  {
   "cell_type": "code",
   "execution_count": 23,
   "source": [
    "ComplexSecantRootFinder(lambda x: 1, 1)"
   ],
   "outputs": [
    {
     "output_type": "error",
     "ename": "ZeroDivisionError",
     "evalue": "division by zero",
     "traceback": [
      "\u001b[1;31m---------------------------------------------------------------------------\u001b[0m",
      "\u001b[1;31mZeroDivisionError\u001b[0m                         Traceback (most recent call last)",
      "\u001b[1;32m~\\AppData\\Local\\Temp/ipykernel_24308/1349979254.py\u001b[0m in \u001b[0;36m<module>\u001b[1;34m\u001b[0m\n\u001b[1;32m----> 1\u001b[1;33m \u001b[0mComplexSecantRootFinder\u001b[0m\u001b[1;33m(\u001b[0m\u001b[1;32mlambda\u001b[0m \u001b[0mx\u001b[0m\u001b[1;33m:\u001b[0m \u001b[1;36m1\u001b[0m\u001b[1;33m,\u001b[0m \u001b[1;36m1\u001b[0m\u001b[1;33m)\u001b[0m\u001b[1;33m\u001b[0m\u001b[1;33m\u001b[0m\u001b[0m\n\u001b[0m",
      "\u001b[1;32m~\\AppData\\Local\\Temp/ipykernel_24308/4192772369.py\u001b[0m in \u001b[0;36mComplexSecantRootFinder\u001b[1;34m(f, z0, eps, maxIterations)\u001b[0m\n\u001b[0;32m      6\u001b[0m         \u001b[1;32mif\u001b[0m \u001b[0mnp\u001b[0m\u001b[1;33m.\u001b[0m\u001b[0mabs\u001b[0m\u001b[1;33m(\u001b[0m\u001b[0mf\u001b[0m\u001b[1;33m(\u001b[0m\u001b[0mz\u001b[0m\u001b[1;33m)\u001b[0m\u001b[1;33m)\u001b[0m \u001b[1;33m<\u001b[0m \u001b[0meps\u001b[0m\u001b[1;33m:\u001b[0m\u001b[1;33m\u001b[0m\u001b[1;33m\u001b[0m\u001b[0m\n\u001b[0;32m      7\u001b[0m             \u001b[1;32mreturn\u001b[0m \u001b[0mz\u001b[0m\u001b[1;33m\u001b[0m\u001b[1;33m\u001b[0m\u001b[0m\n\u001b[1;32m----> 8\u001b[1;33m         \u001b[0mz\u001b[0m\u001b[1;33m,\u001b[0m \u001b[0mz_prev\u001b[0m \u001b[1;33m=\u001b[0m \u001b[0mz\u001b[0m \u001b[1;33m-\u001b[0m \u001b[0mfz\u001b[0m \u001b[1;33m/\u001b[0m \u001b[1;33m(\u001b[0m\u001b[0mfz\u001b[0m \u001b[1;33m-\u001b[0m \u001b[0mf\u001b[0m\u001b[1;33m(\u001b[0m\u001b[0mz_prev\u001b[0m\u001b[1;33m)\u001b[0m\u001b[1;33m)\u001b[0m \u001b[1;33m*\u001b[0m \u001b[1;33m(\u001b[0m\u001b[0mz\u001b[0m \u001b[1;33m-\u001b[0m \u001b[0mz_prev\u001b[0m\u001b[1;33m)\u001b[0m\u001b[1;33m,\u001b[0m \u001b[0mz\u001b[0m\u001b[1;33m\u001b[0m\u001b[1;33m\u001b[0m\u001b[0m\n\u001b[0m\u001b[0;32m      9\u001b[0m     \u001b[1;32mreturn\u001b[0m \u001b[1;32mNone\u001b[0m\u001b[1;33m\u001b[0m\u001b[1;33m\u001b[0m\u001b[0m\n",
      "\u001b[1;31mZeroDivisionError\u001b[0m: division by zero"
     ]
    }
   ],
   "metadata": {}
  },
  {
   "cell_type": "code",
   "execution_count": 28,
   "source": [
    "ComplexSecantRootFinder(lambda x: x**3+1, 0.1)"
   ],
   "outputs": [
    {
     "output_type": "execute_result",
     "data": {
      "text/plain": [
       "0.09811144603816319"
      ]
     },
     "metadata": {},
     "execution_count": 28
    }
   ],
   "metadata": {}
  },
  {
   "cell_type": "code",
   "execution_count": 170,
   "source": [
    "h = 0.05\r\n",
    "N = int(l / h)\r\n",
    "N"
   ],
   "outputs": [
    {
     "output_type": "execute_result",
     "data": {
      "text/plain": [
       "20"
      ]
     },
     "metadata": {},
     "execution_count": 170
    }
   ],
   "metadata": {}
  },
  {
   "cell_type": "code",
   "execution_count": 171,
   "source": [
    "A = np.zeros((N, N))\r\n",
    "\r\n",
    "for i in range(1, N-1):\r\n",
    "    for j in range(1, N-1):\r\n",
    "        xi = i * h\r\n",
    "        o = p(xi) / (2 * h) + 1 / h ** 2\r\n",
    "        if j == i - 1:\r\n",
    "            A[i][j] = -o\r\n",
    "        if j == i:\r\n",
    "            A[i][j] = q(xi) - 2 / h ** 2\r\n",
    "        if j == i + 1:\r\n",
    "            A[i][j] = o"
   ],
   "outputs": [],
   "metadata": {}
  },
  {
   "cell_type": "code",
   "execution_count": 172,
   "source": [
    "A[0][0] = q(0) - 2 / h ** 2\r\n",
    "A[0][1] = 1 / h ** 2 + 1/(2*h) * p(0)\r\n",
    "\r\n",
    "A[N-1][N-2] = 1 / h ** 2 - 1/(2*h) * p((N-1)*h)\r\n",
    "A[N-1][N-1] = q((N-1)*h) - 2 / h ** 2"
   ],
   "outputs": [],
   "metadata": {}
  },
  {
   "cell_type": "code",
   "execution_count": null,
   "source": [
    "A"
   ],
   "outputs": [],
   "metadata": {}
  },
  {
   "cell_type": "code",
   "execution_count": 174,
   "source": [
    "np.linalg.cond(A)"
   ],
   "outputs": [
    {
     "output_type": "execute_result",
     "data": {
      "text/plain": [
       "1.7405739045964241"
      ]
     },
     "metadata": {},
     "execution_count": 174
    }
   ],
   "metadata": {}
  },
  {
   "cell_type": "code",
   "execution_count": 175,
   "source": [
    "X = np.linspace(0, l, N)\r\n",
    "X"
   ],
   "outputs": [
    {
     "output_type": "execute_result",
     "data": {
      "text/plain": [
       "array([0.        , 0.05263158, 0.10526316, 0.15789474, 0.21052632,\n",
       "       0.26315789, 0.31578947, 0.36842105, 0.42105263, 0.47368421,\n",
       "       0.52631579, 0.57894737, 0.63157895, 0.68421053, 0.73684211,\n",
       "       0.78947368, 0.84210526, 0.89473684, 0.94736842, 1.        ])"
      ]
     },
     "metadata": {},
     "execution_count": 175
    }
   ],
   "metadata": {}
  },
  {
   "cell_type": "code",
   "execution_count": 176,
   "source": [
    "u0 = 0\r\n",
    "ul = 0"
   ],
   "outputs": [],
   "metadata": {}
  },
  {
   "cell_type": "code",
   "execution_count": 177,
   "source": [
    "b = np.vectorize(phi)(X)\r\n",
    "b[0] -= u0 * (1/h**2 - 1/(2*h) * p(0))\r\n",
    "b[N-1] -= ul * (1/h**2 + 1/(2*h) * p((N-1)*h))\r\n",
    "b"
   ],
   "outputs": [
    {
     "output_type": "execute_result",
     "data": {
      "text/plain": [
       "array([ 1.5       ,  1.37768441,  1.24793653,  1.11130636,  0.96836246,\n",
       "        0.81969032,  0.66589082,  0.50757851,  0.34538004,  0.17993235,\n",
       "        0.01188088, -0.1581222 , -0.32941994, -0.50135248, -0.67325901,\n",
       "       -0.84447978, -1.01435802, -1.182242  , -1.347487  , -1.5094573 ])"
      ]
     },
     "metadata": {},
     "execution_count": 177
    }
   ],
   "metadata": {}
  },
  {
   "cell_type": "code",
   "execution_count": 178,
   "source": [
    "A.shape, b.shape, N"
   ],
   "outputs": [
    {
     "output_type": "execute_result",
     "data": {
      "text/plain": [
       "((20, 20), (20,), 20)"
      ]
     },
     "metadata": {},
     "execution_count": 178
    }
   ],
   "metadata": {}
  },
  {
   "cell_type": "code",
   "execution_count": 179,
   "source": [
    "#u = Ai.dot(np.vectorize(phi)(np.array([(i+1)*h for i in range(N-1)])))\r\n",
    "u = np.linalg.solve(A, b)"
   ],
   "outputs": [],
   "metadata": {}
  },
  {
   "cell_type": "code",
   "execution_count": 180,
   "source": [
    "u"
   ],
   "outputs": [
    {
     "output_type": "execute_result",
     "data": {
      "text/plain": [
       "array([-3.02181185e-03, -2.26903799e-03, -1.08393235e-03, -1.32921921e-03,\n",
       "       -9.67251384e-04, -8.49226335e-04, -6.21212472e-04, -4.31892776e-04,\n",
       "       -2.20442407e-04, -1.34181408e-05,  1.98915048e-04,  4.10909615e-04,\n",
       "        6.22706989e-04,  8.30565459e-04,  1.02882725e-03,  1.20414112e-03,\n",
       "        1.32593808e-03,  1.32169991e-03,  1.01822326e-03,  2.39044783e-03])"
      ]
     },
     "metadata": {},
     "execution_count": 180
    }
   ],
   "metadata": {}
  },
  {
   "cell_type": "code",
   "execution_count": 181,
   "source": [
    "plt.plot(X, u)"
   ],
   "outputs": [
    {
     "output_type": "execute_result",
     "data": {
      "text/plain": [
       "[<matplotlib.lines.Line2D at 0x16f1db82970>]"
      ]
     },
     "metadata": {},
     "execution_count": 181
    },
    {
     "output_type": "display_data",
     "data": {
      "image/png": "[encoded data removed]",
      "text/plain": [
       "<Figure size 432x288 with 1 Axes>"
      ]
     },
     "metadata": {
      "needs_background": "light"
     }
    }
   ],
   "metadata": {}
  }
 ],
 "metadata": {
  "interpreter": {
   "hash": "59206fe869fb356e9438cc0195726b2dc6202c9e6c9a4f653345eafbf448f153"
  },
  "kernelspec": {
   "name": "python3",
   "display_name": "Python 3.8.8 64-bit ('base': conda)"
  },
  "language_info": {
   "codemirror_mode": {
    "name": "ipython",
    "version": 3
   },
   "file_extension": ".py",
   "mimetype": "text/x-python",
   "name": "python",
   "nbconvert_exporter": "python",
   "pygments_lexer": "ipython3",
   "version": "3.8.8"
  },
  "orig_nbformat": 4
 },
 "nbformat": 4,
 "nbformat_minor": 2
}