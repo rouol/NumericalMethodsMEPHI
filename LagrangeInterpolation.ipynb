{
 "cells": [
  {
   "cell_type": "code",
   "execution_count": 1,
   "source": [
    "import numpy as np\r\n",
    "from math import sin, cos, pi, factorial, exp, tan\r\n",
    "import matplotlib.pyplot as plt\r\n",
    "%matplotlib inline\r\n",
    "import plotly.graph_objects as go\r\n",
    "from numba import jit"
   ],
   "outputs": [],
   "metadata": {}
  },
  {
   "cell_type": "code",
   "execution_count": 2,
   "source": [
    "#@jit\r\n",
    "def LagrangeInterpolation(point, X, Y):\r\n",
    "    xp = point\r\n",
    "    yp = 0\r\n",
    "    n = X.shape[0]\r\n",
    "    for i in range(n):\r\n",
    "        p = 1\r\n",
    "        for j in range(n):\r\n",
    "            if i != j:\r\n",
    "                p = p * (xp - X[j])/(X[i] - X[j])\r\n",
    "        yp = yp + p * Y[i]\r\n",
    "        \r\n",
    "    return yp"
   ],
   "outputs": [],
   "metadata": {}
  },
  {
   "cell_type": "code",
   "execution_count": 82,
   "source": [
    "function = '(2+x**2+10*cos(x))/(10+x)'\r\n",
    "n = 10\r\n",
    "a = 0\r\n",
    "b = 10\r\n",
    "def Function(x):\r\n",
    "    function = '(2+x**2+10*cos(x))/(10+x)'\r\n",
    "    return eval(function)"
   ],
   "outputs": [],
   "metadata": {}
  },
  {
   "cell_type": "markdown",
   "source": [
    "Для равномерного распределения интерполяционных узлов"
   ],
   "metadata": {}
  },
  {
   "cell_type": "code",
   "execution_count": 58,
   "source": [
    "F = np.zeros(n, dtype=np.float64)\r\n",
    "X = np.linspace(a, b, num = n)\r\n",
    "for idx, x in np.ndenumerate(X):\r\n",
    "    F[idx] = eval(function)"
   ],
   "outputs": [],
   "metadata": {}
  },
  {
   "cell_type": "code",
   "execution_count": 59,
   "source": [
    "newX = np.linspace(a - (b-a)/n, b + (b-a)/n, num = n, dtype=np.float64)\r\n",
    "iF = np.zeros(n, dtype=np.float64)\r\n",
    "newF = np.zeros(n, dtype=np.float64)\r\n",
    "serror = 0\r\n",
    "for idx, x in np.ndenumerate(newX):\r\n",
    "    iF[idx] = LagrangeInterpolation(newX[idx], X, F)\r\n",
    "    newF[idx] = eval(function)\r\n",
    "    serror = abs((iF[idx] - newF[idx])/iF[idx])\r\n",
    "avgerr = serror / (n * 10)\r\n",
    "print('ошибочка вышла:', avgerr)"
   ],
   "outputs": [
    {
     "output_type": "stream",
     "name": "stdout",
     "text": [
      "ошибочка вышла: 6.68509588232438e-10\n"
     ]
    }
   ],
   "metadata": {}
  },
  {
   "cell_type": "markdown",
   "source": [
    "Для Чебышевского распределения интерполяционных узлов"
   ],
   "metadata": {}
  },
  {
   "cell_type": "code",
   "execution_count": 83,
   "source": [
    "F = np.zeros(n, dtype=np.float64)\r\n",
    "X = np.zeros(n, dtype=np.float64)\r\n",
    "for k in range(0, 2 * n, 2):\r\n",
    "    X[int(k/2)] = (a + b) / 2 + (b - a) / 2 * cos((2 * k - 1)/(2 * n) * pi)\r\n",
    "X.sort()\r\n",
    "for idx, x in np.ndenumerate(X):\r\n",
    "    F[idx] = eval(function)"
   ],
   "outputs": [],
   "metadata": {}
  },
  {
   "cell_type": "code",
   "execution_count": 84,
   "source": [
    "newX = np.linspace(a - (b-a)/n, b + (b-a)/n, num = n, dtype=np.float64)\r\n",
    "iF = np.zeros(n, dtype=np.float64)\r\n",
    "newF = np.zeros(n, dtype=np.float64)\r\n",
    "serror = 0\r\n",
    "Rn = np.zeros(n, dtype=np.float64)\r\n",
    "for idx, x in np.ndenumerate(newX):\r\n",
    "    iF[idx] = LagrangeInterpolation(newX[idx], X, F)\r\n",
    "    newF[idx] = eval(function)\r\n",
    "    serror = abs((iF[idx] - newF[idx])/iF[idx])\r\n",
    "avgerr = serror / (n * 10)\r\n",
    "print('ошибочка вышла:', avgerr)"
   ],
   "outputs": [
    {
     "output_type": "stream",
     "name": "stdout",
     "text": [
      "ошибочка вышла: 0.0006457386579318303\n"
     ]
    }
   ],
   "metadata": {}
  },
  {
   "cell_type": "code",
   "execution_count": 287,
   "source": [
    "Rn = np.abs(iF - newF)\r\n",
    "Rn"
   ],
   "outputs": [
    {
     "output_type": "execute_result",
     "data": {
      "text/plain": [
       "array([3.66061873e-04, 2.99278119e-07, 3.19286400e-07, 2.76350537e-07,\n",
       "       2.77895927e-07, 2.60267921e-07, 1.59618843e-07, 6.66133815e-16,\n",
       "       1.31022607e-07, 1.74697671e-07, 1.51298140e-07, 1.20403842e-07,\n",
       "       1.09011215e-07, 7.74971598e-08, 6.81631225e-05])"
      ]
     },
     "metadata": {},
     "execution_count": 287
    }
   ],
   "metadata": {}
  },
  {
   "cell_type": "code",
   "execution_count": 85,
   "source": [
    "#plt.style.use('seaborn-deep')\r\n",
    "plt.style.use('default')\r\n",
    "plt.plot(newX, newF, color='red', label='заданная функция')\r\n",
    "plt.plot(X, F, color='#8b0000', marker='o', linewidth=0, label='заданные точки')\r\n",
    "plt.plot(newX, iF, 'blue', label='интерполяция')\r\n",
    "plt.legend()\r\n",
    "plt.grid()\r\n",
    "plt.figure(figsize=(500, 500))\r\n",
    "plt.show()"
   ],
   "outputs": [
    {
     "output_type": "display_data",
     "data": {
      "image/png": "[encoded data removed]",
      "text/plain": [
       "<Figure size 640x480 with 1 Axes>"
      ]
     },
     "metadata": {}
    },
    {
     "output_type": "display_data",
     "data": {
      "text/plain": [
       "<Figure size 50000x50000 with 0 Axes>"
      ]
     },
     "metadata": {}
    }
   ],
   "metadata": {}
  },
  {
   "cell_type": "code",
   "execution_count": 86,
   "source": [
    "# Create traces\r\n",
    "fig = go.Figure()\r\n",
    "fig.add_trace(go.Scatter(\r\n",
    "                    x=newX,\r\n",
    "                    y=newF,\r\n",
    "                    mode='lines',\r\n",
    "                    name='заданная функция',\r\n",
    "                    line=dict(color='red')))\r\n",
    "fig.add_trace(go.Scatter(\r\n",
    "                    x=X,\r\n",
    "                    y=F,\r\n",
    "                    mode='markers',\r\n",
    "                    name='заданные точки'))\r\n",
    "fig.add_trace(go.Scatter(\r\n",
    "                    x=newX,\r\n",
    "                    y=iF,\r\n",
    "                    mode='lines',\r\n",
    "                    name='интерполяция',\r\n",
    "                    line=dict(color='blue')))\r\n",
    "\r\n",
    "# Edit the layout\r\n",
    "fig.update_layout(title='Интерполяция функции по точкам',\r\n",
    "                   xaxis_title='x',\r\n",
    "                   yaxis_title='y')\r\n",
    "\r\n",
    "fig.update_layout(\r\n",
    "    width=900,\r\n",
    "    height=600\r\n",
    "    )\r\n",
    "\r\n",
    "fig.show()"
   ],
   "outputs": [
    {
     "output_type": "display_data",
     "data": {
      "application/vnd.plotly.v1+json": {
       "config": {
        "plotlyServerURL": "https://plot.ly"
       },
       "data": [
        {
         "line": {
          "color": "red"
         },
         "mode": "lines",
         "name": "заданная функция",
         "type": "scatter",
         "x": [
          -1,
          0.33333333333333326,
          1.6666666666666665,
          3,
          4.333333333333333,
          5.666666666666666,
          7,
          8.333333333333332,
          9.666666666666666,
          11
         ],
         "y": [
          0.9336692287423776,
          1.1187755394443697,
          0.3274750540829162,
          0.08462115646119586,
          1.1914426470803996,
          2.6980898450508786,
          3.4434719143195913,
          3.6454038574261394,
          4.3594358400816455,
          5.859250332375262
         ]
        },
        {
         "mode": "markers",
         "name": "заданные точки",
         "type": "scatter",
         "x": [
          0.06155829702431159,
          0.5449673790581597,
          1.4644660940672627,
          2.7300475013022654,
          4.217827674798845,
          5.782172325201153,
          7.269952498697734,
          8.535533905932738,
          9.45503262094184,
          9.93844170297569
         ],
         "y": [
          1.1911522979776443,
          1.0287780957863635,
          0.4540953517238998,
          0.022633159693825657,
          1.0580810906023819,
          2.80091235289483,
          3.495441365195203,
          3.6985903240862683,
          4.1841213953384,
          4.617367990362261
         ]
        },
        {
         "line": {
          "color": "blue"
         },
         "mode": "lines",
         "name": "интерполяция",
         "type": "scatter",
         "x": [
          -1,
          0.33333333333333326,
          1.6666666666666665,
          3,
          4.333333333333333,
          5.666666666666666,
          7,
          8.333333333333332,
          9.666666666666666,
          11
         ],
         "y": [
          1.0695423681240506,
          1.1181263945519277,
          0.32696166076929356,
          0.08528491794223333,
          1.191127259833235,
          2.697741214258162,
          3.444373220260792,
          3.6445330264918185,
          4.358016276079196,
          6.263723150458631
         ]
        }
       ],
       "layout": {
        "height": 600,
        "template": {
         "data": {
          "bar": [
           {
            "error_x": {
             "color": "#2a3f5f"
            },
            "error_y": {
             "color": "#2a3f5f"
            },
            "marker": {
             "line": {
              "color": "#E5ECF6",
              "width": 0.5
             },
             "pattern": {
              "fillmode": "overlay",
              "size": 10,
              "solidity": 0.2
             }
            },
            "type": "bar"
           }
          ],
          "barpolar": [
           {
            "marker": {
             "line": {
              "color": "#E5ECF6",
              "width": 0.5
             },
             "pattern": {
              "fillmode": "overlay",
              "size": 10,
              "solidity": 0.2
             }
            },
            "type": "barpolar"
           }
          ],
          "carpet": [
           {
            "aaxis": {
             "endlinecolor": "#2a3f5f",
             "gridcolor": "white",
             "linecolor": "white",
             "minorgridcolor": "white",
             "startlinecolor": "#2a3f5f"
            },
            "baxis": {
             "endlinecolor": "#2a3f5f",
             "gridcolor": "white",
             "linecolor": "white",
             "minorgridcolor": "white",
             "startlinecolor": "#2a3f5f"
            },
            "type": "carpet"
           }
          ],
          "choropleth": [
           {
            "colorbar": {
             "outlinewidth": 0,
             "ticks": ""
            },
            "type": "choropleth"
           }
          ],
          "contour": [
           {
            "colorbar": {
             "outlinewidth": 0,
             "ticks": ""
            },
            "colorscale": [
             [
              0,
              "#0d0887"
             ],
             [
              0.1111111111111111,
              "#46039f"
             ],
             [
              0.2222222222222222,
              "#7201a8"
             ],
             [
              0.3333333333333333,
              "#9c179e"
             ],
             [
              0.4444444444444444,
              "#bd3786"
             ],
             [
              0.5555555555555556,
              "#d8576b"
             ],
             [
              0.6666666666666666,
              "#ed7953"
             ],
             [
              0.7777777777777778,
              "#fb9f3a"
             ],
             [
              0.8888888888888888,
              "#fdca26"
             ],
             [
              1,
              "#f0f921"
             ]
            ],
            "type": "contour"
           }
          ],
          "contourcarpet": [
           {
            "colorbar": {
             "outlinewidth": 0,
             "ticks": ""
            },
            "type": "contourcarpet"
           }
          ],
          "heatmap": [
           {
            "colorbar": {
             "outlinewidth": 0,
             "ticks": ""
            },
            "colorscale": [
             [
              0,
              "#0d0887"
             ],
             [
              0.1111111111111111,
              "#46039f"
             ],
             [
              0.2222222222222222,
              "#7201a8"
             ],
             [
              0.3333333333333333,
              "#9c179e"
             ],
             [
              0.4444444444444444,
              "#bd3786"
             ],
             [
              0.5555555555555556,
              "#d8576b"
             ],
             [
              0.6666666666666666,
              "#ed7953"
             ],
             [
              0.7777777777777778,
              "#fb9f3a"
             ],
             [
              0.8888888888888888,
              "#fdca26"
             ],
             [
              1,
              "#f0f921"
             ]
            ],
            "type": "heatmap"
           }
          ],
          "heatmapgl": [
           {
            "colorbar": {
             "outlinewidth": 0,
             "ticks": ""
            },
            "colorscale": [
             [
              0,
              "#0d0887"
             ],
             [
              0.1111111111111111,
              "#46039f"
             ],
             [
              0.2222222222222222,
              "#7201a8"
             ],
             [
              0.3333333333333333,
              "#9c179e"
             ],
             [
              0.4444444444444444,
              "#bd3786"
             ],
             [
              0.5555555555555556,
              "#d8576b"
             ],
             [
              0.6666666666666666,
              "#ed7953"
             ],
             [
              0.7777777777777778,
              "#fb9f3a"
             ],
             [
              0.8888888888888888,
              "#fdca26"
             ],
             [
              1,
              "#f0f921"
             ]
            ],
            "type": "heatmapgl"
           }
          ],
          "histogram": [
           {
            "marker": {
             "pattern": {
              "fillmode": "overlay",
              "size": 10,
              "solidity": 0.2
             }
            },
            "type": "histogram"
           }
          ],
          "histogram2d": [
           {
            "colorbar": {
             "outlinewidth": 0,
             "ticks": ""
            },
            "colorscale": [
             [
              0,
              "#0d0887"
             ],
             [
              0.1111111111111111,
              "#46039f"
             ],
             [
              0.2222222222222222,
              "#7201a8"
             ],
             [
              0.3333333333333333,
              "#9c179e"
             ],
             [
              0.4444444444444444,
              "#bd3786"
             ],
             [
              0.5555555555555556,
              "#d8576b"
             ],
             [
              0.6666666666666666,
              "#ed7953"
             ],
             [
              0.7777777777777778,
              "#fb9f3a"
             ],
             [
              0.8888888888888888,
              "#fdca26"
             ],
             [
              1,
              "#f0f921"
             ]
            ],
            "type": "histogram2d"
           }
          ],
          "histogram2dcontour": [
           {
            "colorbar": {
             "outlinewidth": 0,
             "ticks": ""
            },
            "colorscale": [
             [
              0,
              "#0d0887"
             ],
             [
              0.1111111111111111,
              "#46039f"
             ],
             [
              0.2222222222222222,
              "#7201a8"
             ],
             [
              0.3333333333333333,
              "#9c179e"
             ],
             [
              0.4444444444444444,
              "#bd3786"
             ],
             [
              0.5555555555555556,
              "#d8576b"
             ],
             [
              0.6666666666666666,
              "#ed7953"
             ],
             [
              0.7777777777777778,
              "#fb9f3a"
             ],
             [
              0.8888888888888888,
              "#fdca26"
             ],
             [
              1,
              "#f0f921"
             ]
            ],
            "type": "histogram2dcontour"
           }
          ],
          "mesh3d": [
           {
            "colorbar": {
             "outlinewidth": 0,
             "ticks": ""
            },
            "type": "mesh3d"
           }
          ],
          "parcoords": [
           {
            "line": {
             "colorbar": {
              "outlinewidth": 0,
              "ticks": ""
             }
            },
            "type": "parcoords"
           }
          ],
          "pie": [
           {
            "automargin": true,
            "type": "pie"
           }
          ],
          "scatter": [
           {
            "marker": {
             "colorbar": {
              "outlinewidth": 0,
              "ticks": ""
             }
            },
            "type": "scatter"
           }
          ],
          "scatter3d": [
           {
            "line": {
             "colorbar": {
              "outlinewidth": 0,
              "ticks": ""
             }
            },
            "marker": {
             "colorbar": {
              "outlinewidth": 0,
              "ticks": ""
             }
            },
            "type": "scatter3d"
           }
          ],
          "scattercarpet": [
           {
            "marker": {
             "colorbar": {
              "outlinewidth": 0,
              "ticks": ""
             }
            },
            "type": "scattercarpet"
           }
          ],
          "scattergeo": [
           {
            "marker": {
             "colorbar": {
              "outlinewidth": 0,
              "ticks": ""
             }
            },
            "type": "scattergeo"
           }
          ],
          "scattergl": [
           {
            "marker": {
             "colorbar": {
              "outlinewidth": 0,
              "ticks": ""
             }
            },
            "type": "scattergl"
           }
          ],
          "scattermapbox": [
           {
            "marker": {
             "colorbar": {
              "outlinewidth": 0,
              "ticks": ""
             }
            },
            "type": "scattermapbox"
           }
          ],
          "scatterpolar": [
           {
            "marker": {
             "colorbar": {
              "outlinewidth": 0,
              "ticks": ""
             }
            },
            "type": "scatterpolar"
           }
          ],
          "scatterpolargl": [
           {
            "marker": {
             "colorbar": {
              "outlinewidth": 0,
              "ticks": ""
             }
            },
            "type": "scatterpolargl"
           }
          ],
          "scatterternary": [
           {
            "marker": {
             "colorbar": {
              "outlinewidth": 0,
              "ticks": ""
             }
            },
            "type": "scatterternary"
           }
          ],
          "surface": [
           {
            "colorbar": {
             "outlinewidth": 0,
             "ticks": ""
            },
            "colorscale": [
             [
              0,
              "#0d0887"
             ],
             [
              0.1111111111111111,
              "#46039f"
             ],
             [
              0.2222222222222222,
              "#7201a8"
             ],
             [
              0.3333333333333333,
              "#9c179e"
             ],
             [
              0.4444444444444444,
              "#bd3786"
             ],
             [
              0.5555555555555556,
              "#d8576b"
             ],
             [
              0.6666666666666666,
              "#ed7953"
             ],
             [
              0.7777777777777778,
              "#fb9f3a"
             ],
             [
              0.8888888888888888,
              "#fdca26"
             ],
             [
              1,
              "#f0f921"
             ]
            ],
            "type": "surface"
           }
          ],
          "table": [
           {
            "cells": {
             "fill": {
              "color": "#EBF0F8"
             },
             "line": {
              "color": "white"
             }
            },
            "header": {
             "fill": {
              "color": "#C8D4E3"
             },
             "line": {
              "color": "white"
             }
            },
            "type": "table"
           }
          ]
         },
         "layout": {
          "annotationdefaults": {
           "arrowcolor": "#2a3f5f",
           "arrowhead": 0,
           "arrowwidth": 1
          },
          "autotypenumbers": "strict",
          "coloraxis": {
           "colorbar": {
            "outlinewidth": 0,
            "ticks": ""
           }
          },
          "colorscale": {
           "diverging": [
            [
             0,
             "#8e0152"
            ],
            [
             0.1,
             "#c51b7d"
            ],
            [
             0.2,
             "#de77ae"
            ],
            [
             0.3,
             "#f1b6da"
            ],
            [
             0.4,
             "#fde0ef"
            ],
            [
             0.5,
             "#f7f7f7"
            ],
            [
             0.6,
             "#e6f5d0"
            ],
            [
             0.7,
             "#b8e186"
            ],
            [
             0.8,
             "#7fbc41"
            ],
            [
             0.9,
             "#4d9221"
            ],
            [
             1,
             "#276419"
            ]
           ],
           "sequential": [
            [
             0,
             "#0d0887"
            ],
            [
             0.1111111111111111,
             "#46039f"
            ],
            [
             0.2222222222222222,
             "#7201a8"
            ],
            [
             0.3333333333333333,
             "#9c179e"
            ],
            [
             0.4444444444444444,
             "#bd3786"
            ],
            [
             0.5555555555555556,
             "#d8576b"
            ],
            [
             0.6666666666666666,
             "#ed7953"
            ],
            [
             0.7777777777777778,
             "#fb9f3a"
            ],
            [
             0.8888888888888888,
             "#fdca26"
            ],
            [
             1,
             "#f0f921"
            ]
           ],
           "sequentialminus": [
            [
             0,
             "#0d0887"
            ],
            [
             0.1111111111111111,
             "#46039f"
            ],
            [
             0.2222222222222222,
             "#7201a8"
            ],
            [
             0.3333333333333333,
             "#9c179e"
            ],
            [
             0.4444444444444444,
             "#bd3786"
            ],
            [
             0.5555555555555556,
             "#d8576b"
            ],
            [
             0.6666666666666666,
             "#ed7953"
            ],
            [
             0.7777777777777778,
             "#fb9f3a"
            ],
            [
             0.8888888888888888,
             "#fdca26"
            ],
            [
             1,
             "#f0f921"
            ]
           ]
          },
          "colorway": [
           "#636efa",
           "#EF553B",
           "#00cc96",
           "#ab63fa",
           "#FFA15A",
           "#19d3f3",
           "#FF6692",
           "#B6E880",
           "#FF97FF",
           "#FECB52"
          ],
          "font": {
           "color": "#2a3f5f"
          },
          "geo": {
           "bgcolor": "white",
           "lakecolor": "white",
           "landcolor": "#E5ECF6",
           "showlakes": true,
           "showland": true,
           "subunitcolor": "white"
          },
          "hoverlabel": {
           "align": "left"
          },
          "hovermode": "closest",
          "mapbox": {
           "style": "light"
          },
          "paper_bgcolor": "white",
          "plot_bgcolor": "#E5ECF6",
          "polar": {
           "angularaxis": {
            "gridcolor": "white",
            "linecolor": "white",
            "ticks": ""
           },
           "bgcolor": "#E5ECF6",
           "radialaxis": {
            "gridcolor": "white",
            "linecolor": "white",
            "ticks": ""
           }
          },
          "scene": {
           "xaxis": {
            "backgroundcolor": "#E5ECF6",
            "gridcolor": "white",
            "gridwidth": 2,
            "linecolor": "white",
            "showbackground": true,
            "ticks": "",
            "zerolinecolor": "white"
           },
           "yaxis": {
            "backgroundcolor": "#E5ECF6",
            "gridcolor": "white",
            "gridwidth": 2,
            "linecolor": "white",
            "showbackground": true,
            "ticks": "",
            "zerolinecolor": "white"
           },
           "zaxis": {
            "backgroundcolor": "#E5ECF6",
            "gridcolor": "white",
            "gridwidth": 2,
            "linecolor": "white",
            "showbackground": true,
            "ticks": "",
            "zerolinecolor": "white"
           }
          },
          "shapedefaults": {
           "line": {
            "color": "#2a3f5f"
           }
          },
          "ternary": {
           "aaxis": {
            "gridcolor": "white",
            "linecolor": "white",
            "ticks": ""
           },
           "baxis": {
            "gridcolor": "white",
            "linecolor": "white",
            "ticks": ""
           },
           "bgcolor": "#E5ECF6",
           "caxis": {
            "gridcolor": "white",
            "linecolor": "white",
            "ticks": ""
           }
          },
          "title": {
           "x": 0.05
          },
          "xaxis": {
           "automargin": true,
           "gridcolor": "white",
           "linecolor": "white",
           "ticks": "",
           "title": {
            "standoff": 15
           },
           "zerolinecolor": "white",
           "zerolinewidth": 2
          },
          "yaxis": {
           "automargin": true,
           "gridcolor": "white",
           "linecolor": "white",
           "ticks": "",
           "title": {
            "standoff": 15
           },
           "zerolinecolor": "white",
           "zerolinewidth": 2
          }
         }
        },
        "title": {
         "text": "Интерполяция функции по точкам"
        },
        "width": 900,
        "xaxis": {
         "title": {
          "text": "x"
         }
        },
        "yaxis": {
         "title": {
          "text": "y"
         }
        }
       }
      }
     },
     "metadata": {}
    }
   ],
   "metadata": {}
  },
  {
   "cell_type": "code",
   "execution_count": 93,
   "source": [
    "def Df(x, n, h = 0.1):\r\n",
    "    if n == 0: return Function(x)\r\n",
    "    if n == 1: return (Function(x + h) - Function(x - h)) / (2 * h)\r\n",
    "    fc = (Df(x + h, n-1) - Df(x - h, n-1)) / (2 * h)\r\n",
    "    return fc"
   ],
   "outputs": [],
   "metadata": {}
  },
  {
   "cell_type": "code",
   "execution_count": 8,
   "source": [
    "def NumericalDifferentiation(function, X, x, k):\r\n",
    "    Vfunction = np.vectorize(function)\r\n",
    "    n = X.shape[0]\r\n",
    "    rhs = np.array([0 if i < k else factorial(i)/factorial(i - k) * float(x)**(i - k) for i in range(n)])\r\n",
    "    matrix = np.zeros((n, n))\r\n",
    "    for i in range(n):\r\n",
    "        for j in range(n):\r\n",
    "            matrix[i][j] = np.power(X[j], i)\r\n",
    "    C = np.linalg.inv(matrix).dot(rhs)\r\n",
    "    Y = Vfunction(X)\r\n",
    "    return C.dot(Y)"
   ],
   "outputs": [],
   "metadata": {}
  },
  {
   "cell_type": "code",
   "execution_count": 63,
   "source": [
    "NumericalDifferentiation(lambda x: x**2, np.linspace(-8, 8, 17), -7, 1)"
   ],
   "outputs": [
    {
     "output_type": "execute_result",
     "data": {
      "text/plain": [
       "-13.999990443685874"
      ]
     },
     "metadata": {},
     "execution_count": 63
    }
   ],
   "metadata": {}
  },
  {
   "cell_type": "code",
   "execution_count": 64,
   "source": [
    "NumericalDifferentiation(lambda x: LagrangeInterpolation(x, np.linspace(-8, 8, 17), np.power(np.linspace(-8, 8, 17), 2)), np.linspace(-8, 8, 17), -7, 1)"
   ],
   "outputs": [
    {
     "output_type": "execute_result",
     "data": {
      "text/plain": [
       "-13.999990443685874"
      ]
     },
     "metadata": {},
     "execution_count": 64
    }
   ],
   "metadata": {}
  },
  {
   "cell_type": "code",
   "execution_count": 13,
   "source": [
    "NumericalDifferentiation(lambda x: exp(tan(x/5)), np.linspace(1, 3, 100), 2, 5)"
   ],
   "outputs": [
    {
     "output_type": "execute_result",
     "data": {
      "text/plain": [
       "2.0055329813398537e+33"
      ]
     },
     "metadata": {},
     "execution_count": 13
    }
   ],
   "metadata": {}
  },
  {
   "cell_type": "code",
   "execution_count": 66,
   "source": [
    "np.vectorize(Function)([1,2])"
   ],
   "outputs": [
    {
     "output_type": "execute_result",
     "data": {
      "text/plain": [
       "array([0.76391119, 0.15321097])"
      ]
     },
     "metadata": {},
     "execution_count": 66
    }
   ],
   "metadata": {}
  },
  {
   "cell_type": "code",
   "execution_count": 16,
   "source": [
    "dX = np.array([NumericalDifferentiation(lambda x: LagrangeInterpolation(x, X, np.vectorize(Function)(X)), X, xi, 1) for xi in X])\r\n",
    "plt.plot(X, dX, color='red', label='производная')\r\n",
    "plt.plot(X, F, color='#8b0000', label='функция')\r\n",
    "plt.legend()\r\n",
    "plt.grid()\r\n",
    "plt.figure(figsize=(500, 500))\r\n",
    "plt.show()"
   ],
   "outputs": [
    {
     "output_type": "display_data",
     "data": {
      "image/png": "[encoded data removed]",
      "text/plain": [
       "<Figure size 640x480 with 1 Axes>"
      ]
     },
     "metadata": {}
    },
    {
     "output_type": "display_data",
     "data": {
      "text/plain": [
       "<Figure size 50000x50000 with 0 Axes>"
      ]
     },
     "metadata": {}
    }
   ],
   "metadata": {}
  },
  {
   "cell_type": "code",
   "execution_count": 66,
   "source": [
    "XX = np.linspace(-pi, pi, 20)\r\n",
    "dX = np.array([NumericalDifferentiation(lambda x: np.sin(x), XX, xi, 3) for xi in XX])\r\n",
    "plt.plot(XX, dX, color='red', label='производная')\r\n",
    "plt.plot(XX, np.sin(XX), color='#8b0000', label='функция')\r\n",
    "plt.legend()\r\n",
    "plt.grid()\r\n",
    "plt.figure(figsize=(500, 500))\r\n",
    "plt.show()"
   ],
   "outputs": [
    {
     "output_type": "display_data",
     "data": {
      "image/png": "[encoded data removed]",
      "text/plain": [
       "<Figure size 640x480 with 1 Axes>"
      ]
     },
     "metadata": {}
    },
    {
     "output_type": "display_data",
     "data": {
      "text/plain": [
       "<Figure size 50000x50000 with 0 Axes>"
      ]
     },
     "metadata": {}
    }
   ],
   "metadata": {}
  },
  {
   "cell_type": "code",
   "execution_count": 110,
   "source": [
    "XX = np.linspace(a, b, 12)\r\n",
    "dX = np.array([NumericalDifferentiation(lambda x: (2+x**2+10*cos(x))/(10+x), XX, xi, 3) for xi in XX])\r\n",
    "plt.plot(XX, dX, color='red', label='производная')\r\n",
    "#plt.plot(XX, np.vectorize(lambda x: (2+x**2+10*cos(x))/(10+x))(XX), color='#8b0000', label='функция')\r\n",
    "plt.plot(XX, np.vectorize(lambda x: -(6*(x**2 + 10*cos(x) + 2))/(10 + x)**4 + (6*(2*x - 10*sin(x)))/(10 + x)**3 + (10*sin(x))/(10 + x) - (3*(2 - 10*cos(x)))/(10 + x)**2)(XX), color='#8b0000', label='функция')\r\n",
    "plt.legend()\r\n",
    "plt.grid()\r\n",
    "plt.figure(figsize=(500, 500))\r\n",
    "plt.show()"
   ],
   "outputs": [
    {
     "output_type": "display_data",
     "data": {
      "image/png": "[encoded data removed]",
      "text/plain": [
       "<Figure size 640x480 with 1 Axes>"
      ]
     },
     "metadata": {}
    },
    {
     "output_type": "display_data",
     "data": {
      "text/plain": [
       "<Figure size 50000x50000 with 0 Axes>"
      ]
     },
     "metadata": {}
    }
   ],
   "metadata": {}
  },
  {
   "cell_type": "code",
   "execution_count": 89,
   "source": [
    "dX = np.array([NumericalDifferentiation(Function, X, xi, 10) for xi in X])\r\n",
    "plt.plot(X, dX, color='red', label='производная')\r\n",
    "plt.plot(X, np.vectorize(Function)(X), color='#8b0000', label='функция')\r\n",
    "plt.legend()\r\n",
    "plt.grid()\r\n",
    "plt.figure(figsize=(500, 500))\r\n",
    "plt.show()"
   ],
   "outputs": [
    {
     "output_type": "display_data",
     "data": {
      "image/png": "[encoded data removed]",
      "text/plain": [
       "<Figure size 640x480 with 1 Axes>"
      ]
     },
     "metadata": {}
    },
    {
     "output_type": "display_data",
     "data": {
      "text/plain": [
       "<Figure size 50000x50000 with 0 Axes>"
      ]
     },
     "metadata": {}
    }
   ],
   "metadata": {}
  }
 ],
 "metadata": {
  "kernelspec": {
   "name": "python3",
   "display_name": "Python 3.8.5 64-bit ('base': conda)"
  },
  "language_info": {
   "codemirror_mode": {
    "name": "ipython",
    "version": 3
   },
   "file_extension": ".py",
   "mimetype": "text/x-python",
   "name": "python",
   "nbconvert_exporter": "python",
   "pygments_lexer": "ipython3",
   "version": "3.8.5"
  },
  "interpreter": {
   "hash": "9615178fba751b4743b0cc83ec4ad046b4c617358a6c01c0a402618a15f80eef"
  }
 },
 "nbformat": 4,
 "nbformat_minor": 4
}