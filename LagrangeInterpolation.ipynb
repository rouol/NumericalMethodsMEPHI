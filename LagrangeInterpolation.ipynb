{
 "cells": [
  {
   "cell_type": "code",
   "execution_count": 3,
   "source": [
    "import numpy as np\r\n",
    "from math import sin, cos, pi, factorial, exp, tan\r\n",
    "import matplotlib.pyplot as plt\r\n",
    "%matplotlib inline\r\n",
    "import plotly.graph_objects as go\r\n",
    "from numba import jit"
   ],
   "outputs": [],
   "metadata": {}
  },
  {
   "cell_type": "code",
   "execution_count": 4,
   "source": [
    "#@jit\r\n",
    "def LagrangeInterpolation(point, X, Y):\r\n",
    "    xp = point\r\n",
    "    yp = 0\r\n",
    "    n = X.shape[0]\r\n",
    "    for i in range(n):\r\n",
    "        p = 1\r\n",
    "        for j in range(n):\r\n",
    "            if i != j:\r\n",
    "                p = p * (xp - X[j])/(X[i] - X[j])\r\n",
    "        yp = yp + p * Y[i]\r\n",
    "        \r\n",
    "    return yp"
   ],
   "outputs": [],
   "metadata": {}
  },
  {
   "cell_type": "code",
   "execution_count": 5,
   "source": [
    "function = '(2+x**2+10*cos(x))/(10+x)'\r\n",
    "n = 10\r\n",
    "a = 0\r\n",
    "b = 10\r\n",
    "def Function(x):\r\n",
    "    function = '(2+x**2+10*cos(x))/(10+x)'\r\n",
    "    return eval(function)"
   ],
   "outputs": [],
   "metadata": {}
  },
  {
   "cell_type": "markdown",
   "source": [
    "Для равномерного распределения интерполяционных узлов"
   ],
   "metadata": {}
  },
  {
   "cell_type": "code",
   "execution_count": 6,
   "source": [
    "F = np.zeros(n, dtype=np.float64)\r\n",
    "X = np.linspace(a, b, num = n)\r\n",
    "for idx, x in np.ndenumerate(X):\r\n",
    "    F[idx] = eval(function)"
   ],
   "outputs": [],
   "metadata": {}
  },
  {
   "cell_type": "code",
   "execution_count": 59,
   "source": [
    "newX = np.linspace(a - (b-a)/n, b + (b-a)/n, num = n, dtype=np.float64)\r\n",
    "iF = np.zeros(n, dtype=np.float64)\r\n",
    "newF = np.zeros(n, dtype=np.float64)\r\n",
    "serror = 0\r\n",
    "for idx, x in np.ndenumerate(newX):\r\n",
    "    iF[idx] = LagrangeInterpolation(newX[idx], X, F)\r\n",
    "    newF[idx] = eval(function)\r\n",
    "    serror = abs((iF[idx] - newF[idx])/iF[idx])\r\n",
    "avgerr = serror / (n * 10)\r\n",
    "print('ошибочка вышла:', avgerr)"
   ],
   "outputs": [
    {
     "output_type": "stream",
     "name": "stdout",
     "text": [
      "ошибочка вышла: 6.68509588232438e-10\n"
     ]
    }
   ],
   "metadata": {}
  },
  {
   "cell_type": "markdown",
   "source": [
    "Для Чебышевского распределения интерполяционных узлов"
   ],
   "metadata": {}
  },
  {
   "cell_type": "code",
   "execution_count": 7,
   "source": [
    "F = np.zeros(n, dtype=np.float64)\r\n",
    "X = np.zeros(n, dtype=np.float64)\r\n",
    "for k in range(0, 2 * n, 2):\r\n",
    "    X[int(k/2)] = (a + b) / 2 + (b - a) / 2 * cos((2 * k - 1)/(2 * n) * pi)\r\n",
    "X.sort()\r\n",
    "for idx, x in np.ndenumerate(X):\r\n",
    "    F[idx] = eval(function)"
   ],
   "outputs": [],
   "metadata": {}
  },
  {
   "cell_type": "code",
   "execution_count": 8,
   "source": [
    "newX = np.linspace(a - (b-a)/n, b + (b-a)/n, num = n, dtype=np.float64)\r\n",
    "iF = np.zeros(n, dtype=np.float64)\r\n",
    "newF = np.zeros(n, dtype=np.float64)\r\n",
    "serror = 0\r\n",
    "Rn = np.zeros(n, dtype=np.float64)\r\n",
    "for idx, x in np.ndenumerate(newX):\r\n",
    "    iF[idx] = LagrangeInterpolation(newX[idx], X, F)\r\n",
    "    newF[idx] = eval(function)\r\n",
    "    serror = abs((iF[idx] - newF[idx])/iF[idx])\r\n",
    "avgerr = serror / (n * 10)\r\n",
    "print('ошибочка вышла:', avgerr)"
   ],
   "outputs": [
    {
     "output_type": "stream",
     "name": "stdout",
     "text": [
      "ошибочка вышла: 0.0006457386579318303\n"
     ]
    }
   ],
   "metadata": {}
  },
  {
   "cell_type": "code",
   "execution_count": 9,
   "source": [
    "Rn = np.abs(iF - newF)\r\n",
    "Rn"
   ],
   "outputs": [
    {
     "output_type": "execute_result",
     "data": {
      "text/plain": [
       "array([1.35873139e-01, 6.49144892e-04, 5.13393314e-04, 6.63761481e-04,\n",
       "       3.15387247e-04, 3.48630793e-04, 9.01305941e-04, 8.70830934e-04,\n",
       "       1.41956400e-03, 4.04472818e-01])"
      ]
     },
     "metadata": {},
     "execution_count": 9
    }
   ],
   "metadata": {}
  },
  {
   "cell_type": "code",
   "execution_count": 10,
   "source": [
    "#plt.style.use('seaborn-deep')\r\n",
    "plt.style.use('default')\r\n",
    "plt.plot(newX, newF, color='red', label='заданная функция')\r\n",
    "plt.plot(X, F, color='#8b0000', marker='o', linewidth=0, label='заданные точки')\r\n",
    "plt.plot(newX, iF, 'blue', label='интерполяция')\r\n",
    "plt.legend()\r\n",
    "plt.grid()\r\n",
    "plt.figure(figsize=(500, 500))\r\n",
    "plt.show()"
   ],
   "outputs": [
    {
     "output_type": "display_data",
     "data": {
      "image/png": "[encoded data removed]",
      "text/plain": [
       "<Figure size 640x480 with 1 Axes>"
      ]
     },
     "metadata": {}
    },
    {
     "output_type": "display_data",
     "data": {
      "text/plain": [
       "<Figure size 50000x50000 with 0 Axes>"
      ]
     },
     "metadata": {}
    }
   ],
   "metadata": {}
  },
  {
   "cell_type": "code",
   "execution_count": 11,
   "source": [
    "# Create traces\r\n",
    "fig = go.Figure()\r\n",
    "fig.add_trace(go.Scatter(\r\n",
    "                    x=newX,\r\n",
    "                    y=newF,\r\n",
    "                    mode='lines',\r\n",
    "                    name='заданная функция',\r\n",
    "                    line=dict(color='red')))\r\n",
    "fig.add_trace(go.Scatter(\r\n",
    "                    x=X,\r\n",
    "                    y=F,\r\n",
    "                    mode='markers',\r\n",
    "                    name='заданные точки'))\r\n",
    "fig.add_trace(go.Scatter(\r\n",
    "                    x=newX,\r\n",
    "                    y=iF,\r\n",
    "                    mode='lines',\r\n",
    "                    name='интерполяция',\r\n",
    "                    line=dict(color='blue')))\r\n",
    "\r\n",
    "# Edit the layout\r\n",
    "fig.update_layout(title='Интерполяция функции по точкам',\r\n",
    "                   xaxis_title='x',\r\n",
    "                   yaxis_title='y')\r\n",
    "\r\n",
    "fig.update_layout(\r\n",
    "    width=900,\r\n",
    "    height=600\r\n",
    "    )\r\n",
    "\r\n",
    "fig.show()"
   ],
   "outputs": [
    {
     "output_type": "display_data",
     "data": {
      "application/vnd.plotly.v1+json": {
       "config": {
        "plotlyServerURL": "https://plot.ly"
       },
       "data": [
        {
         "line": {
          "color": "red"
         },
         "mode": "lines",
         "name": "заданная функция",
         "type": "scatter",
         "x": [
          -1,
          0.33333333333333326,
          1.6666666666666665,
          3,
          4.333333333333333,
          5.666666666666666,
          7,
          8.333333333333332,
          9.666666666666666,
          11
         ],
         "y": [
          0.9336692287423776,
          1.1187755394443697,
          0.3274750540829162,
          0.08462115646119586,
          1.1914426470803996,
          2.6980898450508786,
          3.4434719143195913,
          3.6454038574261394,
          4.3594358400816455,
          5.859250332375262
         ]
        },
        {
         "mode": "markers",
         "name": "заданные точки",
         "type": "scatter",
         "x": [
          0.06155829702431159,
          0.5449673790581597,
          1.4644660940672627,
          2.7300475013022654,
          4.217827674798845,
          5.782172325201153,
          7.269952498697734,
          8.535533905932738,
          9.45503262094184,
          9.93844170297569
         ],
         "y": [
          1.1911522979776443,
          1.0287780957863635,
          0.4540953517238998,
          0.022633159693825657,
          1.0580810906023819,
          2.80091235289483,
          3.495441365195203,
          3.6985903240862683,
          4.1841213953384,
          4.617367990362261
         ]
        },
        {
         "line": {
          "color": "blue"
         },
         "mode": "lines",
         "name": "интерполяция",
         "type": "scatter",
         "x": [
          -1,
          0.33333333333333326,
          1.6666666666666665,
          3,
          4.333333333333333,
          5.666666666666666,
          7,
          8.333333333333332,
          9.666666666666666,
          11
         ],
         "y": [
          1.0695423681240506,
          1.1181263945519277,
          0.32696166076929356,
          0.08528491794223333,
          1.191127259833235,
          2.697741214258162,
          3.444373220260792,
          3.6445330264918185,
          4.358016276079196,
          6.263723150458631
         ]
        }
       ],
       "layout": {
        "height": 600,
        "template": {
         "data": {
          "bar": [
           {
            "error_x": {
             "color": "#2a3f5f"
            },
            "error_y": {
             "color": "#2a3f5f"
            },
            "marker": {
             "line": {
              "color": "#E5ECF6",
              "width": 0.5
             },
             "pattern": {
              "fillmode": "overlay",
              "size": 10,
              "solidity": 0.2
             }
            },
            "type": "bar"
           }
          ],
          "barpolar": [
           {
            "marker": {
             "line": {
              "color": "#E5ECF6",
              "width": 0.5
             },
             "pattern": {
              "fillmode": "overlay",
              "size": 10,
              "solidity": 0.2
             }
            },
            "type": "barpolar"
           }
          ],
          "carpet": [
           {
            "aaxis": {
             "endlinecolor": "#2a3f5f",
             "gridcolor": "white",
             "linecolor": "white",
             "minorgridcolor": "white",
             "startlinecolor": "#2a3f5f"
            },
            "baxis": {
             "endlinecolor": "#2a3f5f",
             "gridcolor": "white",
             "linecolor": "white",
             "minorgridcolor": "white",
             "startlinecolor": "#2a3f5f"
            },
            "type": "carpet"
           }
          ],
          "choropleth": [
           {
            "colorbar": {
             "outlinewidth": 0,
             "ticks": ""
            },
            "type": "choropleth"
           }
          ],
          "contour": [
           {
            "colorbar": {
             "outlinewidth": 0,
             "ticks": ""
            },
            "colorscale": [
             [
              0,
              "#0d0887"
             ],
             [
              0.1111111111111111,
              "#46039f"
             ],
             [
              0.2222222222222222,
              "#7201a8"
             ],
             [
              0.3333333333333333,
              "#9c179e"
             ],
             [
              0.4444444444444444,
              "#bd3786"
             ],
             [
              0.5555555555555556,
              "#d8576b"
             ],
             [
              0.6666666666666666,
              "#ed7953"
             ],
             [
              0.7777777777777778,
              "#fb9f3a"
             ],
             [
              0.8888888888888888,
              "#fdca26"
             ],
             [
              1,
              "#f0f921"
             ]
            ],
            "type": "contour"
           }
          ],
          "contourcarpet": [
           {
            "colorbar": {
             "outlinewidth": 0,
             "ticks": ""
            },
            "type": "contourcarpet"
           }
          ],
          "heatmap": [
           {
            "colorbar": {
             "outlinewidth": 0,
             "ticks": ""
            },
            "colorscale": [
             [
              0,
              "#0d0887"
             ],
             [
              0.1111111111111111,
              "#46039f"
             ],
             [
              0.2222222222222222,
              "#7201a8"
             ],
             [
              0.3333333333333333,
              "#9c179e"
             ],
             [
              0.4444444444444444,
              "#bd3786"
             ],
             [
              0.5555555555555556,
              "#d8576b"
             ],
             [
              0.6666666666666666,
              "#ed7953"
             ],
             [
              0.7777777777777778,
              "#fb9f3a"
             ],
             [
              0.8888888888888888,
              "#fdca26"
             ],
             [
              1,
              "#f0f921"
             ]
            ],
            "type": "heatmap"
           }
          ],
          "heatmapgl": [
           {
            "colorbar": {
             "outlinewidth": 0,
             "ticks": ""
            },
            "colorscale": [
             [
              0,
              "#0d0887"
             ],
             [
              0.1111111111111111,
              "#46039f"
             ],
             [
              0.2222222222222222,
              "#7201a8"
             ],
             [
              0.3333333333333333,
              "#9c179e"
             ],
             [
              0.4444444444444444,
              "#bd3786"
             ],
             [
              0.5555555555555556,
              "#d8576b"
             ],
             [
              0.6666666666666666,
              "#ed7953"
             ],
             [
              0.7777777777777778,
              "#fb9f3a"
             ],
             [
              0.8888888888888888,
              "#fdca26"
             ],
             [
              1,
              "#f0f921"
             ]
            ],
            "type": "heatmapgl"
           }
          ],
          "histogram": [
           {
            "marker": {
             "pattern": {
              "fillmode": "overlay",
              "size": 10,
              "solidity": 0.2
             }
            },
            "type": "histogram"
           }
          ],
          "histogram2d": [
           {
            "colorbar": {
             "outlinewidth": 0,
             "ticks": ""
            },
            "colorscale": [
             [
              0,
              "#0d0887"
             ],
             [
              0.1111111111111111,
              "#46039f"
             ],
             [
              0.2222222222222222,
              "#7201a8"
             ],
             [
              0.3333333333333333,
              "#9c179e"
             ],
             [
              0.4444444444444444,
              "#bd3786"
             ],
             [
              0.5555555555555556,
              "#d8576b"
             ],
             [
              0.6666666666666666,
              "#ed7953"
             ],
             [
              0.7777777777777778,
              "#fb9f3a"
             ],
             [
              0.8888888888888888,
              "#fdca26"
             ],
             [
              1,
              "#f0f921"
             ]
            ],
            "type": "histogram2d"
           }
          ],
          "histogram2dcontour": [
           {
            "colorbar": {
             "outlinewidth": 0,
             "ticks": ""
            },
            "colorscale": [
             [
              0,
              "#0d0887"
             ],
             [
              0.1111111111111111,
              "#46039f"
             ],
             [
              0.2222222222222222,
              "#7201a8"
             ],
             [
              0.3333333333333333,
              "#9c179e"
             ],
             [
              0.4444444444444444,
              "#bd3786"
             ],
             [
              0.5555555555555556,
              "#d8576b"
             ],
             [
              0.6666666666666666,
              "#ed7953"
             ],
             [
              0.7777777777777778,
              "#fb9f3a"
             ],
             [
              0.8888888888888888,
              "#fdca26"
             ],
             [
              1,
              "#f0f921"
             ]
            ],
            "type": "histogram2dcontour"
           }
          ],
          "mesh3d": [
           {
            "colorbar": {
             "outlinewidth": 0,
             "ticks": ""
            },
            "type": "mesh3d"
           }
          ],
          "parcoords": [
           {
            "line": {
             "colorbar": {
              "outlinewidth": 0,
              "ticks": ""
             }
            },
            "type": "parcoords"
           }
          ],
          "pie": [
           {
            "automargin": true,
            "type": "pie"
           }
          ],
          "scatter": [
           {
            "marker": {
             "colorbar": {
              "outlinewidth": 0,
              "ticks": ""
             }
            },
            "type": "scatter"
           }
          ],
          "scatter3d": [
           {
            "line": {
             "colorbar": {
              "outlinewidth": 0,
              "ticks": ""
             }
            },
            "marker": {
             "colorbar": {
              "outlinewidth": 0,
              "ticks": ""
             }
            },
            "type": "scatter3d"
           }
          ],
          "scattercarpet": [
           {
            "marker": {
             "colorbar": {
              "outlinewidth": 0,
              "ticks": ""
             }
            },
            "type": "scattercarpet"
           }
          ],
          "scattergeo": [
           {
            "marker": {
             "colorbar": {
              "outlinewidth": 0,
              "ticks": ""
             }
            },
            "type": "scattergeo"
           }
          ],
          "scattergl": [
           {
            "marker": {
             "colorbar": {
              "outlinewidth": 0,
              "ticks": ""
             }
            },
            "type": "scattergl"
           }
          ],
          "scattermapbox": [
           {
            "marker": {
             "colorbar": {
              "outlinewidth": 0,
              "ticks": ""
             }
            },
            "type": "scattermapbox"
           }
          ],
          "scatterpolar": [
           {
            "marker": {
             "colorbar": {
              "outlinewidth": 0,
              "ticks": ""
             }
            },
            "type": "scatterpolar"
           }
          ],
          "scatterpolargl": [
           {
            "marker": {
             "colorbar": {
              "outlinewidth": 0,
              "ticks": ""
             }
            },
            "type": "scatterpolargl"
           }
          ],
          "scatterternary": [
           {
            "marker": {
             "colorbar": {
              "outlinewidth": 0,
              "ticks": ""
             }
            },
            "type": "scatterternary"
           }
          ],
          "surface": [
           {
            "colorbar": {
             "outlinewidth": 0,
             "ticks": ""
            },
            "colorscale": [
             [
              0,
              "#0d0887"
             ],
             [
              0.1111111111111111,
              "#46039f"
             ],
             [
              0.2222222222222222,
              "#7201a8"
             ],
             [
              0.3333333333333333,
              "#9c179e"
             ],
             [
              0.4444444444444444,
              "#bd3786"
             ],
             [
              0.5555555555555556,
              "#d8576b"
             ],
             [
              0.6666666666666666,
              "#ed7953"
             ],
             [
              0.7777777777777778,
              "#fb9f3a"
             ],
             [
              0.8888888888888888,
              "#fdca26"
             ],
             [
              1,
              "#f0f921"
             ]
            ],
            "type": "surface"
           }
          ],
          "table": [
           {
            "cells": {
             "fill": {
              "color": "#EBF0F8"
             },
             "line": {
              "color": "white"
             }
            },
            "header": {
             "fill": {
              "color": "#C8D4E3"
             },
             "line": {
              "color": "white"
             }
            },
            "type": "table"
           }
          ]
         },
         "layout": {
          "annotationdefaults": {
           "arrowcolor": "#2a3f5f",
           "arrowhead": 0,
           "arrowwidth": 1
          },
          "autotypenumbers": "strict",
          "coloraxis": {
           "colorbar": {
            "outlinewidth": 0,
            "ticks": ""
           }
          },
          "colorscale": {
           "diverging": [
            [
             0,
             "#8e0152"
            ],
            [
             0.1,
             "#c51b7d"
            ],
            [
             0.2,
             "#de77ae"
            ],
            [
             0.3,
             "#f1b6da"
            ],
            [
             0.4,
             "#fde0ef"
            ],
            [
             0.5,
             "#f7f7f7"
            ],
            [
             0.6,
             "#e6f5d0"
            ],
            [
             0.7,
             "#b8e186"
            ],
            [
             0.8,
             "#7fbc41"
            ],
            [
             0.9,
             "#4d9221"
            ],
            [
             1,
             "#276419"
            ]
           ],
           "sequential": [
            [
             0,
             "#0d0887"
            ],
            [
             0.1111111111111111,
             "#46039f"
            ],
            [
             0.2222222222222222,
             "#7201a8"
            ],
            [
             0.3333333333333333,
             "#9c179e"
            ],
            [
             0.4444444444444444,
             "#bd3786"
            ],
            [
             0.5555555555555556,
             "#d8576b"
            ],
            [
             0.6666666666666666,
             "#ed7953"
            ],
            [
             0.7777777777777778,
             "#fb9f3a"
            ],
            [
             0.8888888888888888,
             "#fdca26"
            ],
            [
             1,
             "#f0f921"
            ]
           ],
           "sequentialminus": [
            [
             0,
             "#0d0887"
            ],
            [
             0.1111111111111111,
             "#46039f"
            ],
            [
             0.2222222222222222,
             "#7201a8"
            ],
            [
             0.3333333333333333,
             "#9c179e"
            ],
            [
             0.4444444444444444,
             "#bd3786"
            ],
            [
             0.5555555555555556,
             "#d8576b"
            ],
            [
             0.6666666666666666,
             "#ed7953"
            ],
            [
             0.7777777777777778,
             "#fb9f3a"
            ],
            [
             0.8888888888888888,
             "#fdca26"
            ],
            [
             1,
             "#f0f921"
            ]
           ]
          },
          "colorway": [
           "#636efa",
           "#EF553B",
           "#00cc96",
           "#ab63fa",
           "#FFA15A",
           "#19d3f3",
           "#FF6692",
           "#B6E880",
           "#FF97FF",
           "#FECB52"
          ],
          "font": {
           "color": "#2a3f5f"
          },
          "geo": {
           "bgcolor": "white",
           "lakecolor": "white",
           "landcolor": "#E5ECF6",
           "showlakes": true,
           "showland": true,
           "subunitcolor": "white"
          },
          "hoverlabel": {
           "align": "left"
          },
          "hovermode": "closest",
          "mapbox": {
           "style": "light"
          },
          "paper_bgcolor": "white",
          "plot_bgcolor": "#E5ECF6",
          "polar": {
           "angularaxis": {
            "gridcolor": "white",
            "linecolor": "white",
            "ticks": ""
           },
           "bgcolor": "#E5ECF6",
           "radialaxis": {
            "gridcolor": "white",
            "linecolor": "white",
            "ticks": ""
           }
          },
          "scene": {
           "xaxis": {
            "backgroundcolor": "#E5ECF6",
            "gridcolor": "white",
            "gridwidth": 2,
            "linecolor": "white",
            "showbackground": true,
            "ticks": "",
            "zerolinecolor": "white"
           },
           "yaxis": {
            "backgroundcolor": "#E5ECF6",
            "gridcolor": "white",
            "gridwidth": 2,
            "linecolor": "white",
            "showbackground": true,
            "ticks": "",
            "zerolinecolor": "white"
           },
           "zaxis": {
            "backgroundcolor": "#E5ECF6",
            "gridcolor": "white",
            "gridwidth": 2,
            "linecolor": "white",
            "showbackground": true,
            "ticks": "",
            "zerolinecolor": "white"
           }
          },
          "shapedefaults": {
           "line": {
            "color": "#2a3f5f"
           }
          },
          "ternary": {
           "aaxis": {
            "gridcolor": "white",
            "linecolor": "white",
            "ticks": ""
           },
           "baxis": {
            "gridcolor": "white",
            "linecolor": "white",
            "ticks": ""
           },
           "bgcolor": "#E5ECF6",
           "caxis": {
            "gridcolor": "white",
            "linecolor": "white",
            "ticks": ""
           }
          },
          "title": {
           "x": 0.05
          },
          "xaxis": {
           "automargin": true,
           "gridcolor": "white",
           "linecolor": "white",
           "ticks": "",
           "title": {
            "standoff": 15
           },
           "zerolinecolor": "white",
           "zerolinewidth": 2
          },
          "yaxis": {
           "automargin": true,
           "gridcolor": "white",
           "linecolor": "white",
           "ticks": "",
           "title": {
            "standoff": 15
           },
           "zerolinecolor": "white",
           "zerolinewidth": 2
          }
         }
        },
        "title": {
         "text": "Интерполяция функции по точкам"
        },
        "width": 900,
        "xaxis": {
         "title": {
          "text": "x"
         }
        },
        "yaxis": {
         "title": {
          "text": "y"
         }
        }
       }
      }
     },
     "metadata": {}
    }
   ],
   "metadata": {}
  },
  {
   "cell_type": "code",
   "execution_count": 93,
   "source": [
    "def Df(x, n, h = 0.1):\r\n",
    "    if n == 0: return Function(x)\r\n",
    "    if n == 1: return (Function(x + h) - Function(x - h)) / (2 * h)\r\n",
    "    fc = (Df(x + h, n-1) - Df(x - h, n-1)) / (2 * h)\r\n",
    "    return fc"
   ],
   "outputs": [],
   "metadata": {}
  },
  {
   "cell_type": "code",
   "execution_count": 139,
   "source": [
    "def NumericalDifferentiation(function, X, x, k):\r\n",
    "    Vfunction = np.vectorize(function)\r\n",
    "    n = X.shape[0]\r\n",
    "    rhs = np.array([0 if i < k else factorial(i)/factorial(i - k) * float(x)**(i - k) for i in range(n)])#, dtype=np.float64)\r\n",
    "    matrix = np.zeros((n, n))#, dtype=np.float64)\r\n",
    "    for i in range(n):\r\n",
    "        for j in range(n):\r\n",
    "            matrix[i][j] = np.power(X[j], i)\r\n",
    "            #if i == j:\r\n",
    "            #    matrix[i][j] += 0.00000001\r\n",
    "    #print(np.linalg.cond(matrix))\r\n",
    "    #print(rhs)\r\n",
    "\r\n",
    "    C = np.linalg.lstsq(matrix, rhs, rcond=-1)[0]\r\n",
    "    #C = np.linalg.inv(matrix).dot(rhs)\r\n",
    "    \r\n",
    "    Y = Vfunction(X)\r\n",
    "    return C.dot(Y)"
   ],
   "outputs": [],
   "metadata": {}
  },
  {
   "cell_type": "code",
   "execution_count": 140,
   "source": [
    "NumericalDifferentiation(lambda x: x**2, np.linspace(-8, 8, 17), -7, 1)"
   ],
   "outputs": [
    {
     "output_type": "execute_result",
     "data": {
      "text/plain": [
       "-13.999948763035945"
      ]
     },
     "metadata": {},
     "execution_count": 140
    }
   ],
   "metadata": {}
  },
  {
   "cell_type": "code",
   "execution_count": 113,
   "source": [
    "NumericalDifferentiation(lambda x: LagrangeInterpolation(x, np.linspace(-8, 8, 17), np.power(np.linspace(-8, 8, 17), 2)), np.linspace(-8, 8, 17), -7, 1)"
   ],
   "outputs": [
    {
     "output_type": "execute_result",
     "data": {
      "text/plain": [
       "-13.999948763035945"
      ]
     },
     "metadata": {},
     "execution_count": 113
    }
   ],
   "metadata": {}
  },
  {
   "cell_type": "code",
   "execution_count": 114,
   "source": [
    "NumericalDifferentiation(lambda x: exp(tan(x/5)), np.linspace(1, 3, 100), 2, 5)"
   ],
   "outputs": [
    {
     "output_type": "execute_result",
     "data": {
      "text/plain": [
       "11.02034425230196"
      ]
     },
     "metadata": {},
     "execution_count": 114
    }
   ],
   "metadata": {}
  },
  {
   "cell_type": "code",
   "execution_count": 115,
   "source": [
    "np.vectorize(Function)([1,2])"
   ],
   "outputs": [
    {
     "output_type": "execute_result",
     "data": {
      "text/plain": [
       "array([0.76391119, 0.15321097])"
      ]
     },
     "metadata": {},
     "execution_count": 115
    }
   ],
   "metadata": {}
  },
  {
   "cell_type": "code",
   "execution_count": 116,
   "source": [
    "dX = np.array([NumericalDifferentiation(lambda x: LagrangeInterpolation(x, X, np.vectorize(Function)(X)), X, xi, 1) for xi in X])\r\n",
    "plt.plot(X, dX, color='red', label='производная')\r\n",
    "plt.plot(X, F, color='#8b0000', label='функция')\r\n",
    "plt.legend()\r\n",
    "plt.grid()\r\n",
    "plt.figure(figsize=(500, 500))\r\n",
    "plt.show()"
   ],
   "outputs": [
    {
     "output_type": "display_data",
     "data": {
      "image/png": "[encoded data removed]",
      "text/plain": [
       "<Figure size 640x480 with 1 Axes>"
      ]
     },
     "metadata": {}
    },
    {
     "output_type": "display_data",
     "data": {
      "text/plain": [
       "<Figure size 50000x50000 with 0 Axes>"
      ]
     },
     "metadata": {}
    }
   ],
   "metadata": {}
  },
  {
   "cell_type": "code",
   "execution_count": 117,
   "source": [
    "XX = np.linspace(-pi, pi, 20)\r\n",
    "dX = np.array([NumericalDifferentiation(lambda x: np.sin(x), XX, xi, 3) for xi in XX])\r\n",
    "plt.plot(XX, dX, color='red', label='производная')\r\n",
    "plt.plot(XX, np.sin(XX), color='#8b0000', label='функция')\r\n",
    "plt.legend()\r\n",
    "plt.grid()\r\n",
    "plt.figure(figsize=(500, 500))\r\n",
    "plt.show()"
   ],
   "outputs": [
    {
     "output_type": "display_data",
     "data": {
      "image/png": "[encoded data removed]",
      "text/plain": [
       "<Figure size 640x480 with 1 Axes>"
      ]
     },
     "metadata": {}
    },
    {
     "output_type": "display_data",
     "data": {
      "text/plain": [
       "<Figure size 50000x50000 with 0 Axes>"
      ]
     },
     "metadata": {}
    }
   ],
   "metadata": {}
  },
  {
   "cell_type": "code",
   "execution_count": 118,
   "source": [
    "XX = np.linspace(a, b, 12)\r\n",
    "dX = np.array([NumericalDifferentiation(lambda x: (2+x**2+10*cos(x))/(10+x), XX, xi, 3) for xi in XX])\r\n",
    "plt.plot(XX, dX, color='red', label='производная')\r\n",
    "#plt.plot(XX, np.vectorize(lambda x: (2+x**2+10*cos(x))/(10+x))(XX), color='#8b0000', label='функция')\r\n",
    "plt.plot(XX, np.vectorize(lambda x: -(6*(x**2 + 10*cos(x) + 2))/(10 + x)**4 + (6*(2*x - 10*sin(x)))/(10 + x)**3 + (10*sin(x))/(10 + x) - (3*(2 - 10*cos(x)))/(10 + x)**2)(XX), color='#8b0000', label='функция')\r\n",
    "plt.legend()\r\n",
    "plt.grid()\r\n",
    "plt.figure(figsize=(500, 500))\r\n",
    "plt.show()"
   ],
   "outputs": [
    {
     "output_type": "display_data",
     "data": {
      "image/png": "[encoded data removed]",
      "text/plain": [
       "<Figure size 640x480 with 1 Axes>"
      ]
     },
     "metadata": {}
    },
    {
     "output_type": "display_data",
     "data": {
      "text/plain": [
       "<Figure size 50000x50000 with 0 Axes>"
      ]
     },
     "metadata": {}
    }
   ],
   "metadata": {}
  },
  {
   "cell_type": "code",
   "execution_count": 138,
   "source": [
    "XX = np.linspace(a, b, 100)\r\n",
    "\r\n",
    "dX = np.array([NumericalDifferentiation(lambda x: sin(x), np.linspace(a, b, 11), xi, 1) for xi in XX])\r\n",
    "plt.plot(XX, dX, color='red', label='производная')\r\n",
    "#plt.plot(XX, np.vectorize(lambda x: (2+x**2+10*cos(x))/(10+x))(XX), color='#8b0000', label='функция')\r\n",
    "plt.plot(XX, np.cos(XX), color='#8b0000', label='настоящая производная')\r\n",
    "plt.legend()\r\n",
    "plt.grid()\r\n",
    "plt.figure(figsize=(500, 500))\r\n",
    "plt.show()\r\n",
    "\r\n",
    "plt.plot(XX, np.abs(np.log(np.abs(np.cos(XX) - dX))), color='#8b0000', label='разность')\r\n",
    "plt.legend()\r\n",
    "plt.grid()\r\n",
    "plt.figure(figsize=(500, 500))\r\n",
    "plt.show()"
   ],
   "outputs": [
    {
     "output_type": "display_data",
     "data": {
      "image/png": "[encoded data removed]",
      "text/plain": [
       "<Figure size 640x480 with 1 Axes>"
      ]
     },
     "metadata": {}
    },
    {
     "output_type": "display_data",
     "data": {
      "text/plain": [
       "<Figure size 50000x50000 with 0 Axes>"
      ]
     },
     "metadata": {}
    },
    {
     "output_type": "display_data",
     "data": {
      "image/png": "[encoded data removed]",
      "text/plain": [
       "<Figure size 640x480 with 1 Axes>"
      ]
     },
     "metadata": {}
    },
    {
     "output_type": "display_data",
     "data": {
      "text/plain": [
       "<Figure size 50000x50000 with 0 Axes>"
      ]
     },
     "metadata": {}
    }
   ],
   "metadata": {}
  },
  {
   "cell_type": "code",
   "execution_count": 89,
   "source": [
    "dX = np.array([NumericalDifferentiation(Function, X, xi, 10) for xi in X])\r\n",
    "plt.plot(X, dX, color='red', label='производная')\r\n",
    "plt.plot(X, np.vectorize(Function)(X), color='#8b0000', label='функция')\r\n",
    "plt.legend()\r\n",
    "plt.grid()\r\n",
    "plt.figure(figsize=(500, 500))\r\n",
    "plt.show()"
   ],
   "outputs": [
    {
     "output_type": "display_data",
     "data": {
      "image/png": "[encoded data removed]",
      "text/plain": [
       "<Figure size 640x480 with 1 Axes>"
      ]
     },
     "metadata": {}
    },
    {
     "output_type": "display_data",
     "data": {
      "text/plain": [
       "<Figure size 50000x50000 with 0 Axes>"
      ]
     },
     "metadata": {}
    }
   ],
   "metadata": {}
  },
  {
   "cell_type": "code",
   "execution_count": 10,
   "source": [
    "NumericalDifferentiation(lambda x: np.power(x, 7), XX, 2, 4)"
   ],
   "outputs": [
    {
     "output_type": "stream",
     "name": "stdout",
     "text": [
      "[[1.00000000e+00 1.00000000e+00 1.00000000e+00 1.00000000e+00\n",
      "  1.00000000e+00 1.00000000e+00 1.00000000e+00 1.00000000e+00\n",
      "  1.00000000e+00 1.00000000e+00 1.00000000e+00]\n",
      " [0.00000000e+00 1.00000000e+00 2.00000000e+00 3.00000000e+00\n",
      "  4.00000000e+00 5.00000000e+00 6.00000000e+00 7.00000000e+00\n",
      "  8.00000000e+00 9.00000000e+00 1.00000000e+01]\n",
      " [0.00000000e+00 1.00000000e+00 4.00000000e+00 9.00000000e+00\n",
      "  1.60000000e+01 2.50000000e+01 3.60000000e+01 4.90000000e+01\n",
      "  6.40000000e+01 8.10000000e+01 1.00000000e+02]\n",
      " [0.00000000e+00 1.00000000e+00 8.00000000e+00 2.70000000e+01\n",
      "  6.40000000e+01 1.25000000e+02 2.16000000e+02 3.43000000e+02\n",
      "  5.12000000e+02 7.29000000e+02 1.00000000e+03]\n",
      " [0.00000000e+00 1.00000000e+00 1.60000000e+01 8.10000000e+01\n",
      "  2.56000000e+02 6.25000000e+02 1.29600000e+03 2.40100000e+03\n",
      "  4.09600000e+03 6.56100000e+03 1.00000000e+04]\n",
      " [0.00000000e+00 1.00000000e+00 3.20000000e+01 2.43000000e+02\n",
      "  1.02400000e+03 3.12500000e+03 7.77600000e+03 1.68070000e+04\n",
      "  3.27680000e+04 5.90490000e+04 1.00000000e+05]\n",
      " [0.00000000e+00 1.00000000e+00 6.40000000e+01 7.29000000e+02\n",
      "  4.09600000e+03 1.56250000e+04 4.66560000e+04 1.17649000e+05\n",
      "  2.62144000e+05 5.31441000e+05 1.00000000e+06]\n",
      " [0.00000000e+00 1.00000000e+00 1.28000000e+02 2.18700000e+03\n",
      "  1.63840000e+04 7.81250000e+04 2.79936000e+05 8.23543000e+05\n",
      "  2.09715200e+06 4.78296900e+06 1.00000000e+07]\n",
      " [0.00000000e+00 1.00000000e+00 2.56000000e+02 6.56100000e+03\n",
      "  6.55360000e+04 3.90625000e+05 1.67961600e+06 5.76480100e+06\n",
      "  1.67772160e+07 4.30467210e+07 1.00000000e+08]\n",
      " [0.00000000e+00 1.00000000e+00 5.12000000e+02 1.96830000e+04\n",
      "  2.62144000e+05 1.95312500e+06 1.00776960e+07 4.03536070e+07\n",
      "  1.34217728e+08 3.87420489e+08 1.00000000e+09]\n",
      " [0.00000000e+00 1.00000000e+00 1.02400000e+03 5.90490000e+04\n",
      "  1.04857600e+06 9.76562500e+06 6.04661760e+07 2.82475249e+08\n",
      "  1.07374182e+09 3.48678440e+09 1.00000000e+10]]\n",
      "[0.0000e+00 0.0000e+00 0.0000e+00 0.0000e+00 2.4000e+01 2.4000e+02\n",
      " 1.4400e+03 6.7200e+03 2.6880e+04 9.6768e+04 3.2256e+05]\n"
     ]
    },
    {
     "output_type": "execute_result",
     "data": {
      "text/plain": [
       "6720.00009675324"
      ]
     },
     "metadata": {},
     "execution_count": 10
    }
   ],
   "metadata": {}
  },
  {
   "cell_type": "code",
   "execution_count": 9,
   "source": [
    "XX = np.linspace(0, 10, 11)\r\n",
    "dX = np.array([NumericalDifferentiation(lambda x: np.power(x, 7), XX, xi, 2) for xi in XX])\r\n",
    "plt.plot(XX, dX, color='red', label='производная')\r\n",
    "plt.plot(XX, np.power(XX, 7), color='#8b0000', label='функция')\r\n",
    "plt.legend()\r\n",
    "plt.grid()\r\n",
    "plt.figure(figsize=(500, 500))\r\n",
    "plt.show()"
   ],
   "outputs": [
    {
     "output_type": "stream",
     "name": "stdout",
     "text": [
      "[[1.00000000e+00 1.00000000e+00 1.00000000e+00 1.00000000e+00\n",
      "  1.00000000e+00 1.00000000e+00 1.00000000e+00 1.00000000e+00\n",
      "  1.00000000e+00 1.00000000e+00 1.00000000e+00]\n",
      " [0.00000000e+00 1.00000000e+00 2.00000000e+00 3.00000000e+00\n",
      "  4.00000000e+00 5.00000000e+00 6.00000000e+00 7.00000000e+00\n",
      "  8.00000000e+00 9.00000000e+00 1.00000000e+01]\n",
      " [0.00000000e+00 1.00000000e+00 4.00000000e+00 9.00000000e+00\n",
      "  1.60000000e+01 2.50000000e+01 3.60000000e+01 4.90000000e+01\n",
      "  6.40000000e+01 8.10000000e+01 1.00000000e+02]\n",
      " [0.00000000e+00 1.00000000e+00 8.00000000e+00 2.70000000e+01\n",
      "  6.40000000e+01 1.25000000e+02 2.16000000e+02 3.43000000e+02\n",
      "  5.12000000e+02 7.29000000e+02 1.00000000e+03]\n",
      " [0.00000000e+00 1.00000000e+00 1.60000000e+01 8.10000000e+01\n",
      "  2.56000000e+02 6.25000000e+02 1.29600000e+03 2.40100000e+03\n",
      "  4.09600000e+03 6.56100000e+03 1.00000000e+04]\n",
      " [0.00000000e+00 1.00000000e+00 3.20000000e+01 2.43000000e+02\n",
      "  1.02400000e+03 3.12500000e+03 7.77600000e+03 1.68070000e+04\n",
      "  3.27680000e+04 5.90490000e+04 1.00000000e+05]\n",
      " [0.00000000e+00 1.00000000e+00 6.40000000e+01 7.29000000e+02\n",
      "  4.09600000e+03 1.56250000e+04 4.66560000e+04 1.17649000e+05\n",
      "  2.62144000e+05 5.31441000e+05 1.00000000e+06]\n",
      " [0.00000000e+00 1.00000000e+00 1.28000000e+02 2.18700000e+03\n",
      "  1.63840000e+04 7.81250000e+04 2.79936000e+05 8.23543000e+05\n",
      "  2.09715200e+06 4.78296900e+06 1.00000000e+07]\n",
      " [0.00000000e+00 1.00000000e+00 2.56000000e+02 6.56100000e+03\n",
      "  6.55360000e+04 3.90625000e+05 1.67961600e+06 5.76480100e+06\n",
      "  1.67772160e+07 4.30467210e+07 1.00000000e+08]\n",
      " [0.00000000e+00 1.00000000e+00 5.12000000e+02 1.96830000e+04\n",
      "  2.62144000e+05 1.95312500e+06 1.00776960e+07 4.03536070e+07\n",
      "  1.34217728e+08 3.87420489e+08 1.00000000e+09]\n",
      " [0.00000000e+00 1.00000000e+00 1.02400000e+03 5.90490000e+04\n",
      "  1.04857600e+06 9.76562500e+06 6.04661760e+07 2.82475249e+08\n",
      "  1.07374182e+09 3.48678440e+09 1.00000000e+10]]\n",
      "[0. 0. 2. 0. 0. 0. 0. 0. 0. 0. 0.]\n",
      "[[1.00000000e+00 1.00000000e+00 1.00000000e+00 1.00000000e+00\n",
      "  1.00000000e+00 1.00000000e+00 1.00000000e+00 1.00000000e+00\n",
      "  1.00000000e+00 1.00000000e+00 1.00000000e+00]\n",
      " [0.00000000e+00 1.00000000e+00 2.00000000e+00 3.00000000e+00\n",
      "  4.00000000e+00 5.00000000e+00 6.00000000e+00 7.00000000e+00\n",
      "  8.00000000e+00 9.00000000e+00 1.00000000e+01]\n",
      " [0.00000000e+00 1.00000000e+00 4.00000000e+00 9.00000000e+00\n",
      "  1.60000000e+01 2.50000000e+01 3.60000000e+01 4.90000000e+01\n",
      "  6.40000000e+01 8.10000000e+01 1.00000000e+02]\n",
      " [0.00000000e+00 1.00000000e+00 8.00000000e+00 2.70000000e+01\n",
      "  6.40000000e+01 1.25000000e+02 2.16000000e+02 3.43000000e+02\n",
      "  5.12000000e+02 7.29000000e+02 1.00000000e+03]\n",
      " [0.00000000e+00 1.00000000e+00 1.60000000e+01 8.10000000e+01\n",
      "  2.56000000e+02 6.25000000e+02 1.29600000e+03 2.40100000e+03\n",
      "  4.09600000e+03 6.56100000e+03 1.00000000e+04]\n",
      " [0.00000000e+00 1.00000000e+00 3.20000000e+01 2.43000000e+02\n",
      "  1.02400000e+03 3.12500000e+03 7.77600000e+03 1.68070000e+04\n",
      "  3.27680000e+04 5.90490000e+04 1.00000000e+05]\n",
      " [0.00000000e+00 1.00000000e+00 6.40000000e+01 7.29000000e+02\n",
      "  4.09600000e+03 1.56250000e+04 4.66560000e+04 1.17649000e+05\n",
      "  2.62144000e+05 5.31441000e+05 1.00000000e+06]\n",
      " [0.00000000e+00 1.00000000e+00 1.28000000e+02 2.18700000e+03\n",
      "  1.63840000e+04 7.81250000e+04 2.79936000e+05 8.23543000e+05\n",
      "  2.09715200e+06 4.78296900e+06 1.00000000e+07]\n",
      " [0.00000000e+00 1.00000000e+00 2.56000000e+02 6.56100000e+03\n",
      "  6.55360000e+04 3.90625000e+05 1.67961600e+06 5.76480100e+06\n",
      "  1.67772160e+07 4.30467210e+07 1.00000000e+08]\n",
      " [0.00000000e+00 1.00000000e+00 5.12000000e+02 1.96830000e+04\n",
      "  2.62144000e+05 1.95312500e+06 1.00776960e+07 4.03536070e+07\n",
      "  1.34217728e+08 3.87420489e+08 1.00000000e+09]\n",
      " [0.00000000e+00 1.00000000e+00 1.02400000e+03 5.90490000e+04\n",
      "  1.04857600e+06 9.76562500e+06 6.04661760e+07 2.82475249e+08\n",
      "  1.07374182e+09 3.48678440e+09 1.00000000e+10]]\n",
      "[ 0.  0.  2.  6. 12. 20. 30. 42. 56. 72. 90.]\n",
      "[[1.00000000e+00 1.00000000e+00 1.00000000e+00 1.00000000e+00\n",
      "  1.00000000e+00 1.00000000e+00 1.00000000e+00 1.00000000e+00\n",
      "  1.00000000e+00 1.00000000e+00 1.00000000e+00]\n",
      " [0.00000000e+00 1.00000000e+00 2.00000000e+00 3.00000000e+00\n",
      "  4.00000000e+00 5.00000000e+00 6.00000000e+00 7.00000000e+00\n",
      "  8.00000000e+00 9.00000000e+00 1.00000000e+01]\n",
      " [0.00000000e+00 1.00000000e+00 4.00000000e+00 9.00000000e+00\n",
      "  1.60000000e+01 2.50000000e+01 3.60000000e+01 4.90000000e+01\n",
      "  6.40000000e+01 8.10000000e+01 1.00000000e+02]\n",
      " [0.00000000e+00 1.00000000e+00 8.00000000e+00 2.70000000e+01\n",
      "  6.40000000e+01 1.25000000e+02 2.16000000e+02 3.43000000e+02\n",
      "  5.12000000e+02 7.29000000e+02 1.00000000e+03]\n",
      " [0.00000000e+00 1.00000000e+00 1.60000000e+01 8.10000000e+01\n",
      "  2.56000000e+02 6.25000000e+02 1.29600000e+03 2.40100000e+03\n",
      "  4.09600000e+03 6.56100000e+03 1.00000000e+04]\n",
      " [0.00000000e+00 1.00000000e+00 3.20000000e+01 2.43000000e+02\n",
      "  1.02400000e+03 3.12500000e+03 7.77600000e+03 1.68070000e+04\n",
      "  3.27680000e+04 5.90490000e+04 1.00000000e+05]\n",
      " [0.00000000e+00 1.00000000e+00 6.40000000e+01 7.29000000e+02\n",
      "  4.09600000e+03 1.56250000e+04 4.66560000e+04 1.17649000e+05\n",
      "  2.62144000e+05 5.31441000e+05 1.00000000e+06]\n",
      " [0.00000000e+00 1.00000000e+00 1.28000000e+02 2.18700000e+03\n",
      "  1.63840000e+04 7.81250000e+04 2.79936000e+05 8.23543000e+05\n",
      "  2.09715200e+06 4.78296900e+06 1.00000000e+07]\n",
      " [0.00000000e+00 1.00000000e+00 2.56000000e+02 6.56100000e+03\n",
      "  6.55360000e+04 3.90625000e+05 1.67961600e+06 5.76480100e+06\n",
      "  1.67772160e+07 4.30467210e+07 1.00000000e+08]\n",
      " [0.00000000e+00 1.00000000e+00 5.12000000e+02 1.96830000e+04\n",
      "  2.62144000e+05 1.95312500e+06 1.00776960e+07 4.03536070e+07\n",
      "  1.34217728e+08 3.87420489e+08 1.00000000e+09]\n",
      " [0.00000000e+00 1.00000000e+00 1.02400000e+03 5.90490000e+04\n",
      "  1.04857600e+06 9.76562500e+06 6.04661760e+07 2.82475249e+08\n",
      "  1.07374182e+09 3.48678440e+09 1.00000000e+10]]\n",
      "[0.000e+00 0.000e+00 2.000e+00 1.200e+01 4.800e+01 1.600e+02 4.800e+02\n",
      " 1.344e+03 3.584e+03 9.216e+03 2.304e+04]\n",
      "[[1.00000000e+00 1.00000000e+00 1.00000000e+00 1.00000000e+00\n",
      "  1.00000000e+00 1.00000000e+00 1.00000000e+00 1.00000000e+00\n",
      "  1.00000000e+00 1.00000000e+00 1.00000000e+00]\n",
      " [0.00000000e+00 1.00000000e+00 2.00000000e+00 3.00000000e+00\n",
      "  4.00000000e+00 5.00000000e+00 6.00000000e+00 7.00000000e+00\n",
      "  8.00000000e+00 9.00000000e+00 1.00000000e+01]\n",
      " [0.00000000e+00 1.00000000e+00 4.00000000e+00 9.00000000e+00\n",
      "  1.60000000e+01 2.50000000e+01 3.60000000e+01 4.90000000e+01\n",
      "  6.40000000e+01 8.10000000e+01 1.00000000e+02]\n",
      " [0.00000000e+00 1.00000000e+00 8.00000000e+00 2.70000000e+01\n",
      "  6.40000000e+01 1.25000000e+02 2.16000000e+02 3.43000000e+02\n",
      "  5.12000000e+02 7.29000000e+02 1.00000000e+03]\n",
      " [0.00000000e+00 1.00000000e+00 1.60000000e+01 8.10000000e+01\n",
      "  2.56000000e+02 6.25000000e+02 1.29600000e+03 2.40100000e+03\n",
      "  4.09600000e+03 6.56100000e+03 1.00000000e+04]\n",
      " [0.00000000e+00 1.00000000e+00 3.20000000e+01 2.43000000e+02\n",
      "  1.02400000e+03 3.12500000e+03 7.77600000e+03 1.68070000e+04\n",
      "  3.27680000e+04 5.90490000e+04 1.00000000e+05]\n",
      " [0.00000000e+00 1.00000000e+00 6.40000000e+01 7.29000000e+02\n",
      "  4.09600000e+03 1.56250000e+04 4.66560000e+04 1.17649000e+05\n",
      "  2.62144000e+05 5.31441000e+05 1.00000000e+06]\n",
      " [0.00000000e+00 1.00000000e+00 1.28000000e+02 2.18700000e+03\n",
      "  1.63840000e+04 7.81250000e+04 2.79936000e+05 8.23543000e+05\n",
      "  2.09715200e+06 4.78296900e+06 1.00000000e+07]\n",
      " [0.00000000e+00 1.00000000e+00 2.56000000e+02 6.56100000e+03\n",
      "  6.55360000e+04 3.90625000e+05 1.67961600e+06 5.76480100e+06\n",
      "  1.67772160e+07 4.30467210e+07 1.00000000e+08]\n",
      " [0.00000000e+00 1.00000000e+00 5.12000000e+02 1.96830000e+04\n",
      "  2.62144000e+05 1.95312500e+06 1.00776960e+07 4.03536070e+07\n",
      "  1.34217728e+08 3.87420489e+08 1.00000000e+09]\n",
      " [0.00000000e+00 1.00000000e+00 1.02400000e+03 5.90490000e+04\n",
      "  1.04857600e+06 9.76562500e+06 6.04661760e+07 2.82475249e+08\n",
      "  1.07374182e+09 3.48678440e+09 1.00000000e+10]]\n",
      "[0.00000e+00 0.00000e+00 2.00000e+00 1.80000e+01 1.08000e+02 5.40000e+02\n",
      " 2.43000e+03 1.02060e+04 4.08240e+04 1.57464e+05 5.90490e+05]\n",
      "[[1.00000000e+00 1.00000000e+00 1.00000000e+00 1.00000000e+00\n",
      "  1.00000000e+00 1.00000000e+00 1.00000000e+00 1.00000000e+00\n",
      "  1.00000000e+00 1.00000000e+00 1.00000000e+00]\n",
      " [0.00000000e+00 1.00000000e+00 2.00000000e+00 3.00000000e+00\n",
      "  4.00000000e+00 5.00000000e+00 6.00000000e+00 7.00000000e+00\n",
      "  8.00000000e+00 9.00000000e+00 1.00000000e+01]\n",
      " [0.00000000e+00 1.00000000e+00 4.00000000e+00 9.00000000e+00\n",
      "  1.60000000e+01 2.50000000e+01 3.60000000e+01 4.90000000e+01\n",
      "  6.40000000e+01 8.10000000e+01 1.00000000e+02]\n",
      " [0.00000000e+00 1.00000000e+00 8.00000000e+00 2.70000000e+01\n",
      "  6.40000000e+01 1.25000000e+02 2.16000000e+02 3.43000000e+02\n",
      "  5.12000000e+02 7.29000000e+02 1.00000000e+03]\n",
      " [0.00000000e+00 1.00000000e+00 1.60000000e+01 8.10000000e+01\n",
      "  2.56000000e+02 6.25000000e+02 1.29600000e+03 2.40100000e+03\n",
      "  4.09600000e+03 6.56100000e+03 1.00000000e+04]\n",
      " [0.00000000e+00 1.00000000e+00 3.20000000e+01 2.43000000e+02\n",
      "  1.02400000e+03 3.12500000e+03 7.77600000e+03 1.68070000e+04\n",
      "  3.27680000e+04 5.90490000e+04 1.00000000e+05]\n",
      " [0.00000000e+00 1.00000000e+00 6.40000000e+01 7.29000000e+02\n",
      "  4.09600000e+03 1.56250000e+04 4.66560000e+04 1.17649000e+05\n",
      "  2.62144000e+05 5.31441000e+05 1.00000000e+06]\n",
      " [0.00000000e+00 1.00000000e+00 1.28000000e+02 2.18700000e+03\n",
      "  1.63840000e+04 7.81250000e+04 2.79936000e+05 8.23543000e+05\n",
      "  2.09715200e+06 4.78296900e+06 1.00000000e+07]\n",
      " [0.00000000e+00 1.00000000e+00 2.56000000e+02 6.56100000e+03\n",
      "  6.55360000e+04 3.90625000e+05 1.67961600e+06 5.76480100e+06\n",
      "  1.67772160e+07 4.30467210e+07 1.00000000e+08]\n",
      " [0.00000000e+00 1.00000000e+00 5.12000000e+02 1.96830000e+04\n",
      "  2.62144000e+05 1.95312500e+06 1.00776960e+07 4.03536070e+07\n",
      "  1.34217728e+08 3.87420489e+08 1.00000000e+09]\n",
      " [0.00000000e+00 1.00000000e+00 1.02400000e+03 5.90490000e+04\n",
      "  1.04857600e+06 9.76562500e+06 6.04661760e+07 2.82475249e+08\n",
      "  1.07374182e+09 3.48678440e+09 1.00000000e+10]]\n",
      "[0.000000e+00 0.000000e+00 2.000000e+00 2.400000e+01 1.920000e+02\n",
      " 1.280000e+03 7.680000e+03 4.300800e+04 2.293760e+05 1.179648e+06\n",
      " 5.898240e+06]\n",
      "[[1.00000000e+00 1.00000000e+00 1.00000000e+00 1.00000000e+00\n",
      "  1.00000000e+00 1.00000000e+00 1.00000000e+00 1.00000000e+00\n",
      "  1.00000000e+00 1.00000000e+00 1.00000000e+00]\n",
      " [0.00000000e+00 1.00000000e+00 2.00000000e+00 3.00000000e+00\n",
      "  4.00000000e+00 5.00000000e+00 6.00000000e+00 7.00000000e+00\n",
      "  8.00000000e+00 9.00000000e+00 1.00000000e+01]\n",
      " [0.00000000e+00 1.00000000e+00 4.00000000e+00 9.00000000e+00\n",
      "  1.60000000e+01 2.50000000e+01 3.60000000e+01 4.90000000e+01\n",
      "  6.40000000e+01 8.10000000e+01 1.00000000e+02]\n",
      " [0.00000000e+00 1.00000000e+00 8.00000000e+00 2.70000000e+01\n",
      "  6.40000000e+01 1.25000000e+02 2.16000000e+02 3.43000000e+02\n",
      "  5.12000000e+02 7.29000000e+02 1.00000000e+03]\n",
      " [0.00000000e+00 1.00000000e+00 1.60000000e+01 8.10000000e+01\n",
      "  2.56000000e+02 6.25000000e+02 1.29600000e+03 2.40100000e+03\n",
      "  4.09600000e+03 6.56100000e+03 1.00000000e+04]\n",
      " [0.00000000e+00 1.00000000e+00 3.20000000e+01 2.43000000e+02\n",
      "  1.02400000e+03 3.12500000e+03 7.77600000e+03 1.68070000e+04\n",
      "  3.27680000e+04 5.90490000e+04 1.00000000e+05]\n",
      " [0.00000000e+00 1.00000000e+00 6.40000000e+01 7.29000000e+02\n",
      "  4.09600000e+03 1.56250000e+04 4.66560000e+04 1.17649000e+05\n",
      "  2.62144000e+05 5.31441000e+05 1.00000000e+06]\n",
      " [0.00000000e+00 1.00000000e+00 1.28000000e+02 2.18700000e+03\n",
      "  1.63840000e+04 7.81250000e+04 2.79936000e+05 8.23543000e+05\n",
      "  2.09715200e+06 4.78296900e+06 1.00000000e+07]\n",
      " [0.00000000e+00 1.00000000e+00 2.56000000e+02 6.56100000e+03\n",
      "  6.55360000e+04 3.90625000e+05 1.67961600e+06 5.76480100e+06\n",
      "  1.67772160e+07 4.30467210e+07 1.00000000e+08]\n",
      " [0.00000000e+00 1.00000000e+00 5.12000000e+02 1.96830000e+04\n",
      "  2.62144000e+05 1.95312500e+06 1.00776960e+07 4.03536070e+07\n",
      "  1.34217728e+08 3.87420489e+08 1.00000000e+09]\n",
      " [0.00000000e+00 1.00000000e+00 1.02400000e+03 5.90490000e+04\n",
      "  1.04857600e+06 9.76562500e+06 6.04661760e+07 2.82475249e+08\n",
      "  1.07374182e+09 3.48678440e+09 1.00000000e+10]]\n",
      "[0.000000e+00 0.000000e+00 2.000000e+00 3.000000e+01 3.000000e+02\n",
      " 2.500000e+03 1.875000e+04 1.312500e+05 8.750000e+05 5.625000e+06\n",
      " 3.515625e+07]\n",
      "[[1.00000000e+00 1.00000000e+00 1.00000000e+00 1.00000000e+00\n",
      "  1.00000000e+00 1.00000000e+00 1.00000000e+00 1.00000000e+00\n",
      "  1.00000000e+00 1.00000000e+00 1.00000000e+00]\n",
      " [0.00000000e+00 1.00000000e+00 2.00000000e+00 3.00000000e+00\n",
      "  4.00000000e+00 5.00000000e+00 6.00000000e+00 7.00000000e+00\n",
      "  8.00000000e+00 9.00000000e+00 1.00000000e+01]\n",
      " [0.00000000e+00 1.00000000e+00 4.00000000e+00 9.00000000e+00\n",
      "  1.60000000e+01 2.50000000e+01 3.60000000e+01 4.90000000e+01\n",
      "  6.40000000e+01 8.10000000e+01 1.00000000e+02]\n",
      " [0.00000000e+00 1.00000000e+00 8.00000000e+00 2.70000000e+01\n",
      "  6.40000000e+01 1.25000000e+02 2.16000000e+02 3.43000000e+02\n",
      "  5.12000000e+02 7.29000000e+02 1.00000000e+03]\n",
      " [0.00000000e+00 1.00000000e+00 1.60000000e+01 8.10000000e+01\n",
      "  2.56000000e+02 6.25000000e+02 1.29600000e+03 2.40100000e+03\n",
      "  4.09600000e+03 6.56100000e+03 1.00000000e+04]\n",
      " [0.00000000e+00 1.00000000e+00 3.20000000e+01 2.43000000e+02\n",
      "  1.02400000e+03 3.12500000e+03 7.77600000e+03 1.68070000e+04\n",
      "  3.27680000e+04 5.90490000e+04 1.00000000e+05]\n",
      " [0.00000000e+00 1.00000000e+00 6.40000000e+01 7.29000000e+02\n",
      "  4.09600000e+03 1.56250000e+04 4.66560000e+04 1.17649000e+05\n",
      "  2.62144000e+05 5.31441000e+05 1.00000000e+06]\n",
      " [0.00000000e+00 1.00000000e+00 1.28000000e+02 2.18700000e+03\n",
      "  1.63840000e+04 7.81250000e+04 2.79936000e+05 8.23543000e+05\n",
      "  2.09715200e+06 4.78296900e+06 1.00000000e+07]\n",
      " [0.00000000e+00 1.00000000e+00 2.56000000e+02 6.56100000e+03\n",
      "  6.55360000e+04 3.90625000e+05 1.67961600e+06 5.76480100e+06\n",
      "  1.67772160e+07 4.30467210e+07 1.00000000e+08]\n",
      " [0.00000000e+00 1.00000000e+00 5.12000000e+02 1.96830000e+04\n",
      "  2.62144000e+05 1.95312500e+06 1.00776960e+07 4.03536070e+07\n",
      "  1.34217728e+08 3.87420489e+08 1.00000000e+09]\n",
      " [0.00000000e+00 1.00000000e+00 1.02400000e+03 5.90490000e+04\n",
      "  1.04857600e+06 9.76562500e+06 6.04661760e+07 2.82475249e+08\n",
      "  1.07374182e+09 3.48678440e+09 1.00000000e+10]]\n",
      "[0.0000000e+00 0.0000000e+00 2.0000000e+00 3.6000000e+01 4.3200000e+02\n",
      " 4.3200000e+03 3.8880000e+04 3.2659200e+05 2.6127360e+06 2.0155392e+07\n",
      " 1.5116544e+08]\n",
      "[[1.00000000e+00 1.00000000e+00 1.00000000e+00 1.00000000e+00\n",
      "  1.00000000e+00 1.00000000e+00 1.00000000e+00 1.00000000e+00\n",
      "  1.00000000e+00 1.00000000e+00 1.00000000e+00]\n",
      " [0.00000000e+00 1.00000000e+00 2.00000000e+00 3.00000000e+00\n",
      "  4.00000000e+00 5.00000000e+00 6.00000000e+00 7.00000000e+00\n",
      "  8.00000000e+00 9.00000000e+00 1.00000000e+01]\n",
      " [0.00000000e+00 1.00000000e+00 4.00000000e+00 9.00000000e+00\n",
      "  1.60000000e+01 2.50000000e+01 3.60000000e+01 4.90000000e+01\n",
      "  6.40000000e+01 8.10000000e+01 1.00000000e+02]\n",
      " [0.00000000e+00 1.00000000e+00 8.00000000e+00 2.70000000e+01\n",
      "  6.40000000e+01 1.25000000e+02 2.16000000e+02 3.43000000e+02\n",
      "  5.12000000e+02 7.29000000e+02 1.00000000e+03]\n",
      " [0.00000000e+00 1.00000000e+00 1.60000000e+01 8.10000000e+01\n",
      "  2.56000000e+02 6.25000000e+02 1.29600000e+03 2.40100000e+03\n",
      "  4.09600000e+03 6.56100000e+03 1.00000000e+04]\n",
      " [0.00000000e+00 1.00000000e+00 3.20000000e+01 2.43000000e+02\n",
      "  1.02400000e+03 3.12500000e+03 7.77600000e+03 1.68070000e+04\n",
      "  3.27680000e+04 5.90490000e+04 1.00000000e+05]\n",
      " [0.00000000e+00 1.00000000e+00 6.40000000e+01 7.29000000e+02\n",
      "  4.09600000e+03 1.56250000e+04 4.66560000e+04 1.17649000e+05\n",
      "  2.62144000e+05 5.31441000e+05 1.00000000e+06]\n",
      " [0.00000000e+00 1.00000000e+00 1.28000000e+02 2.18700000e+03\n",
      "  1.63840000e+04 7.81250000e+04 2.79936000e+05 8.23543000e+05\n",
      "  2.09715200e+06 4.78296900e+06 1.00000000e+07]\n",
      " [0.00000000e+00 1.00000000e+00 2.56000000e+02 6.56100000e+03\n",
      "  6.55360000e+04 3.90625000e+05 1.67961600e+06 5.76480100e+06\n",
      "  1.67772160e+07 4.30467210e+07 1.00000000e+08]\n",
      " [0.00000000e+00 1.00000000e+00 5.12000000e+02 1.96830000e+04\n",
      "  2.62144000e+05 1.95312500e+06 1.00776960e+07 4.03536070e+07\n",
      "  1.34217728e+08 3.87420489e+08 1.00000000e+09]\n",
      " [0.00000000e+00 1.00000000e+00 1.02400000e+03 5.90490000e+04\n",
      "  1.04857600e+06 9.76562500e+06 6.04661760e+07 2.82475249e+08\n",
      "  1.07374182e+09 3.48678440e+09 1.00000000e+10]]\n",
      "[0.0000000e+00 0.0000000e+00 2.0000000e+00 4.2000000e+01 5.8800000e+02\n",
      " 6.8600000e+03 7.2030000e+04 7.0589400e+05 6.5883440e+06 5.9295096e+07\n",
      " 5.1883209e+08]\n",
      "[[1.00000000e+00 1.00000000e+00 1.00000000e+00 1.00000000e+00\n",
      "  1.00000000e+00 1.00000000e+00 1.00000000e+00 1.00000000e+00\n",
      "  1.00000000e+00 1.00000000e+00 1.00000000e+00]\n",
      " [0.00000000e+00 1.00000000e+00 2.00000000e+00 3.00000000e+00\n",
      "  4.00000000e+00 5.00000000e+00 6.00000000e+00 7.00000000e+00\n",
      "  8.00000000e+00 9.00000000e+00 1.00000000e+01]\n",
      " [0.00000000e+00 1.00000000e+00 4.00000000e+00 9.00000000e+00\n",
      "  1.60000000e+01 2.50000000e+01 3.60000000e+01 4.90000000e+01\n",
      "  6.40000000e+01 8.10000000e+01 1.00000000e+02]\n",
      " [0.00000000e+00 1.00000000e+00 8.00000000e+00 2.70000000e+01\n",
      "  6.40000000e+01 1.25000000e+02 2.16000000e+02 3.43000000e+02\n",
      "  5.12000000e+02 7.29000000e+02 1.00000000e+03]\n",
      " [0.00000000e+00 1.00000000e+00 1.60000000e+01 8.10000000e+01\n",
      "  2.56000000e+02 6.25000000e+02 1.29600000e+03 2.40100000e+03\n",
      "  4.09600000e+03 6.56100000e+03 1.00000000e+04]\n",
      " [0.00000000e+00 1.00000000e+00 3.20000000e+01 2.43000000e+02\n",
      "  1.02400000e+03 3.12500000e+03 7.77600000e+03 1.68070000e+04\n",
      "  3.27680000e+04 5.90490000e+04 1.00000000e+05]\n",
      " [0.00000000e+00 1.00000000e+00 6.40000000e+01 7.29000000e+02\n",
      "  4.09600000e+03 1.56250000e+04 4.66560000e+04 1.17649000e+05\n",
      "  2.62144000e+05 5.31441000e+05 1.00000000e+06]\n",
      " [0.00000000e+00 1.00000000e+00 1.28000000e+02 2.18700000e+03\n",
      "  1.63840000e+04 7.81250000e+04 2.79936000e+05 8.23543000e+05\n",
      "  2.09715200e+06 4.78296900e+06 1.00000000e+07]\n",
      " [0.00000000e+00 1.00000000e+00 2.56000000e+02 6.56100000e+03\n",
      "  6.55360000e+04 3.90625000e+05 1.67961600e+06 5.76480100e+06\n",
      "  1.67772160e+07 4.30467210e+07 1.00000000e+08]\n",
      " [0.00000000e+00 1.00000000e+00 5.12000000e+02 1.96830000e+04\n",
      "  2.62144000e+05 1.95312500e+06 1.00776960e+07 4.03536070e+07\n",
      "  1.34217728e+08 3.87420489e+08 1.00000000e+09]\n",
      " [0.00000000e+00 1.00000000e+00 1.02400000e+03 5.90490000e+04\n",
      "  1.04857600e+06 9.76562500e+06 6.04661760e+07 2.82475249e+08\n",
      "  1.07374182e+09 3.48678440e+09 1.00000000e+10]]\n",
      "[0.00000000e+00 0.00000000e+00 2.00000000e+00 4.80000000e+01\n",
      " 7.68000000e+02 1.02400000e+04 1.22880000e+05 1.37625600e+06\n",
      " 1.46800640e+07 1.50994944e+08 1.50994944e+09]\n",
      "[[1.00000000e+00 1.00000000e+00 1.00000000e+00 1.00000000e+00\n",
      "  1.00000000e+00 1.00000000e+00 1.00000000e+00 1.00000000e+00\n",
      "  1.00000000e+00 1.00000000e+00 1.00000000e+00]\n",
      " [0.00000000e+00 1.00000000e+00 2.00000000e+00 3.00000000e+00\n",
      "  4.00000000e+00 5.00000000e+00 6.00000000e+00 7.00000000e+00\n",
      "  8.00000000e+00 9.00000000e+00 1.00000000e+01]\n",
      " [0.00000000e+00 1.00000000e+00 4.00000000e+00 9.00000000e+00\n",
      "  1.60000000e+01 2.50000000e+01 3.60000000e+01 4.90000000e+01\n",
      "  6.40000000e+01 8.10000000e+01 1.00000000e+02]\n",
      " [0.00000000e+00 1.00000000e+00 8.00000000e+00 2.70000000e+01\n",
      "  6.40000000e+01 1.25000000e+02 2.16000000e+02 3.43000000e+02\n",
      "  5.12000000e+02 7.29000000e+02 1.00000000e+03]\n",
      " [0.00000000e+00 1.00000000e+00 1.60000000e+01 8.10000000e+01\n",
      "  2.56000000e+02 6.25000000e+02 1.29600000e+03 2.40100000e+03\n",
      "  4.09600000e+03 6.56100000e+03 1.00000000e+04]\n",
      " [0.00000000e+00 1.00000000e+00 3.20000000e+01 2.43000000e+02\n",
      "  1.02400000e+03 3.12500000e+03 7.77600000e+03 1.68070000e+04\n",
      "  3.27680000e+04 5.90490000e+04 1.00000000e+05]\n",
      " [0.00000000e+00 1.00000000e+00 6.40000000e+01 7.29000000e+02\n",
      "  4.09600000e+03 1.56250000e+04 4.66560000e+04 1.17649000e+05\n",
      "  2.62144000e+05 5.31441000e+05 1.00000000e+06]\n",
      " [0.00000000e+00 1.00000000e+00 1.28000000e+02 2.18700000e+03\n",
      "  1.63840000e+04 7.81250000e+04 2.79936000e+05 8.23543000e+05\n",
      "  2.09715200e+06 4.78296900e+06 1.00000000e+07]\n",
      " [0.00000000e+00 1.00000000e+00 2.56000000e+02 6.56100000e+03\n",
      "  6.55360000e+04 3.90625000e+05 1.67961600e+06 5.76480100e+06\n",
      "  1.67772160e+07 4.30467210e+07 1.00000000e+08]\n",
      " [0.00000000e+00 1.00000000e+00 5.12000000e+02 1.96830000e+04\n",
      "  2.62144000e+05 1.95312500e+06 1.00776960e+07 4.03536070e+07\n",
      "  1.34217728e+08 3.87420489e+08 1.00000000e+09]\n",
      " [0.00000000e+00 1.00000000e+00 1.02400000e+03 5.90490000e+04\n",
      "  1.04857600e+06 9.76562500e+06 6.04661760e+07 2.82475249e+08\n",
      "  1.07374182e+09 3.48678440e+09 1.00000000e+10]]\n",
      "[0.00000000e+00 0.00000000e+00 2.00000000e+00 5.40000000e+01\n",
      " 9.72000000e+02 1.45800000e+04 1.96830000e+05 2.48005800e+06\n",
      " 2.97606960e+07 3.44373768e+08 3.87420489e+09]\n",
      "[[1.00000000e+00 1.00000000e+00 1.00000000e+00 1.00000000e+00\n",
      "  1.00000000e+00 1.00000000e+00 1.00000000e+00 1.00000000e+00\n",
      "  1.00000000e+00 1.00000000e+00 1.00000000e+00]\n",
      " [0.00000000e+00 1.00000000e+00 2.00000000e+00 3.00000000e+00\n",
      "  4.00000000e+00 5.00000000e+00 6.00000000e+00 7.00000000e+00\n",
      "  8.00000000e+00 9.00000000e+00 1.00000000e+01]\n",
      " [0.00000000e+00 1.00000000e+00 4.00000000e+00 9.00000000e+00\n",
      "  1.60000000e+01 2.50000000e+01 3.60000000e+01 4.90000000e+01\n",
      "  6.40000000e+01 8.10000000e+01 1.00000000e+02]\n",
      " [0.00000000e+00 1.00000000e+00 8.00000000e+00 2.70000000e+01\n",
      "  6.40000000e+01 1.25000000e+02 2.16000000e+02 3.43000000e+02\n",
      "  5.12000000e+02 7.29000000e+02 1.00000000e+03]\n",
      " [0.00000000e+00 1.00000000e+00 1.60000000e+01 8.10000000e+01\n",
      "  2.56000000e+02 6.25000000e+02 1.29600000e+03 2.40100000e+03\n",
      "  4.09600000e+03 6.56100000e+03 1.00000000e+04]\n",
      " [0.00000000e+00 1.00000000e+00 3.20000000e+01 2.43000000e+02\n",
      "  1.02400000e+03 3.12500000e+03 7.77600000e+03 1.68070000e+04\n",
      "  3.27680000e+04 5.90490000e+04 1.00000000e+05]\n",
      " [0.00000000e+00 1.00000000e+00 6.40000000e+01 7.29000000e+02\n",
      "  4.09600000e+03 1.56250000e+04 4.66560000e+04 1.17649000e+05\n",
      "  2.62144000e+05 5.31441000e+05 1.00000000e+06]\n",
      " [0.00000000e+00 1.00000000e+00 1.28000000e+02 2.18700000e+03\n",
      "  1.63840000e+04 7.81250000e+04 2.79936000e+05 8.23543000e+05\n",
      "  2.09715200e+06 4.78296900e+06 1.00000000e+07]\n",
      " [0.00000000e+00 1.00000000e+00 2.56000000e+02 6.56100000e+03\n",
      "  6.55360000e+04 3.90625000e+05 1.67961600e+06 5.76480100e+06\n",
      "  1.67772160e+07 4.30467210e+07 1.00000000e+08]\n",
      " [0.00000000e+00 1.00000000e+00 5.12000000e+02 1.96830000e+04\n",
      "  2.62144000e+05 1.95312500e+06 1.00776960e+07 4.03536070e+07\n",
      "  1.34217728e+08 3.87420489e+08 1.00000000e+09]\n",
      " [0.00000000e+00 1.00000000e+00 1.02400000e+03 5.90490000e+04\n",
      "  1.04857600e+06 9.76562500e+06 6.04661760e+07 2.82475249e+08\n",
      "  1.07374182e+09 3.48678440e+09 1.00000000e+10]]\n",
      "[0.0e+00 0.0e+00 2.0e+00 6.0e+01 1.2e+03 2.0e+04 3.0e+05 4.2e+06 5.6e+07\n",
      " 7.2e+08 9.0e+09]\n"
     ]
    },
    {
     "output_type": "display_data",
     "data": {
      "image/png": "[encoded data removed]",
      "text/plain": [
       "<Figure size 432x288 with 1 Axes>"
      ]
     },
     "metadata": {
      "needs_background": "light"
     }
    },
    {
     "output_type": "display_data",
     "data": {
      "text/plain": [
       "<Figure size 36000x36000 with 0 Axes>"
      ]
     },
     "metadata": {}
    }
   ],
   "metadata": {}
  }
 ],
 "metadata": {
  "kernelspec": {
   "name": "python3",
   "display_name": "Python 3.8.8 64-bit ('base': conda)"
  },
  "language_info": {
   "codemirror_mode": {
    "name": "ipython",
    "version": 3
   },
   "file_extension": ".py",
   "mimetype": "text/x-python",
   "name": "python",
   "nbconvert_exporter": "python",
   "pygments_lexer": "ipython3",
   "version": "3.8.8"
  },
  "interpreter": {
   "hash": "59206fe869fb356e9438cc0195726b2dc6202c9e6c9a4f653345eafbf448f153"
  }
 },
 "nbformat": 4,
 "nbformat_minor": 4
}