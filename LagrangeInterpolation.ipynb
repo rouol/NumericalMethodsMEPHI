{
 "cells": [
  {
   "cell_type": "code",
   "execution_count": 1,
   "source": [
    "import numpy as np\r\n",
    "from math import sin, cos, pi\r\n",
    "import matplotlib.pyplot as plt\r\n",
    "from numba import jit"
   ],
   "outputs": [],
   "metadata": {}
  },
  {
   "cell_type": "code",
   "execution_count": 2,
   "source": [
    "#@jit\r\n",
    "def LagrangeInterpolation(point, X, Y):\r\n",
    "    xp = point\r\n",
    "    yp = 0\r\n",
    "    for i in range(n):\r\n",
    "        p = 1\r\n",
    "        for j in range(n):\r\n",
    "            if i != j:\r\n",
    "                p = p * (xp - X[j])/(X[i] - X[j])\r\n",
    "        yp = yp + p * Y[i]\r\n",
    "        \r\n",
    "    return yp"
   ],
   "outputs": [],
   "metadata": {}
  },
  {
   "cell_type": "code",
   "execution_count": 27,
   "source": [
    "function = '(2+x**2+10*cos(x))/(10+x)'\r\n",
    "n = 25\r\n",
    "a = 0\r\n",
    "b = 10"
   ],
   "outputs": [],
   "metadata": {}
  },
  {
   "cell_type": "code",
   "execution_count": 68,
   "source": [
    "from scipy.misc import derivative\r\n",
    "def f(x):\r\n",
    "    return (2+x**2+10*cos(x))/(10+x)\r\n",
    "derivative(f, 5.0, dx=1e-6, n=10, args=(), order=111)"
   ],
   "outputs": [
    {
     "output_type": "execute_result",
     "data": {
      "text/plain": [
       "-1.6530801006980307e+43"
      ]
     },
     "metadata": {},
     "execution_count": 68
    }
   ],
   "metadata": {}
  },
  {
   "cell_type": "markdown",
   "source": [
    "Для равномерного распределения интерполяционных узлов"
   ],
   "metadata": {}
  },
  {
   "cell_type": "code",
   "execution_count": 31,
   "source": [
    "F = np.zeros(n, dtype=np.float64)\r\n",
    "X = np.linspace(a, b, num = n)\r\n",
    "for idx, x in np.ndenumerate(X):\r\n",
    "    F[idx] = eval(function)"
   ],
   "outputs": [],
   "metadata": {}
  },
  {
   "cell_type": "code",
   "execution_count": 32,
   "source": [
    "newX = np.linspace(a - (b-a)/n, b + (b-a)/n, num = n, dtype=np.float64)\r\n",
    "iF = np.zeros(n, dtype=np.float64)\r\n",
    "newF = np.zeros(n, dtype=np.float64)\r\n",
    "serror = 0\r\n",
    "for idx, x in np.ndenumerate(newX):\r\n",
    "    iF[idx] = LagrangeInterpolation(newX[idx], X, F)\r\n",
    "    newF[idx] = eval(function)\r\n",
    "    serror = abs((iF[idx] - newF[idx])/iF[idx])\r\n",
    "avgerr = serror / (n * 10)\r\n",
    "print('ошибочка вышла:', avgerr)"
   ],
   "outputs": [
    {
     "output_type": "stream",
     "name": "stdout",
     "text": [
      "ошибочка вышла: 7.400047425886963e-12\n"
     ]
    }
   ],
   "metadata": {}
  },
  {
   "cell_type": "markdown",
   "source": [
    "Для Чебышевского распределения интерполяционных узлов"
   ],
   "metadata": {}
  },
  {
   "cell_type": "code",
   "execution_count": 33,
   "source": [
    "F = np.zeros(n, dtype=np.float64)\r\n",
    "X = np.zeros(n, dtype=np.float64)\r\n",
    "for k in range(0, 2 * n, 2):\r\n",
    "    X[int(k/2)] = (a + b) / 2 + (b - a) / 2 * cos((2 * k - 1)/(2 * n) * pi)\r\n",
    "X.sort()\r\n",
    "for idx, x in np.ndenumerate(X):\r\n",
    "    F[idx] = eval(function)"
   ],
   "outputs": [],
   "metadata": {}
  },
  {
   "cell_type": "code",
   "execution_count": 36,
   "source": [
    "newX = np.linspace(a - (b-a)/n, b + (b-a)/n, num = n, dtype=np.float64)\r\n",
    "iF = np.zeros(n, dtype=np.float64)\r\n",
    "newF = np.zeros(n, dtype=np.float64)\r\n",
    "serror = 0\r\n",
    "Rn = np.zeros(n, dtype=np.float64)\r\n",
    "for idx, x in np.ndenumerate(newX):\r\n",
    "    iF[idx] = LagrangeInterpolation(newX[idx], X, F)\r\n",
    "    newF[idx] = eval(function)\r\n",
    "    serror = abs((iF[idx] - newF[idx])/iF[idx])\r\n",
    "avgerr = serror / (n * 10)\r\n",
    "print('ошибочка вышла:', avgerr)"
   ],
   "outputs": [
    {
     "output_type": "stream",
     "name": "stdout",
     "text": [
      "ошибочка вышла: 2.7957215009125e-15\n"
     ]
    }
   ],
   "metadata": {}
  },
  {
   "cell_type": "code",
   "execution_count": 38,
   "source": [
    "Rn = np.abs(iF - newF)\r\n",
    "Rn"
   ],
   "outputs": [
    {
     "output_type": "execute_result",
     "data": {
      "text/plain": [
       "array([2.50222065e-12, 1.11022302e-15, 6.66133815e-16, 1.11022302e-16,\n",
       "       4.44089210e-16, 1.66533454e-16, 6.24500451e-17, 1.70002901e-16,\n",
       "       2.77555756e-17, 3.33066907e-16, 7.77156117e-16, 2.22044605e-16,\n",
       "       1.11022302e-15, 8.88178420e-16, 8.88178420e-16, 1.77635684e-15,\n",
       "       4.44089210e-16, 4.44089210e-16, 2.22044605e-15, 1.33226763e-15,\n",
       "       0.00000000e+00, 3.10862447e-15, 8.88178420e-16, 2.66453526e-15,\n",
       "       3.58202357e-12])"
      ]
     },
     "metadata": {},
     "execution_count": 38
    }
   ],
   "metadata": {}
  },
  {
   "cell_type": "code",
   "execution_count": 35,
   "source": [
    "plt.plot(newX, newF, color='red', label='заданная функция')\r\n",
    "plt.plot(X, F, color='#8b0000', marker='o', linewidth=0, label='заданные точки')\r\n",
    "plt.plot(newX, iF, 'blue', label='интерполяция')\r\n",
    "plt.legend()\r\n",
    "plt.show()"
   ],
   "outputs": [
    {
     "output_type": "display_data",
     "data": {
      "image/png": "[encoded data removed]",
      "text/plain": [
       "<Figure size 432x288 with 1 Axes>"
      ]
     },
     "metadata": {
      "needs_background": "light"
     }
    }
   ],
   "metadata": {}
  }
 ],
 "metadata": {
  "kernelspec": {
   "name": "python3",
   "display_name": "Python 3.8.8 64-bit ('base': conda)"
  },
  "language_info": {
   "codemirror_mode": {
    "name": "ipython",
    "version": 3
   },
   "file_extension": ".py",
   "mimetype": "text/x-python",
   "name": "python",
   "nbconvert_exporter": "python",
   "pygments_lexer": "ipython3",
   "version": "3.8.8"
  },
  "interpreter": {
   "hash": "59206fe869fb356e9438cc0195726b2dc6202c9e6c9a4f653345eafbf448f153"
  }
 },
 "nbformat": 4,
 "nbformat_minor": 4
}