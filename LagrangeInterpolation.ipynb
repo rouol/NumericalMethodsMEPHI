{
 "cells": [
  {
   "cell_type": "code",
   "execution_count": 1,
   "source": [
    "import numpy as np\r\n",
    "from math import sin, cos, pi, factorial, exp, tan\r\n",
    "import matplotlib.pyplot as plt\r\n",
    "%matplotlib inline\r\n",
    "import plotly.graph_objects as go\r\n",
    "from numba import jit"
   ],
   "outputs": [],
   "metadata": {}
  },
  {
   "cell_type": "code",
   "execution_count": 50,
   "source": [
    "#@jit\r\n",
    "def LagrangeInterpolation(point, X, Y):\r\n",
    "    xp = point\r\n",
    "    yp = 0\r\n",
    "    n = X.shape[0]\r\n",
    "    for i in range(n):\r\n",
    "        p = 1\r\n",
    "        for j in range(n):\r\n",
    "            if i != j:\r\n",
    "                p = p * (xp - X[j])/(X[i] - X[j])\r\n",
    "        yp = yp + p * Y[i]\r\n",
    "        \r\n",
    "    return yp"
   ],
   "outputs": [],
   "metadata": {}
  },
  {
   "cell_type": "code",
   "execution_count": 35,
   "source": [
    "function = '(2+x**2+10*cos(x))/(10+x)'\r\n",
    "n = 20\r\n",
    "a = 0\r\n",
    "b = 10\r\n",
    "def Function(x):\r\n",
    "    function = '(2+x**2+10*cos(x))/(10+x)'\r\n",
    "    return eval(function)"
   ],
   "outputs": [],
   "metadata": {}
  },
  {
   "cell_type": "markdown",
   "source": [
    "Для равномерного распределения интерполяционных узлов"
   ],
   "metadata": {}
  },
  {
   "cell_type": "code",
   "execution_count": 58,
   "source": [
    "F = np.zeros(n, dtype=np.float64)\r\n",
    "X = np.linspace(a, b, num = n)\r\n",
    "for idx, x in np.ndenumerate(X):\r\n",
    "    F[idx] = eval(function)"
   ],
   "outputs": [],
   "metadata": {}
  },
  {
   "cell_type": "code",
   "execution_count": 59,
   "source": [
    "newX = np.linspace(a - (b-a)/n, b + (b-a)/n, num = n, dtype=np.float64)\r\n",
    "iF = np.zeros(n, dtype=np.float64)\r\n",
    "newF = np.zeros(n, dtype=np.float64)\r\n",
    "serror = 0\r\n",
    "for idx, x in np.ndenumerate(newX):\r\n",
    "    iF[idx] = LagrangeInterpolation(newX[idx], X, F)\r\n",
    "    newF[idx] = eval(function)\r\n",
    "    serror = abs((iF[idx] - newF[idx])/iF[idx])\r\n",
    "avgerr = serror / (n * 10)\r\n",
    "print('ошибочка вышла:', avgerr)"
   ],
   "outputs": [
    {
     "output_type": "stream",
     "name": "stdout",
     "text": [
      "ошибочка вышла: 6.68509588232438e-10\n"
     ]
    }
   ],
   "metadata": {}
  },
  {
   "cell_type": "markdown",
   "source": [
    "Для Чебышевского распределения интерполяционных узлов"
   ],
   "metadata": {}
  },
  {
   "cell_type": "code",
   "execution_count": 39,
   "source": [
    "F = np.zeros(n, dtype=np.float64)\r\n",
    "X = np.zeros(n, dtype=np.float64)\r\n",
    "for k in range(0, 2 * n, 2):\r\n",
    "    X[int(k/2)] = (a + b) / 2 + (b - a) / 2 * cos((2 * k - 1)/(2 * n) * pi)\r\n",
    "X.sort()\r\n",
    "for idx, x in np.ndenumerate(X):\r\n",
    "    F[idx] = eval(function)"
   ],
   "outputs": [],
   "metadata": {}
  },
  {
   "cell_type": "code",
   "execution_count": 40,
   "source": [
    "newX = np.linspace(a - (b-a)/n, b + (b-a)/n, num = n, dtype=np.float64)\r\n",
    "iF = np.zeros(n, dtype=np.float64)\r\n",
    "newF = np.zeros(n, dtype=np.float64)\r\n",
    "serror = 0\r\n",
    "Rn = np.zeros(n, dtype=np.float64)\r\n",
    "for idx, x in np.ndenumerate(newX):\r\n",
    "    iF[idx] = LagrangeInterpolation(newX[idx], X, F)\r\n",
    "    newF[idx] = eval(function)\r\n",
    "    serror = abs((iF[idx] - newF[idx])/iF[idx])\r\n",
    "avgerr = serror / (n * 10)\r\n",
    "print('ошибочка вышла:', avgerr)"
   ],
   "outputs": [
    {
     "output_type": "stream",
     "name": "stdout",
     "text": [
      "ошибочка вышла: 7.499845496842708e-11\n"
     ]
    }
   ],
   "metadata": {}
  },
  {
   "cell_type": "code",
   "execution_count": 287,
   "source": [
    "Rn = np.abs(iF - newF)\r\n",
    "Rn"
   ],
   "outputs": [
    {
     "output_type": "execute_result",
     "data": {
      "text/plain": [
       "array([3.66061873e-04, 2.99278119e-07, 3.19286400e-07, 2.76350537e-07,\n",
       "       2.77895927e-07, 2.60267921e-07, 1.59618843e-07, 6.66133815e-16,\n",
       "       1.31022607e-07, 1.74697671e-07, 1.51298140e-07, 1.20403842e-07,\n",
       "       1.09011215e-07, 7.74971598e-08, 6.81631225e-05])"
      ]
     },
     "metadata": {},
     "execution_count": 287
    }
   ],
   "metadata": {}
  },
  {
   "cell_type": "code",
   "execution_count": 60,
   "source": [
    "#plt.style.use('seaborn-deep')\r\n",
    "plt.style.use('default')\r\n",
    "plt.plot(newX, newF, color='red', label='заданная функция')\r\n",
    "plt.plot(X, F, color='#8b0000', marker='o', linewidth=0, label='заданные точки')\r\n",
    "plt.plot(newX, iF, 'blue', label='интерполяция')\r\n",
    "plt.legend()\r\n",
    "plt.grid()\r\n",
    "plt.figure(figsize=(500, 500))\r\n",
    "plt.show()"
   ],
   "outputs": [
    {
     "output_type": "display_data",
     "data": {
      "image/png": "[encoded data removed]",
      "text/plain": [
       "<Figure size 640x480 with 1 Axes>"
      ]
     },
     "metadata": {}
    },
    {
     "output_type": "display_data",
     "data": {
      "text/plain": [
       "<Figure size 50000x50000 with 0 Axes>"
      ]
     },
     "metadata": {}
    }
   ],
   "metadata": {}
  },
  {
   "cell_type": "code",
   "execution_count": 61,
   "source": [
    "# Create traces\r\n",
    "fig = go.Figure()\r\n",
    "fig.add_trace(go.Scatter(\r\n",
    "                    x=newX,\r\n",
    "                    y=newF,\r\n",
    "                    mode='lines',\r\n",
    "                    name='заданная функция',\r\n",
    "                    line=dict(color='red')))\r\n",
    "fig.add_trace(go.Scatter(\r\n",
    "                    x=X,\r\n",
    "                    y=F,\r\n",
    "                    mode='markers',\r\n",
    "                    name='заданные точки'))\r\n",
    "fig.add_trace(go.Scatter(\r\n",
    "                    x=newX,\r\n",
    "                    y=iF,\r\n",
    "                    mode='lines',\r\n",
    "                    name='интерполяция',\r\n",
    "                    line=dict(color='blue')))\r\n",
    "\r\n",
    "# Edit the layout\r\n",
    "fig.update_layout(title='Интерполяция функции по точкам',\r\n",
    "                   xaxis_title='x',\r\n",
    "                   yaxis_title='y')\r\n",
    "\r\n",
    "fig.update_layout(\r\n",
    "    width=900,\r\n",
    "    height=600\r\n",
    "    )\r\n",
    "\r\n",
    "fig.show()"
   ],
   "outputs": [
    {
     "output_type": "display_data",
     "data": {
      "application/vnd.plotly.v1+json": {
       "config": {
        "plotlyServerURL": "https://plot.ly"
       },
       "data": [
        {
         "line": {
          "color": "red"
         },
         "mode": "lines",
         "name": "заданная функция",
         "type": "scatter",
         "x": [
          -0.5,
          0.07894736842105265,
          0.6578947368421053,
          1.236842105263158,
          1.8157894736842106,
          2.3947368421052633,
          2.973684210526316,
          3.552631578947368,
          4.131578947368421,
          4.710526315789474,
          5.2894736842105265,
          5.868421052631579,
          6.447368421052632,
          7.026315789473685,
          7.605263157894736,
          8.18421052631579,
          8.763157894736842,
          9.342105263157896,
          9.921052631578949,
          10.5
         ],
         "y": [
          1.1606132230424977,
          1.188128580989482,
          0.9707018376615748,
          0.6058278467075894,
          0.2430302821401685,
          0.03198777465106014,
          0.07580214795129353,
          0.4024405945060746,
          0.9611757791577508,
          1.643070480124202,
          2.317565884772695,
          2.8730318506375943,
          3.2487921596631364,
          3.4495222144989075,
          3.5388081315231426,
          3.6151531696363044,
          3.778839235459299,
          4.100333654674324,
          4.5998402871491075,
          5.243640522928784
         ]
        },
        {
         "mode": "markers",
         "name": "заданные точки",
         "type": "scatter",
         "x": [
          0,
          0.5263157894736842,
          1.0526315789473684,
          1.5789473684210527,
          2.1052631578947367,
          2.631578947368421,
          3.1578947368421053,
          3.6842105263157894,
          4.2105263157894735,
          4.7368421052631575,
          5.263157894736842,
          5.789473684210526,
          6.315789473684211,
          6.842105263157895,
          7.368421052631579,
          7.894736842105263,
          8.421052631578947,
          8.947368421052632,
          9.473684210526315,
          10
         ],
         "y": [
          1.2,
          1.0377463063254366,
          0.7293194867475435,
          0.38099881951235826,
          0.11055604173802325,
          0.015661509307219566,
          0.14999572261457364,
          0.5122552869308689,
          1.0497808487216285,
          1.6748622149584367,
          2.2887961451216805,
          2.8071743503696776,
          3.1799798638030015,
          3.40175332888223,
          3.509856814763919,
          3.5719681771533884,
          3.666592278924181,
          3.8619357778996233,
          4.19862252872652,
          4.680464235461774
         ]
        },
        {
         "line": {
          "color": "blue"
         },
         "mode": "lines",
         "name": "интерполяция",
         "type": "scatter",
         "x": [
          -0.5,
          0.07894736842105265,
          0.6578947368421053,
          1.236842105263158,
          1.8157894736842106,
          2.3947368421052633,
          2.973684210526316,
          3.552631578947368,
          4.131578947368421,
          4.710526315789474,
          5.2894736842105265,
          5.868421052631579,
          6.447368421052632,
          7.026315789473685,
          7.605263157894736,
          8.18421052631579,
          8.763157894736842,
          9.342105263157896,
          9.921052631578949,
          10.5
         ],
         "y": [
          1.1606126304780684,
          1.1881285841295386,
          0.970701837421062,
          0.6058278467402396,
          0.24303028213372782,
          0.031987774652738866,
          0.07580214795074965,
          0.40244059450627995,
          0.9611757791576693,
          1.6430704801242249,
          2.3175658847727187,
          2.873031850637511,
          3.24879215966335,
          3.449522214498329,
          3.5388081315249598,
          3.615153169629219,
          3.7788392354958957,
          4.100333654400034,
          4.599840290798085,
          5.243639821844084
         ]
        }
       ],
       "layout": {
        "height": 600,
        "template": {
         "data": {
          "bar": [
           {
            "error_x": {
             "color": "#2a3f5f"
            },
            "error_y": {
             "color": "#2a3f5f"
            },
            "marker": {
             "line": {
              "color": "#E5ECF6",
              "width": 0.5
             },
             "pattern": {
              "fillmode": "overlay",
              "size": 10,
              "solidity": 0.2
             }
            },
            "type": "bar"
           }
          ],
          "barpolar": [
           {
            "marker": {
             "line": {
              "color": "#E5ECF6",
              "width": 0.5
             },
             "pattern": {
              "fillmode": "overlay",
              "size": 10,
              "solidity": 0.2
             }
            },
            "type": "barpolar"
           }
          ],
          "carpet": [
           {
            "aaxis": {
             "endlinecolor": "#2a3f5f",
             "gridcolor": "white",
             "linecolor": "white",
             "minorgridcolor": "white",
             "startlinecolor": "#2a3f5f"
            },
            "baxis": {
             "endlinecolor": "#2a3f5f",
             "gridcolor": "white",
             "linecolor": "white",
             "minorgridcolor": "white",
             "startlinecolor": "#2a3f5f"
            },
            "type": "carpet"
           }
          ],
          "choropleth": [
           {
            "colorbar": {
             "outlinewidth": 0,
             "ticks": ""
            },
            "type": "choropleth"
           }
          ],
          "contour": [
           {
            "colorbar": {
             "outlinewidth": 0,
             "ticks": ""
            },
            "colorscale": [
             [
              0,
              "#0d0887"
             ],
             [
              0.1111111111111111,
              "#46039f"
             ],
             [
              0.2222222222222222,
              "#7201a8"
             ],
             [
              0.3333333333333333,
              "#9c179e"
             ],
             [
              0.4444444444444444,
              "#bd3786"
             ],
             [
              0.5555555555555556,
              "#d8576b"
             ],
             [
              0.6666666666666666,
              "#ed7953"
             ],
             [
              0.7777777777777778,
              "#fb9f3a"
             ],
             [
              0.8888888888888888,
              "#fdca26"
             ],
             [
              1,
              "#f0f921"
             ]
            ],
            "type": "contour"
           }
          ],
          "contourcarpet": [
           {
            "colorbar": {
             "outlinewidth": 0,
             "ticks": ""
            },
            "type": "contourcarpet"
           }
          ],
          "heatmap": [
           {
            "colorbar": {
             "outlinewidth": 0,
             "ticks": ""
            },
            "colorscale": [
             [
              0,
              "#0d0887"
             ],
             [
              0.1111111111111111,
              "#46039f"
             ],
             [
              0.2222222222222222,
              "#7201a8"
             ],
             [
              0.3333333333333333,
              "#9c179e"
             ],
             [
              0.4444444444444444,
              "#bd3786"
             ],
             [
              0.5555555555555556,
              "#d8576b"
             ],
             [
              0.6666666666666666,
              "#ed7953"
             ],
             [
              0.7777777777777778,
              "#fb9f3a"
             ],
             [
              0.8888888888888888,
              "#fdca26"
             ],
             [
              1,
              "#f0f921"
             ]
            ],
            "type": "heatmap"
           }
          ],
          "heatmapgl": [
           {
            "colorbar": {
             "outlinewidth": 0,
             "ticks": ""
            },
            "colorscale": [
             [
              0,
              "#0d0887"
             ],
             [
              0.1111111111111111,
              "#46039f"
             ],
             [
              0.2222222222222222,
              "#7201a8"
             ],
             [
              0.3333333333333333,
              "#9c179e"
             ],
             [
              0.4444444444444444,
              "#bd3786"
             ],
             [
              0.5555555555555556,
              "#d8576b"
             ],
             [
              0.6666666666666666,
              "#ed7953"
             ],
             [
              0.7777777777777778,
              "#fb9f3a"
             ],
             [
              0.8888888888888888,
              "#fdca26"
             ],
             [
              1,
              "#f0f921"
             ]
            ],
            "type": "heatmapgl"
           }
          ],
          "histogram": [
           {
            "marker": {
             "pattern": {
              "fillmode": "overlay",
              "size": 10,
              "solidity": 0.2
             }
            },
            "type": "histogram"
           }
          ],
          "histogram2d": [
           {
            "colorbar": {
             "outlinewidth": 0,
             "ticks": ""
            },
            "colorscale": [
             [
              0,
              "#0d0887"
             ],
             [
              0.1111111111111111,
              "#46039f"
             ],
             [
              0.2222222222222222,
              "#7201a8"
             ],
             [
              0.3333333333333333,
              "#9c179e"
             ],
             [
              0.4444444444444444,
              "#bd3786"
             ],
             [
              0.5555555555555556,
              "#d8576b"
             ],
             [
              0.6666666666666666,
              "#ed7953"
             ],
             [
              0.7777777777777778,
              "#fb9f3a"
             ],
             [
              0.8888888888888888,
              "#fdca26"
             ],
             [
              1,
              "#f0f921"
             ]
            ],
            "type": "histogram2d"
           }
          ],
          "histogram2dcontour": [
           {
            "colorbar": {
             "outlinewidth": 0,
             "ticks": ""
            },
            "colorscale": [
             [
              0,
              "#0d0887"
             ],
             [
              0.1111111111111111,
              "#46039f"
             ],
             [
              0.2222222222222222,
              "#7201a8"
             ],
             [
              0.3333333333333333,
              "#9c179e"
             ],
             [
              0.4444444444444444,
              "#bd3786"
             ],
             [
              0.5555555555555556,
              "#d8576b"
             ],
             [
              0.6666666666666666,
              "#ed7953"
             ],
             [
              0.7777777777777778,
              "#fb9f3a"
             ],
             [
              0.8888888888888888,
              "#fdca26"
             ],
             [
              1,
              "#f0f921"
             ]
            ],
            "type": "histogram2dcontour"
           }
          ],
          "mesh3d": [
           {
            "colorbar": {
             "outlinewidth": 0,
             "ticks": ""
            },
            "type": "mesh3d"
           }
          ],
          "parcoords": [
           {
            "line": {
             "colorbar": {
              "outlinewidth": 0,
              "ticks": ""
             }
            },
            "type": "parcoords"
           }
          ],
          "pie": [
           {
            "automargin": true,
            "type": "pie"
           }
          ],
          "scatter": [
           {
            "marker": {
             "colorbar": {
              "outlinewidth": 0,
              "ticks": ""
             }
            },
            "type": "scatter"
           }
          ],
          "scatter3d": [
           {
            "line": {
             "colorbar": {
              "outlinewidth": 0,
              "ticks": ""
             }
            },
            "marker": {
             "colorbar": {
              "outlinewidth": 0,
              "ticks": ""
             }
            },
            "type": "scatter3d"
           }
          ],
          "scattercarpet": [
           {
            "marker": {
             "colorbar": {
              "outlinewidth": 0,
              "ticks": ""
             }
            },
            "type": "scattercarpet"
           }
          ],
          "scattergeo": [
           {
            "marker": {
             "colorbar": {
              "outlinewidth": 0,
              "ticks": ""
             }
            },
            "type": "scattergeo"
           }
          ],
          "scattergl": [
           {
            "marker": {
             "colorbar": {
              "outlinewidth": 0,
              "ticks": ""
             }
            },
            "type": "scattergl"
           }
          ],
          "scattermapbox": [
           {
            "marker": {
             "colorbar": {
              "outlinewidth": 0,
              "ticks": ""
             }
            },
            "type": "scattermapbox"
           }
          ],
          "scatterpolar": [
           {
            "marker": {
             "colorbar": {
              "outlinewidth": 0,
              "ticks": ""
             }
            },
            "type": "scatterpolar"
           }
          ],
          "scatterpolargl": [
           {
            "marker": {
             "colorbar": {
              "outlinewidth": 0,
              "ticks": ""
             }
            },
            "type": "scatterpolargl"
           }
          ],
          "scatterternary": [
           {
            "marker": {
             "colorbar": {
              "outlinewidth": 0,
              "ticks": ""
             }
            },
            "type": "scatterternary"
           }
          ],
          "surface": [
           {
            "colorbar": {
             "outlinewidth": 0,
             "ticks": ""
            },
            "colorscale": [
             [
              0,
              "#0d0887"
             ],
             [
              0.1111111111111111,
              "#46039f"
             ],
             [
              0.2222222222222222,
              "#7201a8"
             ],
             [
              0.3333333333333333,
              "#9c179e"
             ],
             [
              0.4444444444444444,
              "#bd3786"
             ],
             [
              0.5555555555555556,
              "#d8576b"
             ],
             [
              0.6666666666666666,
              "#ed7953"
             ],
             [
              0.7777777777777778,
              "#fb9f3a"
             ],
             [
              0.8888888888888888,
              "#fdca26"
             ],
             [
              1,
              "#f0f921"
             ]
            ],
            "type": "surface"
           }
          ],
          "table": [
           {
            "cells": {
             "fill": {
              "color": "#EBF0F8"
             },
             "line": {
              "color": "white"
             }
            },
            "header": {
             "fill": {
              "color": "#C8D4E3"
             },
             "line": {
              "color": "white"
             }
            },
            "type": "table"
           }
          ]
         },
         "layout": {
          "annotationdefaults": {
           "arrowcolor": "#2a3f5f",
           "arrowhead": 0,
           "arrowwidth": 1
          },
          "autotypenumbers": "strict",
          "coloraxis": {
           "colorbar": {
            "outlinewidth": 0,
            "ticks": ""
           }
          },
          "colorscale": {
           "diverging": [
            [
             0,
             "#8e0152"
            ],
            [
             0.1,
             "#c51b7d"
            ],
            [
             0.2,
             "#de77ae"
            ],
            [
             0.3,
             "#f1b6da"
            ],
            [
             0.4,
             "#fde0ef"
            ],
            [
             0.5,
             "#f7f7f7"
            ],
            [
             0.6,
             "#e6f5d0"
            ],
            [
             0.7,
             "#b8e186"
            ],
            [
             0.8,
             "#7fbc41"
            ],
            [
             0.9,
             "#4d9221"
            ],
            [
             1,
             "#276419"
            ]
           ],
           "sequential": [
            [
             0,
             "#0d0887"
            ],
            [
             0.1111111111111111,
             "#46039f"
            ],
            [
             0.2222222222222222,
             "#7201a8"
            ],
            [
             0.3333333333333333,
             "#9c179e"
            ],
            [
             0.4444444444444444,
             "#bd3786"
            ],
            [
             0.5555555555555556,
             "#d8576b"
            ],
            [
             0.6666666666666666,
             "#ed7953"
            ],
            [
             0.7777777777777778,
             "#fb9f3a"
            ],
            [
             0.8888888888888888,
             "#fdca26"
            ],
            [
             1,
             "#f0f921"
            ]
           ],
           "sequentialminus": [
            [
             0,
             "#0d0887"
            ],
            [
             0.1111111111111111,
             "#46039f"
            ],
            [
             0.2222222222222222,
             "#7201a8"
            ],
            [
             0.3333333333333333,
             "#9c179e"
            ],
            [
             0.4444444444444444,
             "#bd3786"
            ],
            [
             0.5555555555555556,
             "#d8576b"
            ],
            [
             0.6666666666666666,
             "#ed7953"
            ],
            [
             0.7777777777777778,
             "#fb9f3a"
            ],
            [
             0.8888888888888888,
             "#fdca26"
            ],
            [
             1,
             "#f0f921"
            ]
           ]
          },
          "colorway": [
           "#636efa",
           "#EF553B",
           "#00cc96",
           "#ab63fa",
           "#FFA15A",
           "#19d3f3",
           "#FF6692",
           "#B6E880",
           "#FF97FF",
           "#FECB52"
          ],
          "font": {
           "color": "#2a3f5f"
          },
          "geo": {
           "bgcolor": "white",
           "lakecolor": "white",
           "landcolor": "#E5ECF6",
           "showlakes": true,
           "showland": true,
           "subunitcolor": "white"
          },
          "hoverlabel": {
           "align": "left"
          },
          "hovermode": "closest",
          "mapbox": {
           "style": "light"
          },
          "paper_bgcolor": "white",
          "plot_bgcolor": "#E5ECF6",
          "polar": {
           "angularaxis": {
            "gridcolor": "white",
            "linecolor": "white",
            "ticks": ""
           },
           "bgcolor": "#E5ECF6",
           "radialaxis": {
            "gridcolor": "white",
            "linecolor": "white",
            "ticks": ""
           }
          },
          "scene": {
           "xaxis": {
            "backgroundcolor": "#E5ECF6",
            "gridcolor": "white",
            "gridwidth": 2,
            "linecolor": "white",
            "showbackground": true,
            "ticks": "",
            "zerolinecolor": "white"
           },
           "yaxis": {
            "backgroundcolor": "#E5ECF6",
            "gridcolor": "white",
            "gridwidth": 2,
            "linecolor": "white",
            "showbackground": true,
            "ticks": "",
            "zerolinecolor": "white"
           },
           "zaxis": {
            "backgroundcolor": "#E5ECF6",
            "gridcolor": "white",
            "gridwidth": 2,
            "linecolor": "white",
            "showbackground": true,
            "ticks": "",
            "zerolinecolor": "white"
           }
          },
          "shapedefaults": {
           "line": {
            "color": "#2a3f5f"
           }
          },
          "ternary": {
           "aaxis": {
            "gridcolor": "white",
            "linecolor": "white",
            "ticks": ""
           },
           "baxis": {
            "gridcolor": "white",
            "linecolor": "white",
            "ticks": ""
           },
           "bgcolor": "#E5ECF6",
           "caxis": {
            "gridcolor": "white",
            "linecolor": "white",
            "ticks": ""
           }
          },
          "title": {
           "x": 0.05
          },
          "xaxis": {
           "automargin": true,
           "gridcolor": "white",
           "linecolor": "white",
           "ticks": "",
           "title": {
            "standoff": 15
           },
           "zerolinecolor": "white",
           "zerolinewidth": 2
          },
          "yaxis": {
           "automargin": true,
           "gridcolor": "white",
           "linecolor": "white",
           "ticks": "",
           "title": {
            "standoff": 15
           },
           "zerolinecolor": "white",
           "zerolinewidth": 2
          }
         }
        },
        "title": {
         "text": "Интерполяция функции по точкам"
        },
        "width": 900,
        "xaxis": {
         "title": {
          "text": "x"
         }
        },
        "yaxis": {
         "title": {
          "text": "y"
         }
        }
       }
      }
     },
     "metadata": {}
    }
   ],
   "metadata": {}
  },
  {
   "cell_type": "code",
   "execution_count": 93,
   "source": [
    "def Df(x, n, h = 0.1):\r\n",
    "    if n == 0: return Function(x)\r\n",
    "    if n == 1: return (Function(x + h) - Function(x - h)) / (2 * h)\r\n",
    "    fc = (Df(x + h, n-1) - Df(x - h, n-1)) / (2 * h)\r\n",
    "    return fc"
   ],
   "outputs": [],
   "metadata": {}
  },
  {
   "cell_type": "code",
   "execution_count": 62,
   "source": [
    "def NumericalDifferentiation(function, X, x, k):\r\n",
    "    Vfunction = np.vectorize(function)\r\n",
    "    n = X.shape[0]\r\n",
    "    rhs = np.array([0 if i < k else factorial(i)/factorial(i - k) * float(x)**(i - k) for i in range(n)])\r\n",
    "    matrix = np.zeros((n, n))\r\n",
    "    for i in range(n):\r\n",
    "        for j in range(n):\r\n",
    "            matrix[i][j] = np.power(X[j], i)\r\n",
    "    C = np.linalg.inv(matrix).dot(rhs)\r\n",
    "    Y = Vfunction(X)\r\n",
    "    return C.dot(Y)"
   ],
   "outputs": [],
   "metadata": {}
  },
  {
   "cell_type": "code",
   "execution_count": 63,
   "source": [
    "NumericalDifferentiation(lambda x: x**2, np.linspace(-8, 8, 17), -7, 1)"
   ],
   "outputs": [
    {
     "output_type": "execute_result",
     "data": {
      "text/plain": [
       "-13.999990443685874"
      ]
     },
     "metadata": {},
     "execution_count": 63
    }
   ],
   "metadata": {}
  },
  {
   "cell_type": "code",
   "execution_count": 64,
   "source": [
    "NumericalDifferentiation(lambda x: LagrangeInterpolation(x, np.linspace(-8, 8, 17), np.power(np.linspace(-8, 8, 17), 2)), np.linspace(-8, 8, 17), -7, 1)"
   ],
   "outputs": [
    {
     "output_type": "execute_result",
     "data": {
      "text/plain": [
       "-13.999990443685874"
      ]
     },
     "metadata": {},
     "execution_count": 64
    }
   ],
   "metadata": {}
  },
  {
   "cell_type": "code",
   "execution_count": 65,
   "source": [
    "NumericalDifferentiation(lambda x: exp(tan(x/5)), np.linspace(0, 10, 11), 2, 5)"
   ],
   "outputs": [
    {
     "output_type": "execute_result",
     "data": {
      "text/plain": [
       "-4850.569383058111"
      ]
     },
     "metadata": {},
     "execution_count": 65
    }
   ],
   "metadata": {}
  },
  {
   "cell_type": "code",
   "execution_count": 66,
   "source": [
    "np.vectorize(Function)([1,2])"
   ],
   "outputs": [
    {
     "output_type": "execute_result",
     "data": {
      "text/plain": [
       "array([0.76391119, 0.15321097])"
      ]
     },
     "metadata": {},
     "execution_count": 66
    }
   ],
   "metadata": {}
  },
  {
   "cell_type": "code",
   "execution_count": 67,
   "source": [
    "dX = np.array([NumericalDifferentiation(lambda x: LagrangeInterpolation(x, X, np.vectorize(Function)(X)), X, xi, 1) for xi in X])\r\n",
    "plt.plot(X, dX, color='red', label='производная')\r\n",
    "plt.plot(X, F, color='#8b0000', label='функция')\r\n",
    "plt.legend()\r\n",
    "plt.grid()\r\n",
    "plt.figure(figsize=(500, 500))\r\n",
    "plt.show()"
   ],
   "outputs": [
    {
     "output_type": "display_data",
     "data": {
      "image/png": "[encoded data removed]",
      "text/plain": [
       "<Figure size 640x480 with 1 Axes>"
      ]
     },
     "metadata": {}
    },
    {
     "output_type": "display_data",
     "data": {
      "text/plain": [
       "<Figure size 50000x50000 with 0 Axes>"
      ]
     },
     "metadata": {}
    }
   ],
   "metadata": {}
  }
 ],
 "metadata": {
  "kernelspec": {
   "name": "python3",
   "display_name": "Python 3.8.5 64-bit ('base': conda)"
  },
  "language_info": {
   "codemirror_mode": {
    "name": "ipython",
    "version": 3
   },
   "file_extension": ".py",
   "mimetype": "text/x-python",
   "name": "python",
   "nbconvert_exporter": "python",
   "pygments_lexer": "ipython3",
   "version": "3.8.5"
  },
  "interpreter": {
   "hash": "9615178fba751b4743b0cc83ec4ad046b4c617358a6c01c0a402618a15f80eef"
  }
 },
 "nbformat": 4,
 "nbformat_minor": 4
}