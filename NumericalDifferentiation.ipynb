{
 "cells": [
  {
   "cell_type": "code",
   "execution_count": 79,
   "source": [
    "import numpy as np\r\n",
    "import matplotlib.pyplot as plt\r\n",
    "%matplotlib inline\r\n",
    "import plotly.graph_objects as go\r\n",
    "from numba import jit\r\n",
    "import cmath, math, mpmath"
   ],
   "outputs": [],
   "metadata": {}
  },
  {
   "cell_type": "code",
   "execution_count": 80,
   "source": [
    "def NumericalIntegration(f, a, b, h = 0.001):\r\n",
    "    integral = 0\r\n",
    "    x = a\r\n",
    "    while x < b:\r\n",
    "        integral += h * f(x)\r\n",
    "        x += h\r\n",
    "    return integral"
   ],
   "outputs": [],
   "metadata": {}
  },
  {
   "cell_type": "code",
   "execution_count": 81,
   "source": [
    "def ComplexNumericalDifferentiation(function, z0, order = 1, h = 0.001, r = 1):\r\n",
    "    i = complex(0, 1)\r\n",
    "    #integral = complex(0, 0)\r\n",
    "    #phi = 0\r\n",
    "    #while phi < 2 * cmath.pi:\r\n",
    "    #    integral += h * function(z0 + cmath.exp(i * phi)) * cmath.exp(-i * order * phi)\r\n",
    "    #    phi += h\r\n",
    "    f = lambda _phi: function(z0 + r * np.exp(i * _phi)) * np.exp(-i * order * _phi) / np.power(r, order)\r\n",
    "    integral = NumericalIntegration(f, 0, 2 * np.pi, h)\r\n",
    "    integral /= (2 * np.pi)\r\n",
    "    integral *= mpmath.fac(order)\r\n",
    "    return integral"
   ],
   "outputs": [],
   "metadata": {}
  },
  {
   "cell_type": "code",
   "execution_count": 82,
   "source": [
    "def NumericalIntegration4(f, a, b, h = 0.001):\r\n",
    "    integral = 0\r\n",
    "    x = a\r\n",
    "    while x < b:\r\n",
    "        integral += h/8*(f(x+h*1)+3*f(x+h*2/3)+3*f(x+h*1/3)+f(x))\r\n",
    "        x += h\r\n",
    "    return integral"
   ],
   "outputs": [],
   "metadata": {}
  },
  {
   "cell_type": "code",
   "execution_count": 83,
   "source": [
    "print(NumericalIntegration4(lambda x: np.sin(x), 0, np.pi))"
   ],
   "outputs": [
    {
     "output_type": "stream",
     "name": "stdout",
     "text": [
      "1.9999999170346228\n"
     ]
    }
   ],
   "metadata": {}
  },
  {
   "cell_type": "code",
   "execution_count": 84,
   "source": [
    "def ComplexNumericalDifferentiationNewtonCotes4(function, z0, order = 1, h = 0.001, r = 1):\r\n",
    "\r\n",
    "    i = complex(0, 1)\r\n",
    "    integral = complex(0, 0)\r\n",
    "    phi = 0\r\n",
    "    while phi < 2 * cmath.pi:\r\n",
    "        #integral += h * function(z0 + cmath.exp(i * phi)) * cmath.exp(-i * order * phi)\r\n",
    "        f = lambda _phi: function(z0 + r * np.exp(i * _phi)) * np.exp(-i * order * _phi) / np.power(r, order)\r\n",
    "        integral += h/8*(f(phi-1)+3*f(phi-2/3)+3*f(phi-1/3)+f(phi))\r\n",
    "        phi += h\r\n",
    "    integral /= (2 * cmath.pi)\r\n",
    "    integral *= mpmath.fac(order)\r\n",
    "    return integral"
   ],
   "outputs": [],
   "metadata": {}
  },
  {
   "cell_type": "code",
   "execution_count": 85,
   "source": [
    "def ComplexNumericalDifferentiationNewtonCotes4X(function, z0, order = 1, h = 0.001, r = 1):\r\n",
    "\r\n",
    "    i = complex(0, 1)\r\n",
    "    f = lambda _phi: function(z0 + r * np.exp(i * _phi)) * np.exp(-i * order * _phi) / np.power(r, order)\r\n",
    "    integral = NumericalIntegration4(f, 0, 2 * cmath.pi, h)\r\n",
    "    integral /= (2 * cmath.pi)\r\n",
    "    integral *= mpmath.fac(order)\r\n",
    "    return integral"
   ],
   "outputs": [],
   "metadata": {}
  },
  {
   "cell_type": "code",
   "execution_count": 91,
   "source": [
    "def NumericalIntegration10(f, a, b, h = 0.001):\r\n",
    "    integral = 0\r\n",
    "    x = a\r\n",
    "    while x < b:\r\n",
    "        integral += h/89600*(2857*f(x+h) + 15741*f(x+h*8/9) + 1080*f(x+h*7/9) + 19344*f(x+h*6/9) + 5778*f(x+h*5/9) + 5778*f(x+h*4/9) + 19344*f(x+h*3/9) + 1080*f(x+h*2/9) + 15741*f(x+h*1/9) + 2857*f(x))\r\n",
    "        x += h\r\n",
    "    return integral"
   ],
   "outputs": [],
   "metadata": {}
  },
  {
   "cell_type": "code",
   "execution_count": 97,
   "source": [
    "def ComplexNumericalDifferentiation(function, z0, order = 1, h = 0.001, r = 1, integrator=NumericalIntegration10):\r\n",
    "\r\n",
    "    i = complex(0, 1)\r\n",
    "    f = lambda _phi: function(z0 + r * np.exp(i * _phi)) * np.exp(-i * order * _phi) / np.power(r, order)\r\n",
    "    integral = NumericalIntegration4(f, 0, 2 * cmath.pi, h)\r\n",
    "    integral /= (2 * cmath.pi)\r\n",
    "    integral *= mpmath.fac(order)\r\n",
    "    return integral"
   ],
   "outputs": [],
   "metadata": {}
  },
  {
   "cell_type": "code",
   "execution_count": 151,
   "source": [
    "#@jit\r\n",
    "def ComplexNumericalDifferentiationNewtonCotesN(function, z0, order = 1, h = 0.001, N = 10):\r\n",
    "\r\n",
    "    koefs = [\r\n",
    "        [1,0,0,0,0,0,0,0,0,0],\r\n",
    "        [1,1,0,0,0,0,0,0,0,0],\r\n",
    "\t\t[1,4,1,0,0,0,0,0,0,0],\r\n",
    "\t\t[1,3,3,1,0,0,0,0,0,0],\r\n",
    "\t\t[7,32,12,32,7,0,0,0,0,0],\r\n",
    "\t\t[19,75,50,50,75,19,0,0,0,0],\r\n",
    "\t\t[41,216,27,272,27,216,41,0,0,0],\r\n",
    "\t\t[751,3577,1323,2989,2989,1323,3577,751,0,0],\r\n",
    "\t\t[989,5888,-928,10496,-4540,10496,-928,5888,989,0],\r\n",
    "\t\t[2857,15741,1080,19344,5778,5778,19344,1080,15741,2857]\r\n",
    "    ]\r\n",
    "    #mltp = [1,1.0/2,1.0/3,3.0/8,2.0/45,5.0/288,1.0/140,7.0/17280,4.0/14175,9.0/89600]\r\n",
    "    mltp = [1,1.0/2,1.0/3,1.0/8,1.0/45,1.0/288,1.0/140,1.0/17280,1.0/14175,1.0/89600]\r\n",
    "\r\n",
    "    i = complex(0, 1)\r\n",
    "    integral = complex(0, 0)\r\n",
    "    phi = 0\r\n",
    "    while phi < 2 * cmath.pi:\r\n",
    "        #integral += h * function(z0 + cmath.exp(i * phi)) * cmath.exp(-i * order * phi)\r\n",
    "        f = lambda _phi: function(z0 + cmath.exp(i * _phi)) * cmath.exp(-i * order * _phi)\r\n",
    "        #integral += h/8*(f(phi-1)+3*f(phi-2/3)+3*f(phi-1/3)+f(phi))\r\n",
    "        PartSum = complex(0, 0)\r\n",
    "        for koef in koefs[N]:\r\n",
    "            PartSum += koef * f(phi)\r\n",
    "        integral += mltp[N] * PartSum * h\r\n",
    "        phi += h\r\n",
    "    integral /= (2 * cmath.pi)\r\n",
    "    integral *= mpmath.fac(order)\r\n",
    "    return integral"
   ],
   "outputs": [],
   "metadata": {}
  },
  {
   "cell_type": "code",
   "execution_count": 98,
   "source": [
    "print(ComplexNumericalDifferentiation(lambda z: z**5, 2).real)"
   ],
   "outputs": [
    {
     "output_type": "stream",
     "name": "stdout",
     "text": [
      "80.0315079552239\n"
     ]
    }
   ],
   "metadata": {}
  },
  {
   "cell_type": "code",
   "execution_count": 88,
   "source": [
    "print(ComplexNumericalDifferentiationNewtonCotes4(lambda z: z**5, 2).real)"
   ],
   "outputs": [
    {
     "output_type": "stream",
     "name": "stdout",
     "text": [
      "80.0249937041696\n"
     ]
    }
   ],
   "metadata": {}
  },
  {
   "cell_type": "code",
   "execution_count": 89,
   "source": [
    "print(ComplexNumericalDifferentiationNewtonCotes4X(lambda z: z**5, 2).real)"
   ],
   "outputs": [
    {
     "output_type": "stream",
     "name": "stdout",
     "text": [
      "80.0315079552239\n"
     ]
    }
   ],
   "metadata": {}
  },
  {
   "cell_type": "code",
   "execution_count": 40,
   "source": [
    "a = 0.1\r\n",
    "print(ComplexNumericalDifferentiationNewtonCotes4(lambda x: np.sin(x)/(x-a), a-0.1).real)"
   ],
   "outputs": [
    {
     "output_type": "stream",
     "name": "stdout",
     "text": [
      "-0.0165636961769187\n"
     ]
    }
   ],
   "metadata": {}
  },
  {
   "cell_type": "code",
   "execution_count": 153,
   "source": [
    "print(ComplexNumericalDifferentiationNewtonCotesN(lambda z: z**5, 2).real)"
   ],
   "outputs": [
    {
     "output_type": "stream",
     "name": "stdout",
     "text": [
      "80.031507961122\n"
     ]
    }
   ],
   "metadata": {}
  },
  {
   "cell_type": "code",
   "execution_count": 23,
   "source": [
    "print(ComplexNumericalDifferentiation(lambda x: eval('x**2'), 2).real)"
   ],
   "outputs": [
    {
     "output_type": "stream",
     "name": "stdout",
     "text": [
      "4.00116696151153\n"
     ]
    }
   ],
   "metadata": {}
  },
  {
   "cell_type": "code",
   "execution_count": 43,
   "source": [
    "from math import atan"
   ],
   "outputs": [],
   "metadata": {}
  },
  {
   "cell_type": "code",
   "execution_count": 44,
   "source": [
    "def LagrangeInterpolation(point, X, Y):\r\n",
    "    xp = point\r\n",
    "    yp = 0\r\n",
    "    n = X.shape[0]\r\n",
    "    for i in range(n):\r\n",
    "        p = 1\r\n",
    "        for j in range(n):\r\n",
    "            if i != j:\r\n",
    "                p = p * (xp - X[j])/(X[i] - X[j])\r\n",
    "        yp = yp + p * Y[i]\r\n",
    "        \r\n",
    "    return yp"
   ],
   "outputs": [],
   "metadata": {}
  },
  {
   "cell_type": "code",
   "execution_count": 99,
   "source": [
    "n = 20\r\n",
    "a = -3\r\n",
    "b = 3\r\n",
    "func = 'np.arctan(x)'\r\n",
    "d1func = '1/(x**2+1)'\r\n",
    "d2func = '-2*x/(x**2+1)**2'\r\n",
    "d5func = '(24*(5*x**4 - 10*x**2 + 1))/(x**2 + 1)**5'\r\n",
    "d10func = '-(725760*x*(5*x**8 - 60*x**6 + 126*x**4 - 60*x**2 + 5))/(x**2 + 1)**10'\r\n",
    "X = np.linspace(a, b, n, dtype=np.float64)\r\n",
    "d1F = np.zeros(n, dtype=np.float64)\r\n",
    "Cd1F = np.zeros(n, dtype=np.float64)\r\n",
    "\r\n",
    "d2F = np.zeros(n, dtype=np.float64)\r\n",
    "Cd2F = np.zeros(n, dtype=np.float64)\r\n",
    "Cd2F4 = np.zeros(n, dtype=np.float64)\r\n",
    "Cd2F4_ = np.zeros(n, dtype=np.float64)\r\n",
    "#Cd2F10 = np.zeros(n, dtype=np.float64)\r\n",
    "\r\n",
    "d5F = np.zeros(n, dtype=np.float64)\r\n",
    "Cd5F = np.zeros(n, dtype=np.float64)\r\n",
    "d10F = np.zeros(n, dtype=np.float64)\r\n",
    "Cd10F = np.zeros(n, dtype=np.float64)\r\n",
    "for idx, x in np.ndenumerate(X):\r\n",
    "    d1F[idx] = eval(d1func)\r\n",
    "    Cd1F[idx] = ComplexNumericalDifferentiation(lambda x: eval(func), x, 1).real\r\n",
    "    \r\n",
    "    d2F[idx] = eval(d2func)\r\n",
    "    Cd2F[idx] = ComplexNumericalDifferentiation(lambda x: eval(func), x, 2).real\r\n",
    "    Cd2F4[idx] = ComplexNumericalDifferentiationNewtonCotes4(lambda x: eval(func), x, 2).real\r\n",
    "    #Cd2F4_[idx] = ComplexNumericalDifferentiationNewtonCotes4(lambda x: LagrangeInterpolation(x, X, np.arctan(X)), x, 2).real\r\n",
    "    #Cd2F10[idx] = ComplexNumericalDifferentiationNewtonCotesN(lambda x: eval(func), x, 2).real\r\n",
    "\r\n",
    "    d5F[idx] = eval(d5func)\r\n",
    "    Cd5F[idx] = ComplexNumericalDifferentiationNewtonCotes4(lambda x: eval(func), x, 5).real\r\n",
    "    d10F[idx] = eval(d10func)\r\n",
    "    Cd10F[idx] = ComplexNumericalDifferentiationNewtonCotes4(lambda x: eval(func), x, 10, 0.0001).real\r\n",
    "    #serror = abs((iF[idx] - newF[idx])/iF[idx])\r\n",
    "#avgerr = serror / (n * 10)\r\n",
    "#print('ошибочка вышла:', avgerr)\r\n"
   ],
   "outputs": [],
   "metadata": {}
  },
  {
   "cell_type": "code",
   "execution_count": 77,
   "source": [
    "Cd2F4_ = np.zeros(n, dtype=np.float64)\r\n",
    "for idx, x in np.ndenumerate(X):\r\n",
    "    XX = np.linspace(x-0.01, x+0.01, 3)\r\n",
    "    Cd2F4_[idx] = ComplexNumericalDifferentiationNewtonCotes4(lambda x: LagrangeInterpolation(x, XX, np.arctan(XX)), x, 2).real"
   ],
   "outputs": [],
   "metadata": {}
  },
  {
   "cell_type": "code",
   "execution_count": 78,
   "source": [
    "plt.plot(X, d1F, color='red', label='первая производная аналитическая')\r\n",
    "plt.plot(X, Cd1F, color='#8b0000', label='первая производная численная')\r\n",
    "plt.legend()\r\n",
    "plt.grid()\r\n",
    "plt.figure(figsize=(500, 500))\r\n",
    "plt.show()\r\n",
    "\r\n",
    "plt.plot(X, np.abs(d1F-Cd1F)/np.abs(d1F), color='red', label='ошибка в первой производной')\r\n",
    "plt.legend()\r\n",
    "plt.grid()\r\n",
    "plt.figure(figsize=(500, 500))\r\n",
    "plt.show()\r\n",
    "\r\n",
    "plt.plot(X, d2F, color='red', label='вторая производная аналитическая')\r\n",
    "plt.plot(X, Cd2F, color='#8b0000', label='вторая производная численная')\r\n",
    "plt.plot(X, Cd2F4, color='blue', label='вторая производная численная 4 порядка')\r\n",
    "plt.plot(X, Cd2F4_, color='blue', label='вторая производная численная 4 порядка на основе интерполяции')\r\n",
    "#plt.plot(X, Cd2F10, color='green', label='вторая производная численная 10 порядка')\r\n",
    "plt.legend()\r\n",
    "plt.grid()\r\n",
    "plt.figure(figsize=(500, 500))\r\n",
    "plt.show()\r\n",
    "\r\n",
    "plt.plot(X, np.abs(d2F-Cd2F)/np.abs(d2F), color='red', label='ошибка во второй производной')\r\n",
    "plt.plot(X, np.abs(d2F-Cd2F4)/np.abs(d2F), color='blue', label='ошибка во второй производной 4 порядка')\r\n",
    "plt.plot(X, np.abs(d2F-Cd2F4_)/np.abs(d2F), color='purple', label='ошибка во второй производной 4 порядка на основе интерполяции')\r\n",
    "#plt.plot(X, np.abs(d2F-Cd2F10)/np.abs(d2F), color='green', label='ошибка во второй производной 10 порядка')\r\n",
    "plt.legend()\r\n",
    "plt.grid()\r\n",
    "plt.figure(figsize=(500, 500))\r\n",
    "plt.show()\r\n",
    "\r\n",
    "plt.plot(X, np.abs(Cd2F4-Cd2F4_), color='purple', label='ошибка между ошибками на основе интерполяции')\r\n",
    "#plt.plot(X, np.abs(d2F-Cd2F10)/np.abs(d2F), color='green', label='ошибка во второй производной 10 порядка')\r\n",
    "plt.legend()\r\n",
    "plt.grid()\r\n",
    "plt.figure(figsize=(500, 500))\r\n",
    "plt.show()\r\n",
    "\r\n",
    "plt.plot(X, d5F, color='red', label='пятая производная аналитическая')\r\n",
    "plt.plot(X, Cd5F, color='#8b0000', label='пятая производная численная')\r\n",
    "plt.legend()\r\n",
    "plt.grid()\r\n",
    "plt.figure(figsize=(500, 500))\r\n",
    "plt.show()\r\n",
    "\r\n",
    "plt.plot(X, (np.abs(d5F-Cd5F)/np.abs(d5F)), color='red', label='ошибка в пятой производной')\r\n",
    "plt.legend()\r\n",
    "plt.grid()\r\n",
    "plt.figure(figsize=(500, 500))\r\n",
    "plt.show()\r\n",
    "\r\n",
    "#'''\r\n",
    "plt.plot(X, d10F, color='red', label='десятая производная аналитическая')\r\n",
    "plt.plot(X, Cd10F, color='#8b0000', label='десятая производная численная')\r\n",
    "plt.legend()\r\n",
    "plt.grid()\r\n",
    "plt.figure(figsize=(500, 500))\r\n",
    "plt.show()\r\n",
    "\r\n",
    "plt.plot(X, (np.abs(d10F-Cd10F)/np.abs(d10F)), color='red', label='ошибка в десятой производной')\r\n",
    "plt.legend()\r\n",
    "plt.grid()\r\n",
    "plt.figure(figsize=(500, 500))\r\n",
    "plt.show()\r\n",
    "#'''"
   ],
   "outputs": [
    {
     "output_type": "display_data",
     "data": {
      "image/png": "[encoded data removed]",
      "text/plain": [
       "<Figure size 432x288 with 1 Axes>"
      ]
     },
     "metadata": {
      "needs_background": "light"
     }
    },
    {
     "output_type": "display_data",
     "data": {
      "text/plain": [
       "<Figure size 36000x36000 with 0 Axes>"
      ]
     },
     "metadata": {}
    },
    {
     "output_type": "display_data",
     "data": {
      "image/png": "[encoded data removed]",
      "text/plain": [
       "<Figure size 432x288 with 1 Axes>"
      ]
     },
     "metadata": {
      "needs_background": "light"
     }
    },
    {
     "output_type": "display_data",
     "data": {
      "text/plain": [
       "<Figure size 36000x36000 with 0 Axes>"
      ]
     },
     "metadata": {}
    },
    {
     "output_type": "display_data",
     "data": {
      "image/png": "[encoded data removed]",
      "text/plain": [
       "<Figure size 432x288 with 1 Axes>"
      ]
     },
     "metadata": {
      "needs_background": "light"
     }
    },
    {
     "output_type": "display_data",
     "data": {
      "text/plain": [
       "<Figure size 36000x36000 with 0 Axes>"
      ]
     },
     "metadata": {}
    },
    {
     "output_type": "display_data",
     "data": {
      "image/png": "[encoded data removed]",
      "text/plain": [
       "<Figure size 432x288 with 1 Axes>"
      ]
     },
     "metadata": {
      "needs_background": "light"
     }
    },
    {
     "output_type": "display_data",
     "data": {
      "text/plain": [
       "<Figure size 36000x36000 with 0 Axes>"
      ]
     },
     "metadata": {}
    },
    {
     "output_type": "display_data",
     "data": {
      "image/png": "[encoded data removed]",
      "text/plain": [
       "<Figure size 432x288 with 1 Axes>"
      ]
     },
     "metadata": {
      "needs_background": "light"
     }
    },
    {
     "output_type": "display_data",
     "data": {
      "text/plain": [
       "<Figure size 36000x36000 with 0 Axes>"
      ]
     },
     "metadata": {}
    },
    {
     "output_type": "display_data",
     "data": {
      "image/png": "[encoded data removed]",
      "text/plain": [
       "<Figure size 432x288 with 1 Axes>"
      ]
     },
     "metadata": {
      "needs_background": "light"
     }
    },
    {
     "output_type": "display_data",
     "data": {
      "text/plain": [
       "<Figure size 36000x36000 with 0 Axes>"
      ]
     },
     "metadata": {}
    },
    {
     "output_type": "display_data",
     "data": {
      "image/png": "[encoded data removed]",
      "text/plain": [
       "<Figure size 432x288 with 1 Axes>"
      ]
     },
     "metadata": {
      "needs_background": "light"
     }
    },
    {
     "output_type": "display_data",
     "data": {
      "text/plain": [
       "<Figure size 36000x36000 with 0 Axes>"
      ]
     },
     "metadata": {}
    },
    {
     "output_type": "display_data",
     "data": {
      "image/png": "[encoded data removed]",
      "text/plain": [
       "<Figure size 432x288 with 1 Axes>"
      ]
     },
     "metadata": {
      "needs_background": "light"
     }
    },
    {
     "output_type": "display_data",
     "data": {
      "text/plain": [
       "<Figure size 36000x36000 with 0 Axes>"
      ]
     },
     "metadata": {}
    },
    {
     "output_type": "display_data",
     "data": {
      "image/png": "[encoded data removed]",
      "text/plain": [
       "<Figure size 432x288 with 1 Axes>"
      ]
     },
     "metadata": {
      "needs_background": "light"
     }
    },
    {
     "output_type": "display_data",
     "data": {
      "text/plain": [
       "<Figure size 36000x36000 with 0 Axes>"
      ]
     },
     "metadata": {}
    }
   ],
   "metadata": {}
  },
  {
   "cell_type": "code",
   "execution_count": 161,
   "source": [
    "true_value = 80\r\n",
    "errors = {\r\n",
    "    'h': [],\r\n",
    "    'error': []\r\n",
    "}\r\n",
    "h = 10\r\n",
    "for s in range(-7, 0, 1):\r\n",
    "    ht = h ** s\r\n",
    "    errors['h'].append(ht)\r\n",
    "    value = float(ComplexNumericalDifferentiation(Function, 2, 1, ht).real)\r\n",
    "    errors['error'].append(abs(true_value - value))\r\n",
    "print(errors)"
   ],
   "outputs": [
    {
     "output_type": "stream",
     "name": "stdout",
     "text": [
      "{'h': [1e-07, 1e-06, 1e-05, 0.0001, 0.001, 0.01, 0.1], 'error': [3.6153998763666095e-06, 2.6809721518361584e-05, 0.00018149202125528063, 0.0005682397477642098, 0.03150796112203125, 0.26355626263935505, 0.649836431911524]}\n"
     ]
    }
   ],
   "metadata": {}
  },
  {
   "cell_type": "code",
   "execution_count": 162,
   "source": [
    "logerrors= {\r\n",
    "    'h': np.log(errors['h']),\r\n",
    "    'error': np.log(errors['error'])\r\n",
    "}\r\n",
    "logerrors"
   ],
   "outputs": [
    {
     "output_type": "execute_result",
     "data": {
      "text/plain": [
       "{'h': array([-16.11809565, -13.81551056, -11.51292546,  -9.21034037,\n",
       "         -6.90775528,  -4.60517019,  -2.30258509]),\n",
       " 'error': array([-12.53030809, -10.52674599,  -8.61429887,  -7.47296714,\n",
       "         -3.45751503,  -1.33348841,  -0.43103459])}"
      ]
     },
     "metadata": {},
     "execution_count": 162
    }
   ],
   "metadata": {}
  },
  {
   "cell_type": "code",
   "execution_count": 164,
   "source": [
    "plt.plot(logerrors['h'], errors['error'], color='#8b0000', marker='o', linewidth=1)#, label='заданные точки')\r\n",
    "plt.legend()\r\n",
    "plt.grid()\r\n",
    "plt.figure(figsize=(500, 500))\r\n",
    "plt.show()"
   ],
   "outputs": [
    {
     "output_type": "stream",
     "name": "stderr",
     "text": [
      "No handles with labels found to put in legend.\n"
     ]
    },
    {
     "output_type": "display_data",
     "data": {
      "image/png": "[encoded data removed]",
      "text/plain": [
       "<Figure size 432x288 with 1 Axes>"
      ]
     },
     "metadata": {
      "needs_background": "light"
     }
    },
    {
     "output_type": "display_data",
     "data": {
      "text/plain": [
       "<Figure size 36000x36000 with 0 Axes>"
      ]
     },
     "metadata": {}
    }
   ],
   "metadata": {}
  },
  {
   "cell_type": "code",
   "execution_count": 75,
   "source": [
    "def Function(z):\r\n",
    "    return z**5\r\n",
    "def dF(z):\r\n",
    "    return 5 * z ** 4"
   ],
   "outputs": [],
   "metadata": {}
  },
  {
   "cell_type": "code",
   "execution_count": 76,
   "source": [
    "def ComplexModulus(z):\r\n",
    "    return math.sqrt((z.real)**2+(z.imag)**2)"
   ],
   "outputs": [],
   "metadata": {}
  },
  {
   "cell_type": "code",
   "execution_count": 82,
   "source": [
    "D = 20\r\n",
    "err = np.zeros((2 * D + 1, 2 * D + 1))\r\n",
    "for i in range(-D, D + 1):\r\n",
    "    for j in range(-D, D + 1):  \r\n",
    "        if ComplexModulus(complex(i, j)) == 0:\r\n",
    "            value = ComplexNumericalDifferentiation(Function, complex(i,j), order=1, h=0.01)\r\n",
    "        else:\r\n",
    "            value = ComplexNumericalDifferentiation(Function, complex(i,j), order=1, h=0.01*(1/ComplexModulus(complex(i, j))))\r\n",
    "        true_value = dF(complex(i, j))\r\n",
    "        if true_value == 0:\r\n",
    "            err[i][j] = 0\r\n",
    "        else:\r\n",
    "            err[i][j] = ComplexModulus((value - true_value) / true_value).real"
   ],
   "outputs": [],
   "metadata": {}
  },
  {
   "cell_type": "code",
   "execution_count": 81,
   "source": [
    "fig = go.Figure(data=\r\n",
    "    go.Contour(\r\n",
    "        x=[i for i in range(-D, D + 1)],\r\n",
    "        y=[j for j in range(-D, D + 1)],\r\n",
    "        z=err,\r\n",
    "        line_smoothing=0.85,\r\n",
    "        colorscale='RdBu',\r\n",
    "        colorbar=dict(\r\n",
    "            title='', # title here\r\n",
    "            titleside='right',\r\n",
    "            titlefont=dict(\r\n",
    "                size=14,\r\n",
    "                family='Arial, sans-serif')),\r\n",
    "        contours=dict(\r\n",
    "            coloring ='heatmap',\r\n",
    "            showlabels = True, # show labels on contours\r\n",
    "            labelfont = dict( # label font properties\r\n",
    "                size = 12,\r\n",
    "                color = 'black',\r\n",
    "            )\r\n",
    "        )))\r\n",
    "\r\n",
    "fig.update_layout(\r\n",
    "    autosize=False,\r\n",
    "    width=600,\r\n",
    "    height=600\r\n",
    ")\r\n",
    "\r\n",
    "fig.update_xaxes(\r\n",
    "    constrain=\"domain\",  # meanwhile compresses the xaxis by decreasing its \"domain\"\r\n",
    ")\r\n",
    "'''\r\n",
    "fig.update_yaxes(\r\n",
    "    scaleanchor = \"x\",\r\n",
    "    scaleratio = 1,\r\n",
    ")\r\n",
    "'''\r\n",
    "\r\n",
    "fig.show()\r\n"
   ],
   "outputs": [
    {
     "output_type": "display_data",
     "data": {
      "application/vnd.plotly.v1+json": {
       "config": {
        "plotlyServerURL": "https://plot.ly"
       },
       "data": [
        {
         "colorbar": {
          "title": {
           "font": {
            "family": "Arial, sans-serif",
            "size": 14
           },
           "side": "right",
           "text": ""
          }
         },
         "colorscale": [
          [
           0,
           "rgb(103,0,31)"
          ],
          [
           0.1,
           "rgb(178,24,43)"
          ],
          [
           0.2,
           "rgb(214,96,77)"
          ],
          [
           0.3,
           "rgb(244,165,130)"
          ],
          [
           0.4,
           "rgb(253,219,199)"
          ],
          [
           0.5,
           "rgb(247,247,247)"
          ],
          [
           0.6,
           "rgb(209,229,240)"
          ],
          [
           0.7,
           "rgb(146,197,222)"
          ],
          [
           0.8,
           "rgb(67,147,195)"
          ],
          [
           0.9,
           "rgb(33,102,172)"
          ],
          [
           1,
           "rgb(5,48,97)"
          ]
         ],
         "contours": {
          "coloring": "heatmap",
          "labelfont": {
           "color": "black",
           "size": 12
          },
          "showlabels": true
         },
         "line": {
          "smoothing": 0.85
         },
         "type": "contour",
         "x": [
          -10,
          -9,
          -8,
          -7,
          -6,
          -5,
          -4,
          -3,
          -2,
          -1,
          0,
          1,
          2,
          3,
          4,
          5,
          6,
          7,
          8,
          9,
          10
         ],
         "y": [
          -10,
          -9,
          -8,
          -7,
          -6,
          -5,
          -4,
          -3,
          -2,
          -1,
          0,
          1,
          2,
          3,
          4,
          5,
          6,
          7,
          8,
          9,
          10
         ],
         "z": [
          [
           0,
           0.001222191761819568,
           0.0002011745725988869,
           0.000018351236176295945,
           0.000268757430952505,
           0.0001429387104685344,
           0.000030256625925369562,
           0.0002578614907866347,
           0.00014944943249665797,
           0.000043715798905898776,
           0.00026584441150498867,
           0.00026586879996028134,
           0.000043738909687749974,
           0.00014951247283671022,
           0.0002579207320824753,
           0.000030293904670196407,
           0.00014310171327288802,
           0.0002689742022194546,
           0.000018439127587856625,
           0.00020246027277424542,
           0.0012319633489014765
          ],
          [
           0.00694143232159775,
           0.0013291626594611895,
           0.000038090132170608404,
           0.000050422907902678344,
           0.0001796985704842558,
           0.00008005705105604033,
           0.000033859264992167,
           0.000043087478428487605,
           0.00011900206782462238,
           0.00011618601518196082,
           0.0001633117592527723,
           0.00016335263079675857,
           0.00011623128232597985,
           0.00011905990309005841,
           0.000043123022717258955,
           0.000033897378222117265,
           0.00008016654863836657,
           0.00017997059168008505,
           0.000050592022826918286,
           0.00003829572588582782,
           0.0013345928646164974
          ],
          [
           0.0008772826456302253,
           0.00006664836488011255,
           0.0009071657158334008,
           0.0004057413632086035,
           0.00004117447011494594,
           0.00018997359517957486,
           0.00007034239563487153,
           0.00030784729937661533,
           0.0002860550826582072,
           0.00006952340146697322,
           0.0001371157868564277,
           0.00013715383977606517,
           0.00006955397226966922,
           0.0002861020999774004,
           0.0003079054716149752,
           0.000070404358695183,
           0.00019012899224313322,
           0.000041242723308382945,
           0.00040614919786928716,
           0.0009075437033421849,
           0.0000667920279104924
          ],
          [
           0.000059566653794467585,
           0.00009872650770490717,
           0.0005281172015282985,
           0.00019545180300116336,
           0.00024025810825614475,
           0.00015490777249971591,
           0.000050770927953220236,
           0.00036760305771410014,
           0.00025774467957302965,
           0.00009481159126209519,
           0.00006022067410744953,
           0.000060241513591906926,
           0.00009484650777040082,
           0.000257798363707241,
           0.0003676372029478203,
           0.00005080975315980873,
           0.0001550204175377824,
           0.00024043616156229453,
           0.0001956536213788719,
           0.0005284356426604073,
           0.00009881080607113162
          ],
          [
           0.0007051204772453801,
           0.0003464721725713574,
           0.000059700455892574174,
           0.0002796067944493873,
           0.0004102206560427386,
           0.0004173446434374357,
           0.00006196049926842306,
           0.00014702195503515136,
           0.00006157435649464868,
           0.0003099813768222736,
           0.00030783119777231345,
           0.00030785379847985046,
           0.0003100107553202085,
           0.00006160071683805383,
           0.0001470794043546368,
           0.00006199724719179372,
           0.0004174103526517791,
           0.00041032903999346163,
           0.00027975304743237556,
           0.0000597430922475545,
           0.00034657297195264696
          ],
          [
           0.00032264150987977005,
           0.00014728522586111154,
           0.00028527461099139725,
           0.00019553135580034468,
           0.0004603478106675103,
           0.00006124264099225594,
           0.0003253716102380919,
           0.00044994173486910717,
           0.00019372248279282816,
           0.000026395454991867073,
           0.00007280594687144194,
           0.00007282545515027204,
           0.000026404678029354823,
           0.00019376726649848345,
           0.0004499418152859803,
           0.00032542795973274454,
           0.00006127398990392018,
           0.00046040356340896197,
           0.00019560907106090704,
           0.00028535392949201826,
           0.00014731678608807957
          ],
          [
           0.00006110457647871745,
           0.00005917854225634949,
           0.00010592845126996537,
           0.00006672188430611675,
           0.00007263098066922191,
           0.00034844547513567594,
           0.0002604951704292816,
           0.00008602351739536273,
           0.0003519864009663112,
           0.00028827523306831774,
           0.00024383314612564776,
           0.0002438605290151932,
           0.0002883032829611662,
           0.00035200949023020883,
           0.00008605053443502449,
           0.00026054496542141716,
           0.000348494403148341,
           0.00007265792806138225,
           0.00006674475192419867,
           0.0001059548514367025,
           0.00005918741972873837
          ],
          [
           0.0004780367615742646,
           0.000071796451687014,
           0.00045821434125595457,
           0.0004913775911898007,
           0.000178676671309509,
           0.0005047589092313255,
           0.00009048215097090489,
           0.0004380306768351668,
           0.0003835639099841578,
           0.000027817495169426734,
           0.0001597569752997156,
           0.0001597811212924892,
           0.0000278245642003442,
           0.0003835771704102007,
           0.00043803562630336326,
           0.00009050602094041514,
           0.0005047589707703123,
           0.00017871357197007145,
           0.0004913950079596199,
           0.00045823544061127677,
           0.00007180334817138707
          ],
          [
           0.0002591283893975965,
           0.00019006905731734622,
           0.00041852158236151376,
           0.00034601996987055733,
           0.00007636678362935159,
           0.00022411209048537803,
           0.00038397093965286124,
           0.00039872386748990974,
           0.00016836781921765424,
           0.000018051128256465656,
           0.0002430682001683346,
           0.0002430893431940795,
           0.000018055113905905333,
           0.00016839297446165222,
           0.0003987357433668769,
           0.00038398918417966517,
           0.00022414263681084414,
           0.00007638178025384684,
           0.00034604399170159734,
           0.00041853635105250695,
           0.00019007863058192112
          ],
          [
           0.00007181555787735484,
           0.00017884905351570155,
           0.00009981255727588998,
           0.00012692716402800156,
           0.0003883543141375521,
           0.00003114411110519054,
           0.00032270365617527864,
           0.000029776736535850435,
           0.000018613681631073162,
           0.00034050009393517684,
           0.0003426351204426249,
           0.0003426453903038041,
           0.0003405126839547081,
           0.00001861729023527423,
           0.000029782463735667153,
           0.0003227236655437865,
           0.000031149769434043256,
           0.000388369261867777,
           0.00012694102813781192,
           0.00009982099607807671,
           0.00017885556821777931
          ],
          [
           0.000417645153152719,
           0.00024343520630091409,
           0.00019312833224204335,
           0.00008007815032717656,
           0.00038712314841813435,
           0.0000869426353744948,
           0.0002778988190022317,
           0.00017477655224873884,
           0.00025672320917294355,
           0.0003512659227846754,
           0.0000956477077708653,
           0.00009565942748406457,
           0.000351275304655752,
           0.0002567406873791254,
           0.0001747943904346781,
           0.00027791658953698473,
           0.00008695348488246531,
           0.0003871335212555594,
           0.0000800855674674957,
           0.00019313767861536268,
           0.0002434403992094948
          ],
          [
           0.0001531286929915002,
           0.00009016047929830171,
           0.00007363992899448162,
           0.00003193397912276784,
           0.00016329566903415524,
           0.0000390485699723929,
           0.0001332286073233722,
           0.00008937425662821423,
           0.00013962132214173986,
           0.00020232227627095816,
           0.00005806099193825857,
           0.00005806967846172613,
           0.00020232901433312847,
           0.00013963345019724522,
           0.00008938618531446739,
           0.00013324003952391975,
           0.000039055281777599095,
           0.00016330184883236442,
           0.000031938251649179466,
           0.00007364516990629456,
           0.00009016334078157059
          ],
          [
           0.000023532526786055032,
           0.00005942405446739498,
           0.00003450360466041078,
           0.000046589048446592804,
           0.00015339258877864902,
           0.000013321711400636377,
           0.00014960695280052927,
           0.000014914004327148333,
           0.000010016956273882226,
           0.00019558647234948752,
           0.00020862439032092746,
           0.00020863201612514437,
           0.00019559549970012217,
           0.00001001944448829511,
           0.000014917786842121343,
           0.00014961956889849242,
           0.000013325110847121872,
           0.00015340114975920968,
           0.00004659664709108567,
           0.00003450806629578394,
           0.00005942741789588933
          ],
          [
           0.00007375521180119723,
           0.00005518167551126443,
           0.0001284859418764946,
           0.00011536035539477365,
           0.00002806969129029538,
           0.00009125720345298147,
           0.00017273372488565863,
           0.00019673287225340533,
           0.00009026637859076439,
           0.000010412701602990331,
           0.00014944910823427033,
           0.00014946489992743835,
           0.00001041556671515701,
           0.00009028368448905034,
           0.0001967406452698664,
           0.00017274502237950575,
           0.00009127502099344495,
           0.000028077917614415752,
           0.00011537278290790503,
           0.00012849321343043295,
           0.00005518623371488519
          ],
          [
           0.00011344037332199352,
           0.000017551259941068133,
           0.0001216016319114324,
           0.00014660024764258516,
           0.00006085932985976424,
           0.00019630599009784526,
           0.00003979897923491057,
           0.00021495864942132594,
           0.00020692392773234407,
           0.000016268574137859434,
           0.0001000439278572193,
           0.00010006216209983738,
           0.000016273697876584966,
           0.00020693308450348073,
           0.0002149618784317809,
           0.00003981356235811611,
           0.00019630602501795343,
           0.000060878667528185575,
           0.00014660867714739214,
           0.0001216111510101805,
           0.000017554221772324976
          ],
          [
           0.00001136145337743029,
           0.000011538327465463491,
           0.000023457049479478853,
           0.00001755267336270642,
           0.000022948332545801227,
           0.00013075729542162099,
           0.00011364769850585788,
           0.000042619586647375,
           0.00019377643240410915,
           0.00017306483645693928,
           0.00015718005188793035,
           0.0001572010928137614,
           0.00017308548906394257,
           0.00019379257142936992,
           0.00004263731409405258,
           0.00011367797126173035,
           0.00013078447013344154,
           0.000022961832197540984,
           0.000017562936912806908,
           0.00002346773485445441,
           0.000011541656316338818
          ],
          [
           0.000042487803991211004,
           0.00002107283173419687,
           0.00005042291954708688,
           0.00004497449533104282,
           0.00013675280910601024,
           0.000022679572582868845,
           0.00014422559174002403,
           0.00023008713896860872,
           0.00011089002023284452,
           0.00001651878951101883,
           0.00004891640609896673,
           0.00004893177340559205,
           0.000016525751805510714,
           0.00011092206483487193,
           0.00023008719275248638,
           0.00014426017740951718,
           0.00002269684700514345,
           0.00013677972359474018,
           0.00004500667617482376,
           0.00005045096286858278,
           0.000021082660765809275
          ],
          [
           0.00005483020567828463,
           0.0000317785855864467,
           0.0000080288048241078,
           0.000057007362337905825,
           0.00011908888664343162,
           0.00015912963006441063,
           0.000028958489259764128,
           0.00007995571424658149,
           0.000037515580889440217,
           0.00020590816024275614,
           0.0002185755131078405,
           0.00021859391645734808,
           0.00020593114471849187,
           0.000037535162593803634,
           0.0000799955781025034,
           0.000028981773212467712,
           0.00015916647600755182,
           0.0001191404925183058,
           0.00005706369949482508,
           0.00000804160152487105,
           0.00003180262906754111
          ],
          [
           0.0000018614754462690532,
           0.000004626942558191275,
           0.00005341758774956636,
           0.00003809267437234459,
           0.00007417912102334526,
           0.00006516934021918174,
           0.000026345533220908196,
           0.00022068907496043696,
           0.00017168369459313366,
           0.00006815035800715054,
           0.00004583268832023807,
           0.00004585037921971567,
           0.00006817899988603466,
           0.0001717257647690049,
           0.00022071421545683234,
           0.000026371727023112203,
           0.00006523634923021855,
           0.00007426709818498331,
           0.000038168351646664706,
           0.000053498147601678664,
           0.0000046403887792972
          ],
          [
           0.0000036103473176098315,
           0.0000011871313143819616,
           0.00008319715826364412,
           0.00009330255649665561,
           0.000015693912171913484,
           0.0000971347738434427,
           0.00004311703510069593,
           0.00021241433146573267,
           0.0002140038177547653,
           0.00005508712011437941,
           0.00011332347483228033,
           0.00011335741627388547,
           0.00005511370677616228,
           0.00021404332198646586,
           0.00021246089315340354,
           0.00004316323240963164,
           0.0000972386902972034,
           0.000015732184612286197,
           0.00009347143526101453,
           0.00008328731888696328,
           0.0000011999808949269834
          ],
          [
           2.34199879610463e-14,
           0.000023582690779245215,
           0.000006715327951466198,
           0.00002009336376847703,
           0.0001028460231137732,
           0.00005523408545938264,
           0.000026016968237060142,
           0.00003541090332910164,
           0.00010226465889995995,
           0.00010299470966844327,
           0.00014805802019501616,
           0.0001480965565871232,
           0.00010303681937703835,
           0.00010231746685257273,
           0.000035442500646599065,
           0.000026049509889264783,
           0.00005532172851779638,
           0.00010304066560265351,
           0.00002019077981107453,
           0.000006788016170111257,
           0.000024068374351714135
          ]
         ]
        }
       ],
       "layout": {
        "autosize": false,
        "height": 600,
        "template": {
         "data": {
          "bar": [
           {
            "error_x": {
             "color": "#2a3f5f"
            },
            "error_y": {
             "color": "#2a3f5f"
            },
            "marker": {
             "line": {
              "color": "#E5ECF6",
              "width": 0.5
             },
             "pattern": {
              "fillmode": "overlay",
              "size": 10,
              "solidity": 0.2
             }
            },
            "type": "bar"
           }
          ],
          "barpolar": [
           {
            "marker": {
             "line": {
              "color": "#E5ECF6",
              "width": 0.5
             },
             "pattern": {
              "fillmode": "overlay",
              "size": 10,
              "solidity": 0.2
             }
            },
            "type": "barpolar"
           }
          ],
          "carpet": [
           {
            "aaxis": {
             "endlinecolor": "#2a3f5f",
             "gridcolor": "white",
             "linecolor": "white",
             "minorgridcolor": "white",
             "startlinecolor": "#2a3f5f"
            },
            "baxis": {
             "endlinecolor": "#2a3f5f",
             "gridcolor": "white",
             "linecolor": "white",
             "minorgridcolor": "white",
             "startlinecolor": "#2a3f5f"
            },
            "type": "carpet"
           }
          ],
          "choropleth": [
           {
            "colorbar": {
             "outlinewidth": 0,
             "ticks": ""
            },
            "type": "choropleth"
           }
          ],
          "contour": [
           {
            "colorbar": {
             "outlinewidth": 0,
             "ticks": ""
            },
            "colorscale": [
             [
              0,
              "#0d0887"
             ],
             [
              0.1111111111111111,
              "#46039f"
             ],
             [
              0.2222222222222222,
              "#7201a8"
             ],
             [
              0.3333333333333333,
              "#9c179e"
             ],
             [
              0.4444444444444444,
              "#bd3786"
             ],
             [
              0.5555555555555556,
              "#d8576b"
             ],
             [
              0.6666666666666666,
              "#ed7953"
             ],
             [
              0.7777777777777778,
              "#fb9f3a"
             ],
             [
              0.8888888888888888,
              "#fdca26"
             ],
             [
              1,
              "#f0f921"
             ]
            ],
            "type": "contour"
           }
          ],
          "contourcarpet": [
           {
            "colorbar": {
             "outlinewidth": 0,
             "ticks": ""
            },
            "type": "contourcarpet"
           }
          ],
          "heatmap": [
           {
            "colorbar": {
             "outlinewidth": 0,
             "ticks": ""
            },
            "colorscale": [
             [
              0,
              "#0d0887"
             ],
             [
              0.1111111111111111,
              "#46039f"
             ],
             [
              0.2222222222222222,
              "#7201a8"
             ],
             [
              0.3333333333333333,
              "#9c179e"
             ],
             [
              0.4444444444444444,
              "#bd3786"
             ],
             [
              0.5555555555555556,
              "#d8576b"
             ],
             [
              0.6666666666666666,
              "#ed7953"
             ],
             [
              0.7777777777777778,
              "#fb9f3a"
             ],
             [
              0.8888888888888888,
              "#fdca26"
             ],
             [
              1,
              "#f0f921"
             ]
            ],
            "type": "heatmap"
           }
          ],
          "heatmapgl": [
           {
            "colorbar": {
             "outlinewidth": 0,
             "ticks": ""
            },
            "colorscale": [
             [
              0,
              "#0d0887"
             ],
             [
              0.1111111111111111,
              "#46039f"
             ],
             [
              0.2222222222222222,
              "#7201a8"
             ],
             [
              0.3333333333333333,
              "#9c179e"
             ],
             [
              0.4444444444444444,
              "#bd3786"
             ],
             [
              0.5555555555555556,
              "#d8576b"
             ],
             [
              0.6666666666666666,
              "#ed7953"
             ],
             [
              0.7777777777777778,
              "#fb9f3a"
             ],
             [
              0.8888888888888888,
              "#fdca26"
             ],
             [
              1,
              "#f0f921"
             ]
            ],
            "type": "heatmapgl"
           }
          ],
          "histogram": [
           {
            "marker": {
             "pattern": {
              "fillmode": "overlay",
              "size": 10,
              "solidity": 0.2
             }
            },
            "type": "histogram"
           }
          ],
          "histogram2d": [
           {
            "colorbar": {
             "outlinewidth": 0,
             "ticks": ""
            },
            "colorscale": [
             [
              0,
              "#0d0887"
             ],
             [
              0.1111111111111111,
              "#46039f"
             ],
             [
              0.2222222222222222,
              "#7201a8"
             ],
             [
              0.3333333333333333,
              "#9c179e"
             ],
             [
              0.4444444444444444,
              "#bd3786"
             ],
             [
              0.5555555555555556,
              "#d8576b"
             ],
             [
              0.6666666666666666,
              "#ed7953"
             ],
             [
              0.7777777777777778,
              "#fb9f3a"
             ],
             [
              0.8888888888888888,
              "#fdca26"
             ],
             [
              1,
              "#f0f921"
             ]
            ],
            "type": "histogram2d"
           }
          ],
          "histogram2dcontour": [
           {
            "colorbar": {
             "outlinewidth": 0,
             "ticks": ""
            },
            "colorscale": [
             [
              0,
              "#0d0887"
             ],
             [
              0.1111111111111111,
              "#46039f"
             ],
             [
              0.2222222222222222,
              "#7201a8"
             ],
             [
              0.3333333333333333,
              "#9c179e"
             ],
             [
              0.4444444444444444,
              "#bd3786"
             ],
             [
              0.5555555555555556,
              "#d8576b"
             ],
             [
              0.6666666666666666,
              "#ed7953"
             ],
             [
              0.7777777777777778,
              "#fb9f3a"
             ],
             [
              0.8888888888888888,
              "#fdca26"
             ],
             [
              1,
              "#f0f921"
             ]
            ],
            "type": "histogram2dcontour"
           }
          ],
          "mesh3d": [
           {
            "colorbar": {
             "outlinewidth": 0,
             "ticks": ""
            },
            "type": "mesh3d"
           }
          ],
          "parcoords": [
           {
            "line": {
             "colorbar": {
              "outlinewidth": 0,
              "ticks": ""
             }
            },
            "type": "parcoords"
           }
          ],
          "pie": [
           {
            "automargin": true,
            "type": "pie"
           }
          ],
          "scatter": [
           {
            "marker": {
             "colorbar": {
              "outlinewidth": 0,
              "ticks": ""
             }
            },
            "type": "scatter"
           }
          ],
          "scatter3d": [
           {
            "line": {
             "colorbar": {
              "outlinewidth": 0,
              "ticks": ""
             }
            },
            "marker": {
             "colorbar": {
              "outlinewidth": 0,
              "ticks": ""
             }
            },
            "type": "scatter3d"
           }
          ],
          "scattercarpet": [
           {
            "marker": {
             "colorbar": {
              "outlinewidth": 0,
              "ticks": ""
             }
            },
            "type": "scattercarpet"
           }
          ],
          "scattergeo": [
           {
            "marker": {
             "colorbar": {
              "outlinewidth": 0,
              "ticks": ""
             }
            },
            "type": "scattergeo"
           }
          ],
          "scattergl": [
           {
            "marker": {
             "colorbar": {
              "outlinewidth": 0,
              "ticks": ""
             }
            },
            "type": "scattergl"
           }
          ],
          "scattermapbox": [
           {
            "marker": {
             "colorbar": {
              "outlinewidth": 0,
              "ticks": ""
             }
            },
            "type": "scattermapbox"
           }
          ],
          "scatterpolar": [
           {
            "marker": {
             "colorbar": {
              "outlinewidth": 0,
              "ticks": ""
             }
            },
            "type": "scatterpolar"
           }
          ],
          "scatterpolargl": [
           {
            "marker": {
             "colorbar": {
              "outlinewidth": 0,
              "ticks": ""
             }
            },
            "type": "scatterpolargl"
           }
          ],
          "scatterternary": [
           {
            "marker": {
             "colorbar": {
              "outlinewidth": 0,
              "ticks": ""
             }
            },
            "type": "scatterternary"
           }
          ],
          "surface": [
           {
            "colorbar": {
             "outlinewidth": 0,
             "ticks": ""
            },
            "colorscale": [
             [
              0,
              "#0d0887"
             ],
             [
              0.1111111111111111,
              "#46039f"
             ],
             [
              0.2222222222222222,
              "#7201a8"
             ],
             [
              0.3333333333333333,
              "#9c179e"
             ],
             [
              0.4444444444444444,
              "#bd3786"
             ],
             [
              0.5555555555555556,
              "#d8576b"
             ],
             [
              0.6666666666666666,
              "#ed7953"
             ],
             [
              0.7777777777777778,
              "#fb9f3a"
             ],
             [
              0.8888888888888888,
              "#fdca26"
             ],
             [
              1,
              "#f0f921"
             ]
            ],
            "type": "surface"
           }
          ],
          "table": [
           {
            "cells": {
             "fill": {
              "color": "#EBF0F8"
             },
             "line": {
              "color": "white"
             }
            },
            "header": {
             "fill": {
              "color": "#C8D4E3"
             },
             "line": {
              "color": "white"
             }
            },
            "type": "table"
           }
          ]
         },
         "layout": {
          "annotationdefaults": {
           "arrowcolor": "#2a3f5f",
           "arrowhead": 0,
           "arrowwidth": 1
          },
          "autotypenumbers": "strict",
          "coloraxis": {
           "colorbar": {
            "outlinewidth": 0,
            "ticks": ""
           }
          },
          "colorscale": {
           "diverging": [
            [
             0,
             "#8e0152"
            ],
            [
             0.1,
             "#c51b7d"
            ],
            [
             0.2,
             "#de77ae"
            ],
            [
             0.3,
             "#f1b6da"
            ],
            [
             0.4,
             "#fde0ef"
            ],
            [
             0.5,
             "#f7f7f7"
            ],
            [
             0.6,
             "#e6f5d0"
            ],
            [
             0.7,
             "#b8e186"
            ],
            [
             0.8,
             "#7fbc41"
            ],
            [
             0.9,
             "#4d9221"
            ],
            [
             1,
             "#276419"
            ]
           ],
           "sequential": [
            [
             0,
             "#0d0887"
            ],
            [
             0.1111111111111111,
             "#46039f"
            ],
            [
             0.2222222222222222,
             "#7201a8"
            ],
            [
             0.3333333333333333,
             "#9c179e"
            ],
            [
             0.4444444444444444,
             "#bd3786"
            ],
            [
             0.5555555555555556,
             "#d8576b"
            ],
            [
             0.6666666666666666,
             "#ed7953"
            ],
            [
             0.7777777777777778,
             "#fb9f3a"
            ],
            [
             0.8888888888888888,
             "#fdca26"
            ],
            [
             1,
             "#f0f921"
            ]
           ],
           "sequentialminus": [
            [
             0,
             "#0d0887"
            ],
            [
             0.1111111111111111,
             "#46039f"
            ],
            [
             0.2222222222222222,
             "#7201a8"
            ],
            [
             0.3333333333333333,
             "#9c179e"
            ],
            [
             0.4444444444444444,
             "#bd3786"
            ],
            [
             0.5555555555555556,
             "#d8576b"
            ],
            [
             0.6666666666666666,
             "#ed7953"
            ],
            [
             0.7777777777777778,
             "#fb9f3a"
            ],
            [
             0.8888888888888888,
             "#fdca26"
            ],
            [
             1,
             "#f0f921"
            ]
           ]
          },
          "colorway": [
           "#636efa",
           "#EF553B",
           "#00cc96",
           "#ab63fa",
           "#FFA15A",
           "#19d3f3",
           "#FF6692",
           "#B6E880",
           "#FF97FF",
           "#FECB52"
          ],
          "font": {
           "color": "#2a3f5f"
          },
          "geo": {
           "bgcolor": "white",
           "lakecolor": "white",
           "landcolor": "#E5ECF6",
           "showlakes": true,
           "showland": true,
           "subunitcolor": "white"
          },
          "hoverlabel": {
           "align": "left"
          },
          "hovermode": "closest",
          "mapbox": {
           "style": "light"
          },
          "paper_bgcolor": "white",
          "plot_bgcolor": "#E5ECF6",
          "polar": {
           "angularaxis": {
            "gridcolor": "white",
            "linecolor": "white",
            "ticks": ""
           },
           "bgcolor": "#E5ECF6",
           "radialaxis": {
            "gridcolor": "white",
            "linecolor": "white",
            "ticks": ""
           }
          },
          "scene": {
           "xaxis": {
            "backgroundcolor": "#E5ECF6",
            "gridcolor": "white",
            "gridwidth": 2,
            "linecolor": "white",
            "showbackground": true,
            "ticks": "",
            "zerolinecolor": "white"
           },
           "yaxis": {
            "backgroundcolor": "#E5ECF6",
            "gridcolor": "white",
            "gridwidth": 2,
            "linecolor": "white",
            "showbackground": true,
            "ticks": "",
            "zerolinecolor": "white"
           },
           "zaxis": {
            "backgroundcolor": "#E5ECF6",
            "gridcolor": "white",
            "gridwidth": 2,
            "linecolor": "white",
            "showbackground": true,
            "ticks": "",
            "zerolinecolor": "white"
           }
          },
          "shapedefaults": {
           "line": {
            "color": "#2a3f5f"
           }
          },
          "ternary": {
           "aaxis": {
            "gridcolor": "white",
            "linecolor": "white",
            "ticks": ""
           },
           "baxis": {
            "gridcolor": "white",
            "linecolor": "white",
            "ticks": ""
           },
           "bgcolor": "#E5ECF6",
           "caxis": {
            "gridcolor": "white",
            "linecolor": "white",
            "ticks": ""
           }
          },
          "title": {
           "x": 0.05
          },
          "xaxis": {
           "automargin": true,
           "gridcolor": "white",
           "linecolor": "white",
           "ticks": "",
           "title": {
            "standoff": 15
           },
           "zerolinecolor": "white",
           "zerolinewidth": 2
          },
          "yaxis": {
           "automargin": true,
           "gridcolor": "white",
           "linecolor": "white",
           "ticks": "",
           "title": {
            "standoff": 15
           },
           "zerolinecolor": "white",
           "zerolinewidth": 2
          }
         }
        },
        "width": 600,
        "xaxis": {
         "constrain": "domain"
        }
       }
      }
     },
     "metadata": {}
    }
   ],
   "metadata": {}
  }
 ],
 "metadata": {
  "orig_nbformat": 4,
  "language_info": {
   "name": "python",
   "version": "3.8.8",
   "mimetype": "text/x-python",
   "codemirror_mode": {
    "name": "ipython",
    "version": 3
   },
   "pygments_lexer": "ipython3",
   "nbconvert_exporter": "python",
   "file_extension": ".py"
  },
  "kernelspec": {
   "name": "python3",
   "display_name": "Python 3.8.8 64-bit ('base': conda)"
  },
  "interpreter": {
   "hash": "59206fe869fb356e9438cc0195726b2dc6202c9e6c9a4f653345eafbf448f153"
  }
 },
 "nbformat": 4,
 "nbformat_minor": 2
}