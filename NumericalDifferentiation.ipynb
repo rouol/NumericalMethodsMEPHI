{
 "cells": [
  {
   "cell_type": "code",
   "execution_count": 110,
   "source": [
    "import numpy as np\r\n",
    "import matplotlib.pyplot as plt\r\n",
    "%matplotlib inline\r\n",
    "import plotly.graph_objects as go\r\n",
    "from numba import jit\r\n",
    "import cmath, math, mpmath"
   ],
   "outputs": [],
   "metadata": {}
  },
  {
   "cell_type": "code",
   "execution_count": 3,
   "source": [
    "def Function(z):\r\n",
    "    return z**5"
   ],
   "outputs": [],
   "metadata": {}
  },
  {
   "cell_type": "code",
   "execution_count": 157,
   "source": [
    "#@jit\r\n",
    "def ComplexNumericalDifferentiation(function, z0, order = 1, h = 0.001):\r\n",
    "    i = complex(0, 1)\r\n",
    "    integral = complex(0, 0)\r\n",
    "    phi = 0\r\n",
    "    while phi < 2 * cmath.pi:\r\n",
    "        integral += h * function(z0 + cmath.exp(i * phi)) * cmath.exp(-i * order * phi)\r\n",
    "        phi += h\r\n",
    "    integral /= (2 * cmath.pi)\r\n",
    "    integral *= mpmath.fac(order)\r\n",
    "    return integral"
   ],
   "outputs": [],
   "metadata": {}
  },
  {
   "cell_type": "code",
   "execution_count": null,
   "source": [
    "#@jit\r\n",
    "def ComplexNumericalDifferentiationNewtonCotesN(function, z0, order = 1, h = 0.001, N = 1):\r\n",
    "    i = complex(0, 1)\r\n",
    "    integral = complex(0, 0)\r\n",
    "    phi = 0\r\n",
    "    while phi < 2 * cmath.pi:\r\n",
    "        integral += h * function(z0 + cmath.exp(i * phi)) * cmath.exp(-i * order * phi)\r\n",
    "        phi += h\r\n",
    "    integral /= (2 * cmath.pi)\r\n",
    "    integral *= mpmath.fac(order)\r\n",
    "    return integral"
   ],
   "outputs": [],
   "metadata": {}
  },
  {
   "cell_type": "code",
   "execution_count": 112,
   "source": [
    "print(ComplexNumericalDifferentiation(Function, 2).real)"
   ],
   "outputs": [
    {
     "output_type": "stream",
     "name": "stdout",
     "text": [
      "80.031507961122\n"
     ]
    }
   ],
   "metadata": {}
  },
  {
   "cell_type": "code",
   "execution_count": 161,
   "source": [
    "true_value = 80\r\n",
    "errors = {\r\n",
    "    'h': [],\r\n",
    "    'error': []\r\n",
    "}\r\n",
    "h = 10\r\n",
    "for s in range(-7, 0, 1):\r\n",
    "    ht = h ** s\r\n",
    "    errors['h'].append(ht)\r\n",
    "    value = float(ComplexNumericalDifferentiation(Function, 2, 1, ht).real)\r\n",
    "    errors['error'].append(abs(true_value - value))\r\n",
    "print(errors)"
   ],
   "outputs": [
    {
     "output_type": "stream",
     "name": "stdout",
     "text": [
      "{'h': [1e-07, 1e-06, 1e-05, 0.0001, 0.001, 0.01, 0.1], 'error': [3.6153998763666095e-06, 2.6809721518361584e-05, 0.00018149202125528063, 0.0005682397477642098, 0.03150796112203125, 0.26355626263935505, 0.649836431911524]}\n"
     ]
    }
   ],
   "metadata": {}
  },
  {
   "cell_type": "code",
   "execution_count": 162,
   "source": [
    "logerrors= {\r\n",
    "    'h': np.log(errors['h']),\r\n",
    "    'error': np.log(errors['error'])\r\n",
    "}\r\n",
    "logerrors"
   ],
   "outputs": [
    {
     "output_type": "execute_result",
     "data": {
      "text/plain": [
       "{'h': array([-16.11809565, -13.81551056, -11.51292546,  -9.21034037,\n",
       "         -6.90775528,  -4.60517019,  -2.30258509]),\n",
       " 'error': array([-12.53030809, -10.52674599,  -8.61429887,  -7.47296714,\n",
       "         -3.45751503,  -1.33348841,  -0.43103459])}"
      ]
     },
     "metadata": {},
     "execution_count": 162
    }
   ],
   "metadata": {}
  },
  {
   "cell_type": "code",
   "execution_count": 164,
   "source": [
    "plt.plot(logerrors['h'], errors['error'], color='#8b0000', marker='o', linewidth=1)#, label='заданные точки')\r\n",
    "plt.legend()\r\n",
    "plt.grid()\r\n",
    "plt.figure(figsize=(500, 500))\r\n",
    "plt.show()"
   ],
   "outputs": [
    {
     "output_type": "stream",
     "name": "stderr",
     "text": [
      "No handles with labels found to put in legend.\n"
     ]
    },
    {
     "output_type": "display_data",
     "data": {
      "image/png": "[encoded data removed]",
      "text/plain": [
       "<Figure size 432x288 with 1 Axes>"
      ]
     },
     "metadata": {
      "needs_background": "light"
     }
    },
    {
     "output_type": "display_data",
     "data": {
      "text/plain": [
       "<Figure size 36000x36000 with 0 Axes>"
      ]
     },
     "metadata": {}
    }
   ],
   "metadata": {}
  },
  {
   "cell_type": "code",
   "execution_count": 50,
   "source": [
    "def dF(z):\r\n",
    "    return 5 * z ** 4"
   ],
   "outputs": [],
   "metadata": {}
  },
  {
   "cell_type": "code",
   "execution_count": 139,
   "source": [
    "def ComplexModulus(z):\r\n",
    "    return math.sqrt((z.real)**2+(z.imag)**2)"
   ],
   "outputs": [],
   "metadata": {}
  },
  {
   "cell_type": "code",
   "execution_count": 141,
   "source": [
    "D = 20\r\n",
    "err = np.zeros((2 * D + 1, 2 * D + 1))\r\n",
    "for i in range(-D, D + 1):\r\n",
    "    for j in range(-D, D + 1):  \r\n",
    "        if ComplexModulus(complex(i, j)) == 0:\r\n",
    "            value = ComplexNumericalDifferentiation(Function, complex(i,j), order=1, h=0.01)\r\n",
    "        else:\r\n",
    "            value = ComplexNumericalDifferentiation(Function, complex(i,j), order=1, h=0.01*(1/ComplexModulus(complex(i, j))))\r\n",
    "        true_value = dF(complex(i, j))\r\n",
    "        if true_value == 0:\r\n",
    "            err[i][j] = 0\r\n",
    "        else:\r\n",
    "            err[i][j] = ComplexModulus((value - true_value) / true_value).real"
   ],
   "outputs": [],
   "metadata": {}
  },
  {
   "cell_type": "code",
   "execution_count": 137,
   "source": [
    "fig = go.Figure(data=\r\n",
    "    go.Contour(\r\n",
    "        x=[i for i in range(-D, D + 1)],\r\n",
    "        y=[j for j in range(-D, D + 1)],\r\n",
    "        z=err,\r\n",
    "        line_smoothing=0.85,\r\n",
    "        colorscale='RdBu',\r\n",
    "        colorbar=dict(\r\n",
    "            title='', # title here\r\n",
    "            titleside='right',\r\n",
    "            titlefont=dict(\r\n",
    "                size=14,\r\n",
    "                family='Arial, sans-serif')),\r\n",
    "        contours=dict(\r\n",
    "            coloring ='heatmap',\r\n",
    "            showlabels = True, # show labels on contours\r\n",
    "            labelfont = dict( # label font properties\r\n",
    "                size = 12,\r\n",
    "                color = 'black',\r\n",
    "            )\r\n",
    "        )))\r\n",
    "\r\n",
    "fig.update_layout(\r\n",
    "    autosize=False,\r\n",
    "    width=600,\r\n",
    "    height=600\r\n",
    ")\r\n",
    "\r\n",
    "fig.update_xaxes(\r\n",
    "    constrain=\"domain\",  # meanwhile compresses the xaxis by decreasing its \"domain\"\r\n",
    ")\r\n",
    "'''\r\n",
    "fig.update_yaxes(\r\n",
    "    scaleanchor = \"x\",\r\n",
    "    scaleratio = 1,\r\n",
    ")\r\n",
    "'''\r\n",
    "\r\n",
    "fig.show()\r\n"
   ],
   "outputs": [
    {
     "output_type": "display_data",
     "data": {
      "application/vnd.plotly.v1+json": {
       "config": {
        "plotlyServerURL": "https://plot.ly"
       },
       "data": [
        {
         "colorbar": {
          "title": {
           "font": {
            "family": "Arial, sans-serif",
            "size": 14
           },
           "side": "right",
           "text": ""
          }
         },
         "colorscale": [
          [
           0,
           "rgb(103,0,31)"
          ],
          [
           0.1,
           "rgb(178,24,43)"
          ],
          [
           0.2,
           "rgb(214,96,77)"
          ],
          [
           0.3,
           "rgb(244,165,130)"
          ],
          [
           0.4,
           "rgb(253,219,199)"
          ],
          [
           0.5,
           "rgb(247,247,247)"
          ],
          [
           0.6,
           "rgb(209,229,240)"
          ],
          [
           0.7,
           "rgb(146,197,222)"
          ],
          [
           0.8,
           "rgb(67,147,195)"
          ],
          [
           0.9,
           "rgb(33,102,172)"
          ],
          [
           1,
           "rgb(5,48,97)"
          ]
         ],
         "contours": {
          "coloring": "heatmap",
          "labelfont": {
           "color": "black",
           "size": 12
          },
          "showlabels": true
         },
         "line": {
          "smoothing": 0.85
         },
         "type": "contour",
         "x": [
          -20,
          -19,
          -18,
          -17,
          -16,
          -15,
          -14,
          -13,
          -12,
          -11,
          -10,
          -9,
          -8,
          -7,
          -6,
          -5,
          -4,
          -3,
          -2,
          -1,
          0,
          1,
          2,
          3,
          4,
          5,
          6,
          7,
          8,
          9,
          10,
          11,
          12,
          13,
          14,
          15,
          16,
          17,
          18,
          19,
          20
         ],
         "y": [
          -20,
          -19,
          -18,
          -17,
          -16,
          -15,
          -14,
          -13,
          -12,
          -11,
          -10,
          -9,
          -8,
          -7,
          -6,
          -5,
          -4,
          -3,
          -2,
          -1,
          0,
          1,
          2,
          3,
          4,
          5,
          6,
          7,
          8,
          9,
          10,
          11,
          12,
          13,
          14,
          15,
          16,
          17,
          18,
          19,
          20
         ],
         "z": [
          [
           0,
           0.0012221917618194958,
           0.0002011745725990382,
           0.000018351236176295864,
           0.0002687574309525052,
           0.00014293871046854086,
           0.000030256625925405968,
           0.00025786149078663265,
           0.0001494494324966076,
           0.00004371579890589511,
           0.00026584441150507,
           0.00016119999977449906,
           0.00005752041838914714,
           0.0002775177261383621,
           0.000174261760661306,
           0.00007145905583454609,
           0.0002904097521346273,
           0.00018781244319025496,
           0.00008546385238214075,
           0.0003038239486577347,
           0.00020158948663252227,
           0.00020159880283323012,
           0.00030382613452927345,
           0.00008547349786095442,
           0.00018782588232020144,
           0.0002904152037113488,
           0.00007147135610145523,
           0.00017428208211195913,
           0.00027752922727548765,
           0.00005753673197108927,
           0.0001612332895340989,
           0.00026586879996029153,
           0.000043738909687748036,
           0.0001495124728367848,
           0.0002579207320823674,
           0.000030293904669877906,
           0.00014310171327302511,
           0.00026897420221946047,
           0.000018439127587857066,
           0.00020246027277425507,
           0.001231963348901465
          ],
          [
           0.006941432321598106,
           0.0013291626594612023,
           0.00003809013217052806,
           0.00005042290790266694,
           0.00017969857048403347,
           0.00008005705105604033,
           0.00003385926499216203,
           0.00004308747842865681,
           0.00011900206782462238,
           0.00011618601518198227,
           0.0001633117592527723,
           0.0003365470596015287,
           0.000014399555462619565,
           0.0002422942241317716,
           0.00004269537738797726,
           0.0000991162610728798,
           0.00009426457829890763,
           0.00003950968554175247,
           0.0002692256653144894,
           0.0001379837509430399,
           0.00030199280839832154,
           0.0003019953753197981,
           0.000137994611281106,
           0.00026923277043110536,
           0.00003951560211131704,
           0.00009427746677460018,
           0.00009913134905475892,
           0.000042704649854795,
           0.0002423131708926941,
           0.00001440419589531174,
           0.0003365477306767283,
           0.00016335263079675857,
           0.00011623128232588372,
           0.00011905990308989636,
           0.00004312302271724602,
           0.00003389737822185683,
           0.00008016654863836657,
           0.00017997059168019206,
           0.000050592022826918286,
           0.00003829572588590825,
           0.0013345928646164784
          ],
          [
           0.0008772826456302255,
           0.00006664836488011255,
           0.0009071657158334015,
           0.0004057413632086035,
           0.00004117447011494594,
           0.000189973595179572,
           0.00007034239563479429,
           0.0003078472993764974,
           0.0002860550826581724,
           0.00006952340146697322,
           0.0001371157868564277,
           0.00006503830227462326,
           0.00006057908808643141,
           0.0002597736745767724,
           0.0000792619930670942,
           0.00027391090582128233,
           0.0002230329039205364,
           0.0003052223921033914,
           0.00022063324334342224,
           0.0003264662800836426,
           0.00031309454844555235,
           0.0003130963069827699,
           0.0003264666602138732,
           0.00022064419346513506,
           0.00030522650264028234,
           0.00022304676296105034,
           0.0002739216215994481,
           0.00007927665148910674,
           0.00025979098313612473,
           0.00006059519703575151,
           0.00006505835708390774,
           0.00013715383977606517,
           0.00006955397226966536,
           0.0002861020999774004,
           0.0003079054716150887,
           0.00007040435869521864,
           0.0001901289922431361,
           0.000041242723308378615,
           0.0004061491978690969,
           0.0009075437033418398,
           0.0000667920279104924
          ],
          [
           0.00005956665379446758,
           0.0000987265077048195,
           0.0005281172015282985,
           0.0001954518030013049,
           0.00024025810825614475,
           0.00015490777249971591,
           0.000050770927953220236,
           0.0003676030577141738,
           0.00025774467957294936,
           0.00009481159126244097,
           0.00006022067410736983,
           0.000024136997136185593,
           0.00004591277200327395,
           0.0000649251098287353,
           0.0002934559940003625,
           0.0001968975206956336,
           0.00024303674509811883,
           0.00018230975984439603,
           0.00008809695933856665,
           0.00001726118539592898,
           0.00001464816336822528,
           0.00001464982760714859,
           0.000017263329776468764,
           0.00008810638127550176,
           0.00018232328544159944,
           0.0002430492442598363,
           0.0001969145592579093,
           0.00029346630064725637,
           0.00006493904209626995,
           0.0000459248974636254,
           0.000024144931995713347,
           0.000060241513591964816,
           0.00009484650777031147,
           0.000257798363707241,
           0.0003676372029478554,
           0.00005080975315980873,
           0.00015502041753761114,
           0.0002404361615623974,
           0.00019565362137872962,
           0.0005284356426603159,
           0.00009881080607123858
          ],
          [
           0.0007051204772453801,
           0.0003464721725713574,
           0.000059700455892574174,
           0.00027960679444935635,
           0.0004102206560425523,
           0.000417344643437474,
           0.00006196049926842306,
           0.0001470219550349793,
           0.0000615743564946681,
           0.0003099813768223287,
           0.0003078311977721268,
           0.0002687410564583237,
           0.00012020789715203868,
           0.000338384089793829,
           0.00019215416082646637,
           0.00030468258770158756,
           0.00017448019669294004,
           0.0003041792001877081,
           0.00012869003404879944,
           0.00008808480410350965,
           0.0002572929881430893,
           0.0002572999277401118,
           0.00008809305634611965,
           0.00012870121624294518,
           0.00030418445254169,
           0.00017449509660689473,
           0.0003046900438158181,
           0.0001921732191413913,
           0.00033838875474240265,
           0.000120230525055217,
           0.0002687652625276906,
           0.0003078537984798356,
           0.0003100107553202085,
           0.00006160071683792758,
           0.0001470794043546437,
           0.00006199724719192089,
           0.0004174103526517408,
           0.00041032903999346207,
           0.00027975304743224383,
           0.0000597430922475545,
           0.00034657297195260354
          ],
          [
           0.00032264150987977005,
           0.00014728522586101266,
           0.00028527461099139725,
           0.00019553135580039816,
           0.000460347810667203,
           0.0000612426409922563,
           0.0003253716102380919,
           0.000449941734869474,
           0.0001937224827929128,
           0.00002639545499188006,
           0.00007280594687129321,
           0.0003810493701585315,
           0.0003201480354320878,
           0.00019565969377971067,
           0.00013424062121969186,
           0.0001459469793748654,
           0.000161923355589276,
           0.00005802613868918413,
           0.00001416187677845685,
           0.00017057013284101481,
           0.0002991511136357286,
           0.00029915505219211305,
           0.00017058053054084133,
           0.000014163693594370653,
           0.00005803327132442147,
           0.0001619375904194778,
           0.0001459625834791353,
           0.00013425769099141284,
           0.00019568038196744465,
           0.0003201596022506355,
           0.0003810495570565013,
           0.00007282545515029184,
           0.00002640467802959567,
           0.00019376726649848345,
           0.0004499418152861026,
           0.00032542795973277913,
           0.00006127398990382054,
           0.00046040356340917393,
           0.00019560907106090704,
           0.0002853539294918029,
           0.00014731678608817083
          ],
          [
           0.00006110457647843674,
           0.00005917854225643607,
           0.00010592845126985351,
           0.00006672188430613644,
           0.00007263098066915209,
           0.0003484454751354825,
           0.0002604951704292816,
           0.0000860235173955051,
           0.00035198640096611853,
           0.00028827523306830045,
           0.00024383314612566161,
           0.00007431289505816565,
           0.0000842377812474915,
           0.00031466272971799366,
           0.0002689413118957576,
           0.00007313448808745428,
           0.0001022996172536296,
           0.00029021782205311764,
           0.00017185025432073488,
           0.0002904851136832001,
           0.0001109573255729137,
           0.00011096532737004537,
           0.0002904904518045212,
           0.00017186131135594085,
           0.0002902248416519183,
           0.00010231079473693287,
           0.00007314435817568382,
           0.0002689545667917014,
           0.0003146727093275002,
           0.00008425296251682258,
           0.00007432841278019686,
           0.0002438605290151932,
           0.00028830328296127107,
           0.00035200949023014524,
           0.00008605053443509568,
           0.00026054496542167444,
           0.0003484944031485384,
           0.00007265792806124251,
           0.00006674475192399782,
           0.0001059548514367025,
           0.000059187419728824906
          ],
          [
           0.0004780367615742646,
           0.000071796451687014,
           0.0004582143412559765,
           0.0004913775911900085,
           0.00017867667130945045,
           0.0005047589092312915,
           0.00009048215097071555,
           0.0004380306768351211,
           0.00038356390998423837,
           0.000027817495169350813,
           0.00015975697529968546,
           0.00028652377737369374,
           0.00004605459168412696,
           0.00037143707741292624,
           0.00009577922614187686,
           0.00017372023494303853,
           0.00031891917059949636,
           0.00017894615134384732,
           0.000053946934986477186,
           0.0001808704752444268,
           0.000058409017269214144,
           0.0000584139535610027,
           0.00018088007097233322,
           0.00005395241941849966,
           0.0001789577681772233,
           0.00031892425634876166,
           0.00017373446089914783,
           0.00009579142857130556,
           0.0003714379144557952,
           0.000046063007487624286,
           0.0002865415059051993,
           0.0001597811212923616,
           0.000027824564200192404,
           0.0003835771704100798,
           0.00043803562630320605,
           0.00009050602094041893,
           0.0005047589707703123,
           0.00017871357197008075,
           0.0004913950079592205,
           0.0004582354406113207,
           0.00007180334817134472
          ],
          [
           0.00025912838939777413,
           0.0001900690573171997,
           0.00041852158236136913,
           0.00034601996987042083,
           0.00007636678362932333,
           0.00022411209048540126,
           0.0003839709396528175,
           0.0003987238674899943,
           0.00016836781921750145,
           0.000018051128255878537,
           0.0002430682001683346,
           0.00037435582457978975,
           0.0001012105392816656,
           0.00005081353516540736,
           0.0002491471218268997,
           0.0002148005938860448,
           0.0001073871467254277,
           0.00034606108306265993,
           0.00019851697230685475,
           0.0003095496047846396,
           0.00021057581495650894,
           0.00021058384994881532,
           0.0003095534239105949,
           0.00019852682108965485,
           0.00034606249738786045,
           0.00010739717375032863,
           0.00021481344671822071,
           0.00024916008143086905,
           0.00005082103213819498,
           0.00010122436480933438,
           0.00037436001850608513,
           0.00024308934319403264,
           0.000018055113905831943,
           0.0001683929744615074,
           0.0003987357433668676,
           0.0003839891841796943,
           0.00022414263681066397,
           0.00007638178025384684,
           0.0003460439917015941,
           0.00041853635105233104,
           0.00019007863058192112
          ],
          [
           0.00007181555787735484,
           0.00017884905351539055,
           0.00009981255727580594,
           0.00012692716402798633,
           0.0003883543141374374,
           0.00003114411110519744,
           0.00032270365617532385,
           0.000029776736535678883,
           0.00001861368163066905,
           0.00034050009393518584,
           0.0003426351204426249,
           0.0003649695950593904,
           0.00008655066703003929,
           0.000157390398726406,
           0.00026132856365826954,
           0.0003384483275849927,
           0.00022088524119413965,
           0.000018667872581478433,
           0.0001190384082952262,
           0.0001270761611273054,
           0.0003151959374274419,
           0.0003151988460633246,
           0.00012708414114882618,
           0.00011904677723439788,
           0.00001866988356774449,
           0.00022089592130372274,
           0.00033845214002275147,
           0.00026133986980968866,
           0.00015740454879721,
           0.00008656170594982282,
           0.0003649749748899372,
           0.00034264539030377274,
           0.0003405126839547615,
           0.00001861729023513156,
           0.000029782463735667153,
           0.0003227236655437865,
           0.00003114976943408727,
           0.0003883692618676245,
           0.00012694102813781192,
           0.00009982099607807671,
           0.0001788555682177276
          ],
          [
           0.0004176451531528645,
           0.00024343520630088283,
           0.00019312833224195968,
           0.00008007815032717656,
           0.00038712314841808545,
           0.0000869426353744948,
           0.0002778988190024837,
           0.00017477655224861389,
           0.0002567232091726192,
           0.0003512659227846754,
           0.00009564770777066876,
           0.00014917952426241944,
           0.00013725467847384534,
           0.0003110862757330168,
           0.0003775246157396409,
           0.00030769702685324614,
           0.0003341653401402188,
           0.00022562110226265374,
           0.00004654808884126755,
           0.00015264741804015865,
           0.00013071949099757727,
           0.00013072655433655892,
           0.00015265541850886376,
           0.000046552068281163876,
           0.0002256300785306298,
           0.0003341687351223739,
           0.0003077034418068413,
           0.00037752465163416705,
           0.0003110943579532686,
           0.00013726759495705026,
           0.00014919381266108168,
           0.00009565942748404607,
           0.00035127530465592236,
           0.0002567406873791254,
           0.0001747943904346781,
           0.0002779165895368902,
           0.00008695348488256458,
           0.0003871335212555617,
           0.00008008556746736218,
           0.00019313767861527898,
           0.00024344039920962305
          ],
          [
           0.00024401500059390704,
           0.00048774314309096346,
           0.00008995418080414008,
           0.00003181737413300498,
           0.00033788188238031,
           0.0004580880262874698,
           0.00008573242739084496,
           0.00031851497777434776,
           0.0004027775194525253,
           0.00038170946171573844,
           0.00015228159403340158,
           0.0002626249896767815,
           0.0002803716880119723,
           0.00004660200511148245,
           0.00004042583592547907,
           0.0002242213876997485,
           0.00009629118248043688,
           0.00018950317834832444,
           0.00021881785459191872,
           0.00020808644173825628,
           0.00012867279455661866,
           0.0001286793966132669,
           0.00020809389830414078,
           0.00021882571322583242,
           0.00018951200756001798,
           0.00009629851322456637,
           0.00022423119417753224,
           0.00004043001222672577,
           0.00004660700061837664,
           0.0002803819015806199,
           0.00026263698934584793,
           0.00015229474483737304,
           0.0003817139834463672,
           0.00040278070649277356,
           0.0003185269992170152,
           0.00008574164931787634,
           0.0004580881211639627,
           0.00033789198054680905,
           0.000031819928146232025,
           0.00008995861008407407,
           0.00048774321931628134
          ],
          [
           0.00008436850641023093,
           0.000020364885882544534,
           0.0000823680209331664,
           0.000059941556075443024,
           0.0001507210749273359,
           0.0003860812542065886,
           0.00009795328557992366,
           0.00005179328109974233,
           0.00011045104038930433,
           0.0000919715056535143,
           0.00014249408287537094,
           0.0002852650990643736,
           0.00003172602051198959,
           0.0003511804602666191,
           0.0001439522126774195,
           0.00014817886422140622,
           0.00023312117974854293,
           0.00019716303741517386,
           0.00014208238025163403,
           0.00010672295846712846,
           0.00007816951970066083,
           0.00007817411714071641,
           0.00010672894206223853,
           0.00014208967146463926,
           0.00019717115635906496,
           0.00023312931170653314,
           0.00014818774593892847,
           0.00014396151483058066,
           0.00035118387881532485,
           0.00003172931411218083,
           0.0002852745591968381,
           0.00014250509123787247,
           0.0000919800920959499,
           0.00011046075332243169,
           0.000051798548565023065,
           0.00009796159504840782,
           0.00038608664677568564,
           0.00015072971367506327,
           0.00005994511310899679,
           0.00008237124904380918,
           0.000020365361935103716
          ],
          [
           0.0003961116375391918,
           0.0003352811987513933,
           0.0003476422941382714,
           0.00008392762039714365,
           0.00042242286052671937,
           0.000236108796703451,
           0.00036764438211477497,
           0.0004211248803513432,
           0.00005605002835836009,
           0.000169357079043889,
           0.00032742853454700957,
           0.0000481056119706418,
           0.0003563986576872522,
           0.0001945456079774467,
           0.00037718052875010746,
           0.00008763129617753134,
           0.00032735662939742204,
           0.00014554269597245108,
           0.000023490730808142264,
           0.00000762027918906672,
           0.00009476603075614045,
           0.00009477092908974548,
           0.000007620831819302674,
           0.00002349244386247274,
           0.00014554989228675487,
           0.000327359955263703,
           0.0000876373266043382,
           0.00037718083419858046,
           0.00019455494824560397,
           0.0003564018413263331,
           0.00004810992023458142,
           0.00032743494558494393,
           0.00016936731548391907,
           0.00005605492143512465,
           0.0004211253663405947,
           0.00036764943883467753,
           0.00023611770320159024,
           0.0004224245002311479,
           0.00008393137076088073,
           0.0003476454656229055,
           0.0003352829697681281
          ],
          [
           0.00024295069524582903,
           0.000057959033293478094,
           0.00010454519028007323,
           0.00037562035726147795,
           0.00023863141011059907,
           0.00016182010196154608,
           0.0003150285923896414,
           0.00010920157390471826,
           0.00027701683762402086,
           0.0002839649397172755,
           0.00040179592456851754,
           0.000042233500132912597,
           0.00014792931074830874,
           0.00038200994164593716,
           0.0003530048602267842,
           0.00036907594856684607,
           0.0002843887823589931,
           0.0002648903892682022,
           0.000048500982672662466,
           0.000054280778776989465,
           0.0002831131820431949,
           0.00028311708241130217,
           0.00005428394693305979,
           0.00004850400533161436,
           0.00026489596462113716,
           0.00028439401502212313,
           0.0003690764998279958,
           0.0003530070014273126,
           0.00038201022745066525,
           0.0001479374154487619,
           0.00004223686875716115,
           0.0004017959511900417,
           0.0002839725793754747,
           0.00027702472951271457,
           0.0001092081744779287,
           0.0003150348385224061,
           0.0001618269213847874,
           0.0002386376109817582,
           0.0003756229183853696,
           0.00010454766264112754,
           0.000057959828874257904
          ],
          [
           0.00009759407658492953,
           0.00013225743599033237,
           0.0003564597725259875,
           0.0002496477735904764,
           0.00037620441246743634,
           0.00017553982800100245,
           0.00008574745721278558,
           0.00019877662729226884,
           0.00024022224615440437,
           0.00037056103674621495,
           0.0003304149136983761,
           0.00023657408895470233,
           0.0001538857637848907,
           0.00008972809245608735,
           0.0003731904917665453,
           0.00013204069178632377,
           0.0003344498004798457,
           0.000012397253200865502,
           0.000009566025091181706,
           0.000006818339363433573,
           0.000013195993426919955,
           0.000013196768540237373,
           0.000006818765366585589,
           0.0000095666415907217,
           0.00001239807778959668,
           0.00033445221165910263,
           0.00013204698886765343,
           0.00037319100970905966,
           0.00008973339348041491,
           0.0001538930320847549,
           0.0002365815155044264,
           0.0003304193770823953,
           0.0003705634520514481,
           0.00024022957677895162,
           0.00019878382495373552,
           0.00008575180061354054,
           0.00017554563853949953,
           0.0003762066689161084,
           0.0002496517028083224,
           0.000356461445915144,
           0.00013225863186127742
          ],
          [
           0.0003894279072013445,
           0.00012386202484817904,
           0.0002867050032468594,
           0.0003053511754047878,
           0.00021416288641404888,
           0.00019417353060201947,
           0.00011990800763348247,
           0.0003656785273871222,
           0.00012059378065501657,
           0.00024324886943981263,
           0.0003613956328123311,
           0.00010242397490136536,
           0.00024424807325654327,
           0.0003383289691152697,
           0.00029033851121413375,
           0.00033772556724761605,
           0.0002882302888113582,
           0.000278815144845432,
           0.00003142561918908281,
           0.0003232412014400519,
           0.00006964958348983475,
           0.00006965276651795758,
           0.0003232432653784993,
           0.000031427370498894465,
           0.00027881942654865076,
           0.000288234503462922,
           0.0003377278409930303,
           0.0002903431470395408,
           0.0003383317253630452,
           0.0002442543452439861,
           0.00010242920495878225,
           0.00036139785677998735,
           0.00024325523484888104,
           0.0001205991554185742,
           0.00036568094276081165,
           0.00011991261815310932,
           0.00019417849105833203,
           0.00021416709866448793,
           0.0003053538629358333,
           0.0002867070173217772,
           0.00012386297374702567
          ],
          [
           0.0002478034961957743,
           0.00005120044224461719,
           0.0003879385626942869,
           0.00022708288813579468,
           0.00037111253252311875,
           0.00006934229556519867,
           0.00033977552435974937,
           0.00020538384537531162,
           0.00038969807068799545,
           0.000020647614256334918,
           0.00024537959262224137,
           0.0002029086362233218,
           0.00020810341273866156,
           0.0001516198373275052,
           0.00027268899611077556,
           0.00001262603150976326,
           0.00028123343743837625,
           0.0000730061388954372,
           0.00020627075435337565,
           0.00034757406338113293,
           0.00013927886192624254,
           0.00013928335715285766,
           0.00034757486192472687,
           0.00020627579899957184,
           0.00007300951575617153,
           0.00028123748820398656,
           0.000012626767110829071,
           0.0002726936682020191,
           0.00015162547711069954,
           0.00020810933247039689,
           0.00020291458838338076,
           0.0002453851455288147,
           0.00002064874525362662,
           0.00038969878541016833,
           0.00020538904100479366,
           0.000339778247649556,
           0.00006934463000966601,
           0.00037111392499923656,
           0.00022708561112029667,
           0.0003879391211245416,
           0.0000512008488289551
          ],
          [
           0.00011113902192550004,
           0.0003445154617835939,
           0.00027752506313760293,
           0.00010883976635171133,
           0.00015608088137696808,
           0.000016859840292853158,
           0.00020084635821376095,
           0.00006192429236179405,
           0.00022394358167372082,
           0.0001320797038075397,
           0.00005084669712734543,
           0.00023555313550173963,
           0.00015088819444087582,
           0.00002463669558810123,
           0.000050287590012094765,
           0.000009815400458945464,
           0.00003194088767757492,
           0.00020786618440880262,
           0.00022725940593433866,
           0.00011992397817432089,
           0.00024423882500628554,
           0.00024424267300043943,
           0.00011992801526161174,
           0.00022726384611586526,
           0.0002078709708731473,
           0.000031942459659162994,
           0.000009815922197805424,
           0.000050289992530798176,
           0.000024637968655434155,
           0.00015089323379481395,
           0.00023555815510169724,
           0.0000508490282325069,
           0.00013208415754201758,
           0.00022394828710931627,
           0.00006192660915357214,
           0.00020085040527186972,
           0.000016860400620326224,
           0.00015608367126580095,
           0.00010884154902987519,
           0.0002775264593399431,
           0.0003445159194512001
          ],
          [
           0.0003899438885285301,
           0.00017457135656152552,
           0.0004067126323689977,
           0.000021161602764679457,
           0.00010621416141942359,
           0.00020225954595155587,
           0.00033875309195589956,
           0.00020750029061404802,
           0.0003495192793485855,
           0.00014131293251803574,
           0.00016730252053771114,
           0.0002249640185384651,
           0.0001139121670270506,
           0.000008037458805871028,
           0.00005662668923983295,
           0.000007041557679682245,
           0.00033075251003905436,
           0.00035267042586699826,
           0.00012075631512957195,
           0.000016277072330117255,
           0.000022171290246173373,
           0.000022172233647534328,
           0.00001627779465572023,
           0.00012076015563359182,
           0.00035267114662267265,
           0.00033075427221944707,
           0.0000070419005510927385,
           0.00005662908368599127,
           0.000008037849206607108,
           0.00011391609685262921,
           0.00022496854227511948,
           0.0001673069693927188,
           0.00014131696117147667,
           0.000349521008950335,
           0.00020750412953227733,
           0.00033875494054335227,
           0.00020226257670441248,
           0.00010621610515168573,
           0.000021161985366386687,
           0.000406712678024049,
           0.00017457201477140337
          ],
          [
           0.00025568983044131806,
           0.0003780947289032028,
           0.00038660580509328223,
           0.000017827989779975598,
           0.000308496963037552,
           0.00035329816555686953,
           0.00012907653888925727,
           0.00006694026316813547,
           0.00023783697526543843,
           0.0003510209183404682,
           0.00014363004143387936,
           0.00013958394942680034,
           0.00008378220000570249,
           0.0001004305229530682,
           0.0002968995678184955,
           0.000013704758837829578,
           0.00007168932478693763,
           0.00014218279405253878,
           0.00024746113822167877,
           0.000022310145611262883,
           0.00016888288669114144,
           0.00016888666189495487,
           0.00002231104518568614,
           0.00024746462873716956,
           0.00014218666259146773,
           0.00007169191568389778,
           0.000013705353510962272,
           0.000296902377082962,
           0.00010043381971570625,
           0.000083785075635911,
           0.0001395877622605672,
           0.00014363377840081616,
           0.00035102231454634393,
           0.00023784043278758993,
           0.00006694213811188378,
           0.00012907916743832323,
           0.00035329925355303974,
           0.0003084985106272845,
           0.000017828270641738034,
           0.0003866060046705942,
           0.00037809487577960367
          ],
          [
           0.00015501902062289497,
           0.0002295177919774676,
           0.00023555942171642693,
           0.00001092885548287747,
           0.00019068368588539352,
           0.00022061991602987643,
           0.00008156930176937025,
           0.00004287021657775184,
           0.00015453350703283075,
           0.000231585976242111,
           0.00009627276774625454,
           0.0000950848462149292,
           0.00005800819651741546,
           0.00007066912917147966,
           0.0002122749159145453,
           0.000009952417253084042,
           0.00005285480039942773,
           0.00010637083313655585,
           0.0001877498025493383,
           0.000017155702403536994,
           0.00013153968205635217,
           0.00013154293159761083,
           0.000017156470804010835,
           0.00018775276011362982,
           0.0001063740835078841,
           0.00005285695828209757,
           0.000009952908069836102,
           0.00021227721293519124,
           0.00007067179913266542,
           0.000058010502923945235,
           0.00009508787460906866,
           0.00009627570724942823,
           0.00023158706410888425,
           0.0001545361764244499,
           0.00004287165163906531,
           0.00008157129760659854,
           0.00022062073625506536,
           0.00019068484543837184,
           0.000010929064887259558,
           0.00023555956996857677,
           0.00022951790084218136
          ],
          [
           0.00023025796640864122,
           0.00010323340999795337,
           0.0002415565693662681,
           0.000012657559721223806,
           0.00006414244492277389,
           0.000123594619471442,
           0.0002098568005325305,
           0.0001305191149063439,
           0.00022348855600332326,
           0.00009192965215044333,
           0.00011078758192508664,
           0.00015167640842464,
           0.00007819631451274843,
           0.000005616345017025899,
           0.000040263594376774094,
           0.000005092113554136721,
           0.00024311591157817508,
           0.0002633128898151998,
           0.00009151665614846517,
           0.000012512382504798868,
           0.000017274736925968975,
           0.000017275549125383243,
           0.000012512999367417869,
           0.00009151990808408296,
           0.0002633134946811699,
           0.00024311737656957513,
           0.000005092395836478706,
           0.00004026554576045185,
           0.000005616659869953265,
           0.00007819945028113448,
           0.00015167997934818967,
           0.00011079105602451751,
           0.0000919327647667804,
           0.00022348987856015895,
           0.0001305220216301105,
           0.00020985818748994772,
           0.00012359687477919446,
           0.0000641438811324071,
           0.00001265784080402511,
           0.00024155660276794122,
           0.00010323389025734643
          ],
          [
           0.00006372989196007146,
           0.000197893812813102,
           0.00016022815624407724,
           0.00006336115682792598,
           0.00009188508492799045,
           0.000010062541407332301,
           0.00012178537322406166,
           0.00003821126694117933,
           0.00014079982972174998,
           0.0000846804780213727,
           0.000033256964438319674,
           0.00015719188589316194,
           0.0001027177161427071,
           0.00001710230753696005,
           0.00003557751780047208,
           0.00000707245475578816,
           0.000023421996625398936,
           0.0001549956204200438,
           0.00017216549988410023,
           0.00009222435290608037,
           0.00019050253404841882,
           0.00019050584906078971,
           0.00009222780141630652,
           0.0001721692587430986,
           0.00015499963405648026,
           0.00002342330163675718,
           0.000007072883356603119,
           0.00003557946989429372,
           0.000017103330212686593,
           0.00010272171715841091,
           0.00015719582386860848,
           0.00003325877132571446,
           0.00008468388912378637,
           0.00014080339159079156,
           0.0000382130010790201,
           0.00012178837086988239,
           0.000010062952510858566,
           0.00009188711507018259,
           0.00006336244535628686,
           0.0001602291604320791,
           0.0001978941409674158
          ],
          [
           0.0001375133372056393,
           0.000028470669018957146,
           0.0002170259331877322,
           0.0001282885352316502,
           0.00021243710994979897,
           0.00004033654410119754,
           0.00020132261563416933,
           0.00012417740487398539,
           0.00024072644519063693,
           0.000013040813401720877,
           0.0001585067851531487,
           0.00013404565250880543,
           0.00014054438516706257,
           0.00010461880691786893,
           0.00019209001108980262,
           0.000009071871876599724,
           0.00020590716520152606,
           0.000054412440048401947,
           0.0001563397828691247,
           0.0002676293800562916,
           0.00010884228931944911,
           0.00010884616633588773,
           0.0002676300627001668,
           0.00015634405466461953,
           0.000054415270908357386,
           0.0002059105248977982,
           0.000009072475136985865,
           0.00019209379737947888,
           0.00010462332106501888,
           0.00014054906277607686,
           0.00013405029387579984,
           0.0001585110572962656,
           0.000013041671869867072,
           0.00024072698051585728,
           0.00012418124659350975,
           0.0002013246050113569,
           0.000040338230670087034,
           0.00021243810631860696,
           0.0001282904682968271,
           0.000217026327298698,
           0.000028470954922811496
          ],
          [
           0.0002082757754768026,
           0.00006640699312855705,
           0.000154829782391356,
           0.00016683918464300998,
           0.00011886009985258155,
           0.00010982836386162027,
           0.00006930092217127146,
           0.00021636339163761808,
           0.00007313590092926165,
           0.00015130347452010866,
           0.000230577558805762,
           0.00006700854478133626,
           0.00016374813255864529,
           0.0002322286291541892,
           0.0002038238554874271,
           0.00024220729440792266,
           0.00021091653592427364,
           0.00020792377321177984,
           0.000023854048974401332,
           0.0002494521263583753,
           0.000054584520042535284,
           0.0000545872700404624,
           0.00024945389309652405,
           0.000023855533305335332,
           0.00020792736382538795,
           0.00021092003042669908,
           0.00024220915698483107,
           0.00020382760468000516,
           0.0002322308283571188,
           0.000163753066720457,
           0.00006701259935949347,
           0.00023057925716283233,
           0.00015130826198408786,
           0.00007313988240398551,
           0.0002163651545602639,
           0.0000693042402395562,
           0.00010983188787405256,
           0.00011886305847870127,
           0.0001668410546968716,
           0.0001548311740326544,
           0.000066407645936716
          ],
          [
           0.000050056875525101396,
           0.00006803811499209578,
           0.00018499152890257562,
           0.00013140039494070305,
           0.00020176271388942728,
           0.00009629164611425619,
           0.000048248215226093644,
           0.00011495530290913042,
           0.00014294537962994646,
           0.00022697818416529436,
           0.00020828755928268712,
           0.0001533771518804499,
           0.00010250474077880233,
           0.00006133186437403556,
           0.0002613964015810044,
           0.00009463436408596854,
           0.00024490740552875515,
           0.000009261616065994619,
           0.000007280618724639465,
           0.000005279614572269585,
           0.000010382378460445642,
           0.000010383049698286866,
           0.000005279979965480784,
           0.000007281142076480878,
           0.000009262308295603829,
           0.0002449094055365088,
           0.00009463952045204401,
           0.0002613968198961777,
           0.00006133608343664476,
           0.00010251043666222113,
           0.0001533828780526901,
           0.0002082909432498148,
           0.00022697998406471707,
           0.0001429507484098748,
           0.0001149604848246362,
           0.00004825129123803277,
           0.000096295698820954,
           0.00020176426654701715,
           0.0001314030683630239,
           0.00018499265787649106,
           0.00006803891756260123
          ],
          [
           0.00011878965521335606,
           0.000028442736569318498,
           0.0000518595762456485,
           0.00018956537742403516,
           0.0001232005429022475,
           0.00008583889981693362,
           0.00017223927313636588,
           0.000061658132087839,
           0.00016167760922966874,
           0.00017132071246354008,
           0.00025042508035471174,
           0.000027161796139978463,
           0.00009802729936032954,
           0.0002603909193585942,
           0.0002470628257443189,
           0.00026474329438361716,
           0.0002086995776575729,
           0.00019852789623534564,
           0.00003706256227139055,
           0.00004222701353924676,
           0.00022389295035827849,
           0.00022389633844384113,
           0.00004222973859479238,
           0.00003706513445510923,
           0.00019853258573129245,
           0.0002087039236493274,
           0.0002647437460152163,
           0.00024706455426312364,
           0.0002603911464528752,
           0.00009803363095587856,
           0.000027164380998928214,
           0.00025042510040244127,
           0.000171326354055909,
           0.00016168332227908913,
           0.00006166281634447746,
           0.00017224362105207948,
           0.00008584356147486573,
           0.00012320471337445241,
           0.00018956707660199148,
           0.00005186119965181725,
           0.000028443255597852347
          ],
          [
           0.00018326674078582305,
           0.00015583436511803025,
           0.00016376127669819184,
           0.000040387368610695174,
           0.0002090294342343208,
           0.00012073848817713132,
           0.00019493434968714853,
           0.0002319470721580678,
           0.000032084559490946506,
           0.00010070643031604412,
           0.00020200443662134331,
           0.000030736786840110095,
           0.00023535294484658165,
           0.0001324794098464666,
           0.00026425995912378775,
           0.00006302571905482001,
           0.00024117081197392096,
           0.0001096110964106227,
           0.000018050990613748533,
           0.000005964303406056824,
           0.00007542810916412972,
           0.00007543238062958892,
           0.000005964780479678029,
           0.00001805245325576175,
           0.00010961716698633846,
           0.000241173580754956,
           0.00006303066744973967,
           0.0002642602058658867,
           0.00013248682699034607,
           0.0002353554268076482,
           0.00003074007976829336,
           0.0002020092347922592,
           0.00010071392413815207,
           0.00003208806069946565,
           0.0002319474119481967,
           0.0001949378054597866,
           0.00012074444410282654,
           0.00020903050930894031,
           0.00004038978673657975,
           0.0001637632955752251,
           0.00015583548346256978
          ],
          [
           0.00003659544727018991,
           0.00000888499733593628,
           0.000036552338663345914,
           0.00002732320617925217,
           0.0000711281870716955,
           0.00018969484774252265,
           0.000050277986180591006,
           0.00002781302854062011,
           0.00006204465686257908,
           0.00005397304146005033,
           0.00008717524545034297,
           0.00018146406455674848,
           0.000020924995536625133,
           0.00023946014346678336,
           0.00010118874700254125,
           0.00010708635855414738,
           0.0001727674088029329,
           0.0001494928430824886,
           0.00010998203558030624,
           0.000084175279568247,
           0.00006271189313847845,
           0.00006271592127556784,
           0.00008418046899019267,
           0.00010998828830254403,
           0.00014949971974398144,
           0.00017277420277563244,
           0.00010709366771374938,
           0.00010119627592795015,
           0.0002394628603166492,
           0.000020927561338376817,
           0.00018147127602117976,
           0.00008718344298543652,
           0.00005397927781058505,
           0.00006205152871866677,
           0.000027816655899242826,
           0.0000502835553621415,
           0.00018969836839130458,
           0.00007113369228724649,
           0.000027325426281625067,
           0.00003655432130990073,
           0.000008885286754060352
          ],
          [
           0.00009806416095120896,
           0.00019750340478049037,
           0.000037234534483223586,
           0.000013629973434170611,
           0.00015121938510921152,
           0.0002155297353926485,
           0.000042540598442740955,
           0.00016680145818918018,
           0.00022233920368587134,
           0.00022155035127643688,
           0.00009262830567706597,
           0.00016680154757524578,
           0.000185236291537903,
           0.00003190954847154784,
           0.000028588256153732307,
           0.00016323686272599704,
           0.00007195475481570172,
           0.00014496715562026773,
           0.00017095505848427152,
           0.00016567878855637292,
           0.000104210988763076,
           0.00010421680624635813,
           0.00016568529214359032,
           0.0001709618353052691,
           0.00014497467382399597,
           0.00007196090987360541,
           0.000163244968571678,
           0.000028591648587340947,
           0.00003191352855426267,
           0.00018524425630823718,
           0.00016681068637120007,
           0.00009263806484919344,
           0.00022155361375676046,
           0.00022234143498919148,
           0.00016680961274424913,
           0.00004254665493801954,
           0.0002155297957455597,
           0.00015122561886239783,
           0.000013631509202688087,
           0.00003723714357936199,
           0.00019750344908497528
          ],
          [
           0.0001531286929915002,
           0.00009016047929825522,
           0.00007363992899441973,
           0.0000319339791226546,
           0.0001632956690342724,
           0.0000390485699723929,
           0.0001332286073233722,
           0.00008937425662806356,
           0.00013962132214186753,
           0.00020232227627061267,
           0.000058060991938244695,
           0.00009496096415835729,
           0.00009117276813607085,
           0.00021465201864995432,
           0.0002694613853519902,
           0.00022632682349393388,
           0.00025245415204045086,
           0.00017455144645280634,
           0.00003678218782033193,
           0.00012292112110581183,
           0.00010705519718958997,
           0.00010706146291416995,
           0.00012292814662854078,
           0.000036785642940012815,
           0.00017455914170023585,
           0.00025245702129709043,
           0.0002263321588290246,
           0.00026946141467537474,
           0.00021465848774456596,
           0.00009118287344355732,
           0.0000949718606693006,
           0.000058069678461797495,
           0.00020232901433281437,
           0.00013963345019746834,
           0.00008938618531433804,
           0.00013324003952398268,
           0.00003905528177771396,
           0.00016330184883229382,
           0.000031938251649054715,
           0.00007364516990653362,
           0.00009016334078173826
          ],
          [
           0.000023532526785833248,
           0.000059424054467426465,
           0.00003450360466053971,
           0.000046589048446787845,
           0.00015339258877901564,
           0.00001332171140061985,
           0.0001496069528005373,
           0.000014914004327148333,
           0.000010016956273955599,
           0.0001955864723496268,
           0.00020862439032092746,
           0.00023399398867709413,
           0.00005806967635267919,
           0.00010989661795538316,
           0.00018896861260830344,
           0.0002523645056163086,
           0.0001692058874862432,
           0.000014643847815261121,
           0.00009535651457192594,
           0.00010370100001036548,
           0.00026148717674848664,
           0.0002614897769761589,
           0.00010370806377998533,
           0.00009536384061533285,
           0.0000146455862072327,
           0.00016921498925683736,
           0.0002523677024780643,
           0.00018897792020616585,
           0.00010990802475814495,
           0.00005807836469618458,
           0.00023399810906583765,
           0.00020863201612514198,
           0.0001955954997001184,
           0.00001001944448829511,
           0.00001491778684196651,
           0.0001496195688987044,
           0.000013325110847077712,
           0.00015340114975932308,
           0.00004659664709108567,
           0.00003450806629578394,
           0.000059427417895914175
          ],
          [
           0.00007375521180119721,
           0.000055181675511208384,
           0.00012848594187663535,
           0.00011536035539452814,
           0.000028069691290413566,
           0.0000912572034529927,
           0.00017273372488571547,
           0.0001967328722534859,
           0.00009026637859084683,
           0.000010412701603115372,
           0.0001494491082343781,
           0.00024323609216802668,
           0.00006896961568444903,
           0.000036079950215282284,
           0.00018330326004395542,
           0.00016296967641390392,
           0.0000836806460971404,
           0.00027601972513475667,
           0.0001615962361268152,
           0.0002565275501308428,
           0.00017728053841495068,
           0.0001772877850617685,
           0.00025653096211289525,
           0.00016160494101401674,
           0.0002760209600085527,
           0.00008368927939689605,
           0.0001629805667736353,
           0.00018331404009910547,
           0.00003608605486386949,
           0.00006898059926515542,
           0.0002432393300949573,
           0.00014946489992760954,
           0.00001041556671525945,
           0.00009028368448915309,
           0.00019674064526982611,
           0.00017274502237977363,
           0.00009127502099344862,
           0.00002807791761426994,
           0.00011537278290778235,
           0.00012849321343043295,
           0.000055186233714698476
          ],
          [
           0.00011344037332199353,
           0.000017551259941068133,
           0.00012160163191104414,
           0.00014660024764256678,
           0.00006085932985967989,
           0.00019630599009784526,
           0.00003979897923491057,
           0.00021495864942118578,
           0.0002069239277324577,
           0.00001626857413811255,
           0.0001000439278572193,
           0.00019009823516474822,
           0.00003208408823449726,
           0.00026969943510990945,
           0.00007203682819825958,
           0.00013464963001916968,
           0.0002536661262033788,
           0.00014554349130225554,
           0.000044734439341555096,
           0.00015253545779800768,
           0.00004999194052703269,
           0.000049996436809893405,
           0.0001525441210323577,
           0.00004473934094644014,
           0.00014555375374596897,
           0.000253670559279143,
           0.00013466183944222944,
           0.0000720471135248624,
           0.00026970012589707293,
           0.00003209086324233647,
           0.0001901120952127981,
           0.00010006216210006764,
           0.00001627369787666932,
           0.00020693308450347208,
           0.00021496187843171434,
           0.00003981356235815173,
           0.00019630602501795343,
           0.000060878667528185575,
           0.00014660867714736916,
           0.00012161115101017555,
           0.000017554221772539123
          ],
          [
           0.00001136145337728994,
           0.000011538327465463491,
           0.000023457049479460408,
           0.00001755267336270642,
           0.00002294833254593219,
           0.00013075729542162099,
           0.00011364769850592024,
           0.000042619586647324685,
           0.00019377643240390397,
           0.00017306483645708722,
           0.00015718005188810344,
           0.00005079448664588087,
           0.00006044005633107613,
           0.00023507559578786623,
           0.00020783650535288463,
           0.00005815579974233341,
           0.00008334665732802343,
           0.0002414104397461484,
           0.00014552603861551675,
           0.00024982290452479417,
           0.00009671894932393967,
           0.00009672631820690466,
           0.00024982778085152167,
           0.0001455360458348931,
           0.00024141672512531298,
           0.00008335654180994144,
           0.00005816440185352666,
           0.00020784786109416767,
           0.00023508397362161218,
           0.00006045249581248728,
           0.0000508068371337765,
           0.0001572010928137614,
           0.00017308548906411726,
           0.00019379257142936992,
           0.00004263731409405258,
           0.0001136779712617627,
           0.00013078447013344154,
           0.000022961832197540984,
           0.000017562936912806908,
           0.00002346773485463214,
           0.000011541656316338818
          ],
          [
           0.00004248780399150217,
           0.00002107283173419687,
           0.00005042291954722273,
           0.00004497449533103105,
           0.00013675280910608678,
           0.000022679572582912447,
           0.00014422559173997613,
           0.00023008713896860872,
           0.00011089002023284452,
           0.000016518789511075003,
           0.00004891640609896673,
           0.0002710400817099784,
           0.00023848911129607485,
           0.00015137130631587075,
           0.00010715218763883524,
           0.00011957338541167973,
           0.00013560422615249766,
           0.00004950660214095057,
           0.000012276094377127243,
           0.00014989232458852077,
           0.00026601589666132964,
           0.00026601956735491987,
           0.00014990194655296887,
           0.000012277761913153946,
           0.00004951308661759138,
           0.00013561702383629517,
           0.00011958723075227736,
           0.00010716709839191144,
           0.00015138904205263366,
           0.00023849880490006537,
           0.00027104023405755487,
           0.000048931773405459944,
           0.00001652575180550259,
           0.00011092206483493434,
           0.00023008719275248638,
           0.00014426017740966086,
           0.000022696847005152425,
           0.0001367797235947019,
           0.00004500667617482376,
           0.00005045096286858738,
           0.00002108266076585467
          ],
          [
           0.00005483020567828463,
           0.000031778585586443864,
           0.0000080288048241078,
           0.000057007362337905825,
           0.00011908888664343251,
           0.00015912963006441063,
           0.00002895848925986273,
           0.00007995571424658149,
           0.000037515580889389794,
           0.0002059081602427427,
           0.00021857551310786497,
           0.00020105174957232893,
           0.00009374336682465254,
           0.0002728697213198932,
           0.00015923996829021985,
           0.0002582479569675882,
           0.0001506932879947997,
           0.00026689832749428837,
           0.00011444347247791602,
           0.00007923848493146407,
           0.00023375648424087,
           0.00023376303568733365,
           0.00007924622944393413,
           0.00011445389457112072,
           0.00026690318355354094,
           0.0001507069336182718,
           0.000258254708878399,
           0.0001592569948511575,
           0.0002728738212342189,
           0.00009376285859270525,
           0.00020107208764994357,
           0.00021859391645724503,
           0.00020593114471847257,
           0.00003753516259382871,
           0.0000799955781025034,
           0.00002898177321236896,
           0.00015916647600760077,
           0.00011914049251832442,
           0.00005706369949477357,
           0.000008041601524848537,
           0.00003180262906754111
          ],
          [
           0.000001861475446269098,
           0.000004626942558069099,
           0.000053417587749566105,
           0.00003809267437236196,
           0.00007417912102339477,
           0.00006516934021918174,
           0.000026345533220863317,
           0.0002206890749603372,
           0.0001716836945932763,
           0.00006815035800723034,
           0.00004583268832022172,
           0.00001919331591933915,
           0.00003778184860142622,
           0.00005490291489082374,
           0.0002536751140314929,
           0.0001732947330598149,
           0.00021711135358853766,
           0.00016490305916568783,
           0.00008052808790298474,
           0.00001592019993216186,
           0.000013614526179389965,
           0.000013616118917754092,
           0.000015922242748141335,
           0.00008053701545420334,
           0.00016491579443317432,
           0.00021712303480235458,
           0.00017331051501209005,
           0.00025368455809273696,
           0.00005491551380919369,
           0.00003779263585956582,
           0.000019200231421372797,
           0.000045850379219817836,
           0.00006817899988603466,
           0.00017172576476895673,
           0.00022071421545687096,
           0.00002637172702310553,
           0.00006523634923029297,
           0.00007426709818498331,
           0.000038168351646626203,
           0.00005349814760158366,
           0.0000046403887792195574
          ],
          [
           0.0000036103473176098167,
           0.0000011871313143819616,
           0.0000831971582636446,
           0.00009330255649666083,
           0.000015693912171913484,
           0.00009713477384328975,
           0.0000431170351009688,
           0.00021241433146573267,
           0.00021400381775468321,
           0.00005508712011446506,
           0.00011332347483216218,
           0.00005548888627864223,
           0.000052967683420580344,
           0.0002315617137754798,
           0.00007175369544391295,
           0.00025109639528123604,
           0.00020657922453465587,
           0.0002851482073910698,
           0.00020761967315325095,
           0.00030910458091096293,
           0.00029800815106334103,
           0.0002980098582502622,
           0.00030910494877662583,
           0.0002076302310603097,
           0.00028515215351223764,
           0.0002065924607548789,
           0.0002511065662667,
           0.00007176750423349847,
           0.0002315778686809616,
           0.00005298254558289205,
           0.00005550711865437099,
           0.00011335741627388547,
           0.00005511370677624798,
           0.0002140433219865117,
           0.00021246089315329138,
           0.00004316323240963164,
           0.00009723869029714703,
           0.000015732184612232746,
           0.00009347143526101453,
           0.00008328731888696876,
           0.0000011999808949668747
          ],
          [
           2.3417948388789504e-14,
           0.000023582690779131096,
           0.000006715327951466321,
           0.000020093363768590715,
           0.0001028460231137732,
           0.000055234085459248104,
           0.000026016968237060142,
           0.00003541090332910164,
           0.00010226465889995995,
           0.00010299470966844327,
           0.00014805802019523013,
           0.00031026599480846336,
           0.0000134461851279342,
           0.00022853049676827873,
           0.00004059243323025519,
           0.00009484444808695712,
           0.00009068064676282797,
           0.0000381749678279564,
           0.0002610924445356248,
           0.0001342343305301817,
           0.00029457314260230335,
           0.00029457567149112707,
           0.00013424501283968045,
           0.00026109942007573607,
           0.00003818076365461468,
           0.00009069323896397196,
           0.00009485914248104321,
           0.000040601428918309296,
           0.0002285487902306689,
           0.000013450638711474884,
           0.0003102666339301638,
           0.0001480965565871232,
           0.00010303681937693015,
           0.00010231746685257281,
           0.00003544250064652621,
           0.00002604950988926468,
           0.00005532172851779638,
           0.00010304066560281087,
           0.00002019077981084724,
           0.000006788016170111378,
           0.000024068374351714335
          ]
         ]
        }
       ],
       "layout": {
        "autosize": false,
        "height": 600,
        "template": {
         "data": {
          "bar": [
           {
            "error_x": {
             "color": "#2a3f5f"
            },
            "error_y": {
             "color": "#2a3f5f"
            },
            "marker": {
             "line": {
              "color": "#E5ECF6",
              "width": 0.5
             },
             "pattern": {
              "fillmode": "overlay",
              "size": 10,
              "solidity": 0.2
             }
            },
            "type": "bar"
           }
          ],
          "barpolar": [
           {
            "marker": {
             "line": {
              "color": "#E5ECF6",
              "width": 0.5
             },
             "pattern": {
              "fillmode": "overlay",
              "size": 10,
              "solidity": 0.2
             }
            },
            "type": "barpolar"
           }
          ],
          "carpet": [
           {
            "aaxis": {
             "endlinecolor": "#2a3f5f",
             "gridcolor": "white",
             "linecolor": "white",
             "minorgridcolor": "white",
             "startlinecolor": "#2a3f5f"
            },
            "baxis": {
             "endlinecolor": "#2a3f5f",
             "gridcolor": "white",
             "linecolor": "white",
             "minorgridcolor": "white",
             "startlinecolor": "#2a3f5f"
            },
            "type": "carpet"
           }
          ],
          "choropleth": [
           {
            "colorbar": {
             "outlinewidth": 0,
             "ticks": ""
            },
            "type": "choropleth"
           }
          ],
          "contour": [
           {
            "colorbar": {
             "outlinewidth": 0,
             "ticks": ""
            },
            "colorscale": [
             [
              0,
              "#0d0887"
             ],
             [
              0.1111111111111111,
              "#46039f"
             ],
             [
              0.2222222222222222,
              "#7201a8"
             ],
             [
              0.3333333333333333,
              "#9c179e"
             ],
             [
              0.4444444444444444,
              "#bd3786"
             ],
             [
              0.5555555555555556,
              "#d8576b"
             ],
             [
              0.6666666666666666,
              "#ed7953"
             ],
             [
              0.7777777777777778,
              "#fb9f3a"
             ],
             [
              0.8888888888888888,
              "#fdca26"
             ],
             [
              1,
              "#f0f921"
             ]
            ],
            "type": "contour"
           }
          ],
          "contourcarpet": [
           {
            "colorbar": {
             "outlinewidth": 0,
             "ticks": ""
            },
            "type": "contourcarpet"
           }
          ],
          "heatmap": [
           {
            "colorbar": {
             "outlinewidth": 0,
             "ticks": ""
            },
            "colorscale": [
             [
              0,
              "#0d0887"
             ],
             [
              0.1111111111111111,
              "#46039f"
             ],
             [
              0.2222222222222222,
              "#7201a8"
             ],
             [
              0.3333333333333333,
              "#9c179e"
             ],
             [
              0.4444444444444444,
              "#bd3786"
             ],
             [
              0.5555555555555556,
              "#d8576b"
             ],
             [
              0.6666666666666666,
              "#ed7953"
             ],
             [
              0.7777777777777778,
              "#fb9f3a"
             ],
             [
              0.8888888888888888,
              "#fdca26"
             ],
             [
              1,
              "#f0f921"
             ]
            ],
            "type": "heatmap"
           }
          ],
          "heatmapgl": [
           {
            "colorbar": {
             "outlinewidth": 0,
             "ticks": ""
            },
            "colorscale": [
             [
              0,
              "#0d0887"
             ],
             [
              0.1111111111111111,
              "#46039f"
             ],
             [
              0.2222222222222222,
              "#7201a8"
             ],
             [
              0.3333333333333333,
              "#9c179e"
             ],
             [
              0.4444444444444444,
              "#bd3786"
             ],
             [
              0.5555555555555556,
              "#d8576b"
             ],
             [
              0.6666666666666666,
              "#ed7953"
             ],
             [
              0.7777777777777778,
              "#fb9f3a"
             ],
             [
              0.8888888888888888,
              "#fdca26"
             ],
             [
              1,
              "#f0f921"
             ]
            ],
            "type": "heatmapgl"
           }
          ],
          "histogram": [
           {
            "marker": {
             "pattern": {
              "fillmode": "overlay",
              "size": 10,
              "solidity": 0.2
             }
            },
            "type": "histogram"
           }
          ],
          "histogram2d": [
           {
            "colorbar": {
             "outlinewidth": 0,
             "ticks": ""
            },
            "colorscale": [
             [
              0,
              "#0d0887"
             ],
             [
              0.1111111111111111,
              "#46039f"
             ],
             [
              0.2222222222222222,
              "#7201a8"
             ],
             [
              0.3333333333333333,
              "#9c179e"
             ],
             [
              0.4444444444444444,
              "#bd3786"
             ],
             [
              0.5555555555555556,
              "#d8576b"
             ],
             [
              0.6666666666666666,
              "#ed7953"
             ],
             [
              0.7777777777777778,
              "#fb9f3a"
             ],
             [
              0.8888888888888888,
              "#fdca26"
             ],
             [
              1,
              "#f0f921"
             ]
            ],
            "type": "histogram2d"
           }
          ],
          "histogram2dcontour": [
           {
            "colorbar": {
             "outlinewidth": 0,
             "ticks": ""
            },
            "colorscale": [
             [
              0,
              "#0d0887"
             ],
             [
              0.1111111111111111,
              "#46039f"
             ],
             [
              0.2222222222222222,
              "#7201a8"
             ],
             [
              0.3333333333333333,
              "#9c179e"
             ],
             [
              0.4444444444444444,
              "#bd3786"
             ],
             [
              0.5555555555555556,
              "#d8576b"
             ],
             [
              0.6666666666666666,
              "#ed7953"
             ],
             [
              0.7777777777777778,
              "#fb9f3a"
             ],
             [
              0.8888888888888888,
              "#fdca26"
             ],
             [
              1,
              "#f0f921"
             ]
            ],
            "type": "histogram2dcontour"
           }
          ],
          "mesh3d": [
           {
            "colorbar": {
             "outlinewidth": 0,
             "ticks": ""
            },
            "type": "mesh3d"
           }
          ],
          "parcoords": [
           {
            "line": {
             "colorbar": {
              "outlinewidth": 0,
              "ticks": ""
             }
            },
            "type": "parcoords"
           }
          ],
          "pie": [
           {
            "automargin": true,
            "type": "pie"
           }
          ],
          "scatter": [
           {
            "marker": {
             "colorbar": {
              "outlinewidth": 0,
              "ticks": ""
             }
            },
            "type": "scatter"
           }
          ],
          "scatter3d": [
           {
            "line": {
             "colorbar": {
              "outlinewidth": 0,
              "ticks": ""
             }
            },
            "marker": {
             "colorbar": {
              "outlinewidth": 0,
              "ticks": ""
             }
            },
            "type": "scatter3d"
           }
          ],
          "scattercarpet": [
           {
            "marker": {
             "colorbar": {
              "outlinewidth": 0,
              "ticks": ""
             }
            },
            "type": "scattercarpet"
           }
          ],
          "scattergeo": [
           {
            "marker": {
             "colorbar": {
              "outlinewidth": 0,
              "ticks": ""
             }
            },
            "type": "scattergeo"
           }
          ],
          "scattergl": [
           {
            "marker": {
             "colorbar": {
              "outlinewidth": 0,
              "ticks": ""
             }
            },
            "type": "scattergl"
           }
          ],
          "scattermapbox": [
           {
            "marker": {
             "colorbar": {
              "outlinewidth": 0,
              "ticks": ""
             }
            },
            "type": "scattermapbox"
           }
          ],
          "scatterpolar": [
           {
            "marker": {
             "colorbar": {
              "outlinewidth": 0,
              "ticks": ""
             }
            },
            "type": "scatterpolar"
           }
          ],
          "scatterpolargl": [
           {
            "marker": {
             "colorbar": {
              "outlinewidth": 0,
              "ticks": ""
             }
            },
            "type": "scatterpolargl"
           }
          ],
          "scatterternary": [
           {
            "marker": {
             "colorbar": {
              "outlinewidth": 0,
              "ticks": ""
             }
            },
            "type": "scatterternary"
           }
          ],
          "surface": [
           {
            "colorbar": {
             "outlinewidth": 0,
             "ticks": ""
            },
            "colorscale": [
             [
              0,
              "#0d0887"
             ],
             [
              0.1111111111111111,
              "#46039f"
             ],
             [
              0.2222222222222222,
              "#7201a8"
             ],
             [
              0.3333333333333333,
              "#9c179e"
             ],
             [
              0.4444444444444444,
              "#bd3786"
             ],
             [
              0.5555555555555556,
              "#d8576b"
             ],
             [
              0.6666666666666666,
              "#ed7953"
             ],
             [
              0.7777777777777778,
              "#fb9f3a"
             ],
             [
              0.8888888888888888,
              "#fdca26"
             ],
             [
              1,
              "#f0f921"
             ]
            ],
            "type": "surface"
           }
          ],
          "table": [
           {
            "cells": {
             "fill": {
              "color": "#EBF0F8"
             },
             "line": {
              "color": "white"
             }
            },
            "header": {
             "fill": {
              "color": "#C8D4E3"
             },
             "line": {
              "color": "white"
             }
            },
            "type": "table"
           }
          ]
         },
         "layout": {
          "annotationdefaults": {
           "arrowcolor": "#2a3f5f",
           "arrowhead": 0,
           "arrowwidth": 1
          },
          "autotypenumbers": "strict",
          "coloraxis": {
           "colorbar": {
            "outlinewidth": 0,
            "ticks": ""
           }
          },
          "colorscale": {
           "diverging": [
            [
             0,
             "#8e0152"
            ],
            [
             0.1,
             "#c51b7d"
            ],
            [
             0.2,
             "#de77ae"
            ],
            [
             0.3,
             "#f1b6da"
            ],
            [
             0.4,
             "#fde0ef"
            ],
            [
             0.5,
             "#f7f7f7"
            ],
            [
             0.6,
             "#e6f5d0"
            ],
            [
             0.7,
             "#b8e186"
            ],
            [
             0.8,
             "#7fbc41"
            ],
            [
             0.9,
             "#4d9221"
            ],
            [
             1,
             "#276419"
            ]
           ],
           "sequential": [
            [
             0,
             "#0d0887"
            ],
            [
             0.1111111111111111,
             "#46039f"
            ],
            [
             0.2222222222222222,
             "#7201a8"
            ],
            [
             0.3333333333333333,
             "#9c179e"
            ],
            [
             0.4444444444444444,
             "#bd3786"
            ],
            [
             0.5555555555555556,
             "#d8576b"
            ],
            [
             0.6666666666666666,
             "#ed7953"
            ],
            [
             0.7777777777777778,
             "#fb9f3a"
            ],
            [
             0.8888888888888888,
             "#fdca26"
            ],
            [
             1,
             "#f0f921"
            ]
           ],
           "sequentialminus": [
            [
             0,
             "#0d0887"
            ],
            [
             0.1111111111111111,
             "#46039f"
            ],
            [
             0.2222222222222222,
             "#7201a8"
            ],
            [
             0.3333333333333333,
             "#9c179e"
            ],
            [
             0.4444444444444444,
             "#bd3786"
            ],
            [
             0.5555555555555556,
             "#d8576b"
            ],
            [
             0.6666666666666666,
             "#ed7953"
            ],
            [
             0.7777777777777778,
             "#fb9f3a"
            ],
            [
             0.8888888888888888,
             "#fdca26"
            ],
            [
             1,
             "#f0f921"
            ]
           ]
          },
          "colorway": [
           "#636efa",
           "#EF553B",
           "#00cc96",
           "#ab63fa",
           "#FFA15A",
           "#19d3f3",
           "#FF6692",
           "#B6E880",
           "#FF97FF",
           "#FECB52"
          ],
          "font": {
           "color": "#2a3f5f"
          },
          "geo": {
           "bgcolor": "white",
           "lakecolor": "white",
           "landcolor": "#E5ECF6",
           "showlakes": true,
           "showland": true,
           "subunitcolor": "white"
          },
          "hoverlabel": {
           "align": "left"
          },
          "hovermode": "closest",
          "mapbox": {
           "style": "light"
          },
          "paper_bgcolor": "white",
          "plot_bgcolor": "#E5ECF6",
          "polar": {
           "angularaxis": {
            "gridcolor": "white",
            "linecolor": "white",
            "ticks": ""
           },
           "bgcolor": "#E5ECF6",
           "radialaxis": {
            "gridcolor": "white",
            "linecolor": "white",
            "ticks": ""
           }
          },
          "scene": {
           "xaxis": {
            "backgroundcolor": "#E5ECF6",
            "gridcolor": "white",
            "gridwidth": 2,
            "linecolor": "white",
            "showbackground": true,
            "ticks": "",
            "zerolinecolor": "white"
           },
           "yaxis": {
            "backgroundcolor": "#E5ECF6",
            "gridcolor": "white",
            "gridwidth": 2,
            "linecolor": "white",
            "showbackground": true,
            "ticks": "",
            "zerolinecolor": "white"
           },
           "zaxis": {
            "backgroundcolor": "#E5ECF6",
            "gridcolor": "white",
            "gridwidth": 2,
            "linecolor": "white",
            "showbackground": true,
            "ticks": "",
            "zerolinecolor": "white"
           }
          },
          "shapedefaults": {
           "line": {
            "color": "#2a3f5f"
           }
          },
          "ternary": {
           "aaxis": {
            "gridcolor": "white",
            "linecolor": "white",
            "ticks": ""
           },
           "baxis": {
            "gridcolor": "white",
            "linecolor": "white",
            "ticks": ""
           },
           "bgcolor": "#E5ECF6",
           "caxis": {
            "gridcolor": "white",
            "linecolor": "white",
            "ticks": ""
           }
          },
          "title": {
           "x": 0.05
          },
          "xaxis": {
           "automargin": true,
           "gridcolor": "white",
           "linecolor": "white",
           "ticks": "",
           "title": {
            "standoff": 15
           },
           "zerolinecolor": "white",
           "zerolinewidth": 2
          },
          "yaxis": {
           "automargin": true,
           "gridcolor": "white",
           "linecolor": "white",
           "ticks": "",
           "title": {
            "standoff": 15
           },
           "zerolinecolor": "white",
           "zerolinewidth": 2
          }
         }
        },
        "width": 600,
        "xaxis": {
         "constrain": "domain"
        }
       }
      }
     },
     "metadata": {}
    }
   ],
   "metadata": {}
  }
 ],
 "metadata": {
  "orig_nbformat": 4,
  "language_info": {
   "name": "python",
   "version": "3.8.5",
   "mimetype": "text/x-python",
   "codemirror_mode": {
    "name": "ipython",
    "version": 3
   },
   "pygments_lexer": "ipython3",
   "nbconvert_exporter": "python",
   "file_extension": ".py"
  },
  "kernelspec": {
   "name": "python3",
   "display_name": "Python 3.8.5 64-bit ('base': conda)"
  },
  "interpreter": {
   "hash": "9615178fba751b4743b0cc83ec4ad046b4c617358a6c01c0a402618a15f80eef"
  }
 },
 "nbformat": 4,
 "nbformat_minor": 2
}