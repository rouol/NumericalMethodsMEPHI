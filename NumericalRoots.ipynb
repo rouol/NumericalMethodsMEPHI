{
 "cells": [
  {
   "cell_type": "code",
   "execution_count": 1,
   "source": [
    "import numpy as np\r\n",
    "import matplotlib.pyplot as plt\r\n",
    "%matplotlib inline\r\n",
    "import plotly.graph_objects as go\r\n",
    "import math"
   ],
   "outputs": [],
   "metadata": {}
  },
  {
   "cell_type": "code",
   "execution_count": 11,
   "source": [
    "def DichotomyRootFinder(f, a, b, eps=10e-4):\r\n",
    "    if np.sign(f(a)) == np.sign(f(b)):\r\n",
    "        raise Exception(\"The scalars a and b do not bound a root\")\r\n",
    "    m = (a + b)/2\r\n",
    "    if np.abs(f(m)) < eps:\r\n",
    "        return m\r\n",
    "    elif np.sign(f(a)) == np.sign(f(m)):\r\n",
    "        return DichotomyRootFinder(f, m, b, eps)\r\n",
    "    elif np.sign(f(b)) == np.sign(f(m)):\r\n",
    "        return DichotomyRootFinder(f, a, m, eps)"
   ],
   "outputs": [],
   "metadata": {}
  },
  {
   "cell_type": "code",
   "execution_count": 12,
   "source": [
    "DichotomyRootFinder(lambda x: x**2 - 2, -5, 0) - (-math.sqrt(2))"
   ],
   "outputs": [
    {
     "output_type": "execute_result",
     "data": {
      "text/plain": [
       "2.8992060595145475e-05"
      ]
     },
     "metadata": {},
     "execution_count": 12
    }
   ],
   "metadata": {}
  },
  {
   "cell_type": "code",
   "execution_count": 14,
   "source": [
    "def NewtonRootFinder(f, Df, x0, eps=10e-4, maxIterations=1000):\r\n",
    "    xn = x0\r\n",
    "    for n in range(0, maxIterations):\r\n",
    "        fxn = f(xn)\r\n",
    "        if abs(fxn) < eps:\r\n",
    "            return xn\r\n",
    "        Dfxn = Df(xn)\r\n",
    "        if Dfxn == 0:\r\n",
    "            return None\r\n",
    "        xn = xn - fxn/Dfxn\r\n",
    "    return None"
   ],
   "outputs": [],
   "metadata": {}
  },
  {
   "cell_type": "code",
   "execution_count": 18,
   "source": [
    "NewtonRootFinder(lambda x: x**2 - 2, lambda x: 2*x, -2) - (-math.sqrt(2))"
   ],
   "outputs": [
    {
     "output_type": "execute_result",
     "data": {
      "text/plain": [
       "-2.1239014147411694e-06"
      ]
     },
     "metadata": {},
     "execution_count": 18
    }
   ],
   "metadata": {}
  }
 ],
 "metadata": {
  "orig_nbformat": 4,
  "language_info": {
   "name": "python",
   "version": "3.8.8",
   "mimetype": "text/x-python",
   "codemirror_mode": {
    "name": "ipython",
    "version": 3
   },
   "pygments_lexer": "ipython3",
   "nbconvert_exporter": "python",
   "file_extension": ".py"
  },
  "kernelspec": {
   "name": "python3",
   "display_name": "Python 3.8.8 64-bit ('base': conda)"
  },
  "interpreter": {
   "hash": "59206fe869fb356e9438cc0195726b2dc6202c9e6c9a4f653345eafbf448f153"
  }
 },
 "nbformat": 4,
 "nbformat_minor": 2
}