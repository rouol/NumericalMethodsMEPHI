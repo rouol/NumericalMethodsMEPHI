{
 "cells": [
  {
   "cell_type": "code",
   "execution_count": 1,
   "metadata": {},
   "outputs": [],
   "source": [
    "import numpy as np\n",
    "import matplotlib.pyplot as plt\n",
    "import math\n",
    "from scipy.integrate import odeint\n",
    "import random"
   ]
  },
  {
   "cell_type": "code",
   "execution_count": null,
   "metadata": {},
   "outputs": [],
   "source": [
    "'''\n",
    "\n",
    "    u'' + p(x) * u' + q(x) * u = phi(x)\n",
    "    u(0) = u(l) = 0\n",
    "\n",
    "    apply u' = w\n",
    "    get system of ODEs:\n",
    "\n",
    "    u' = w\n",
    "    w' = -p(x) * w - q(x) * u + phi(x)\n",
    "\n",
    "'''"
   ]
  },
  {
   "cell_type": "code",
   "execution_count": 9,
   "metadata": {},
   "outputs": [],
   "source": [
    "p = lambda x: 1 / 2 / (1 + x)\n",
    "q = lambda x: -(1 + 2*x) / 2 / (1+x)\n",
    "phi = lambda x: (3 * math.cos(x) - (3 + 4 * x) * math.sin(x)) / 2 / math.sqrt(1 + x)\n",
    "l = 1"
   ]
  },
  {
   "cell_type": "code",
   "execution_count": 10,
   "metadata": {},
   "outputs": [],
   "source": [
    "# technical\n",
    "\n",
    "def ODEs(y, x, p, q, phi):\n",
    "    u, w = y\n",
    "    dydt = [w, -p(x) * w - q(x) * u + phi(x)]\n",
    "    return dydt\n",
    "\n",
    "def res(ODEs, a, b, n, p, q, phi, optimization_parameter):\n",
    "    print(optimization_parameter)\n",
    "    y0 = [1.0, optimization_parameter]\n",
    "    X = np.linspace(a, b, n)\n",
    "    sol = odeint(ODEs, y0, X, args=(p, q, phi))\n",
    "    #plt.plot(X, sol[:, 0], label='u(x)', linewidth=1.5)\n",
    "    return sol[-1]\n",
    "\n",
    "def opr(arr):\n",
    "    return (arr[0] - 2 * arr[1]) - 0.1704"
   ]
  },
  {
   "cell_type": "code",
   "execution_count": null,
   "metadata": {},
   "outputs": [],
   "source": [
    "'''\n",
    "\n",
    "    ищем с помощью прямой\n",
    "    прямую определяем по двум \"выстрелам\"\n",
    "    находим b1 и b2 случайно в общем-то\n",
    "    запускаем решение для них, получаем u1 и u2\n",
    "    таким образом есть СЛАУ\n",
    "    u1 = A * b1 + B\n",
    "    u2 = A * b2 + B\n",
    "    отсюда легко вывести\n",
    "    A = (u1 - u2) / (b1 - b2)\n",
    "    B = u1 - b1 * (u1 - u2) / (b1 - b2)\n",
    "    тогда мы знаем прямую, можем решить уравнение\n",
    "    u = 0 = A * b + B\n",
    "    получаем\n",
    "    b = - B / A = b1 - u1 * (b1 - b2) / (u1 - u2)\n",
    "\n",
    "'''"
   ]
  },
  {
   "cell_type": "code",
   "execution_count": 6,
   "metadata": {},
   "outputs": [
    {
     "name": "stdout",
     "output_type": "stream",
     "text": [
      "-3\n",
      "-9\n",
      "3.9501011057208046e-05\n"
     ]
    },
    {
     "data": {
      "text/plain": [
       "(-3.321997310568037e-08, 3.9501011057208046e-05)"
      ]
     },
     "execution_count": 6,
     "metadata": {},
     "output_type": "execute_result"
    }
   ],
   "source": [
    "optF = lambda opt_param: opr(res(ODEs, 0, l, 1001, p, q, phi, opt_param))\n",
    "b1 = random.randrange(-10, 10)\n",
    "b2 = random.randrange(-10, 10)\n",
    "u1 = optF(b1)\n",
    "u2 = optF(b2)\n",
    "b = b1 - u1 * (b1 - b2) / (u1 - u2)\n",
    "optF(b), b"
   ]
  },
  {
   "cell_type": "markdown",
   "metadata": {},
   "source": [
    "проверка"
   ]
  },
  {
   "cell_type": "code",
   "execution_count": 14,
   "metadata": {},
   "outputs": [
    {
     "data": {
      "image/png": "[encoded data removed]",
      "text/plain": [
       "<Figure size 432x288 with 1 Axes>"
      ]
     },
     "metadata": {
      "needs_background": "light"
     },
     "output_type": "display_data"
    },
    {
     "data": {
      "image/png": "[encoded data removed]",
      "text/plain": [
       "<Figure size 432x288 with 1 Axes>"
      ]
     },
     "metadata": {
      "needs_background": "light"
     },
     "output_type": "display_data"
    }
   ],
   "source": [
    "xx = np.linspace(0, l, 1001)\n",
    "u0 = np.sqrt(1 + xx) * np.sin(xx) + np.exp(-xx)\n",
    "plt.plot(xx, u0, label = 'истинное решение')\n",
    "y0 = [1.0, b]\n",
    "X = np.linspace(0, l, 1001)\n",
    "sol = odeint(ODEs, y0, X, args=(p, q, phi))\n",
    "plt.plot(X, sol[:, 0], label='вычисленное решение', linewidth=1.5)\n",
    "plt.legend(loc='best')\n",
    "plt.xlabel('x')\n",
    "plt.grid()\n",
    "plt.show()\n",
    "\n",
    "plt.plot(X, sol[:, 0] - u0, label='разность', linewidth=1.5)\n",
    "plt.legend(loc='best')\n",
    "plt.xlabel('x')\n",
    "plt.grid()\n",
    "plt.show()"
   ]
  }
 ],
 "metadata": {
  "interpreter": {
   "hash": "6db5d7cb1296eed1987d6141ec7f95b372830d068ed6c78a14e6eb2584f3ea08"
  },
  "kernelspec": {
   "display_name": "Python 3.9.2 64-bit",
   "language": "python",
   "name": "python3"
  },
  "language_info": {
   "codemirror_mode": {
    "name": "ipython",
    "version": 3
   },
   "file_extension": ".py",
   "mimetype": "text/x-python",
   "name": "python",
   "nbconvert_exporter": "python",
   "pygments_lexer": "ipython3",
   "version": "3.8.5"
  },
  "orig_nbformat": 4
 },
 "nbformat": 4,
 "nbformat_minor": 2
}
